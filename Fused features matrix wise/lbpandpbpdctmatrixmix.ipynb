{
  "nbformat": 4,
  "nbformat_minor": 0,
  "metadata": {
    "colab": {
      "name": "lbpandpbpdctmatrixmix.ipynb",
      "provenance": []
    },
    "kernelspec": {
      "name": "python3",
      "display_name": "Python 3"
    },
    "accelerator": "GPU"
  },
  "cells": [
    {
      "cell_type": "code",
      "metadata": {
        "id": "U6XTBuFJKJx5",
        "colab_type": "code",
        "colab": {}
      },
      "source": [
        "import numpy as np\n",
        "import matplotlib.pyplot as plt\n",
        "import os\n",
        "import cv2\n",
        "from tqdm import tqdm"
      ],
      "execution_count": 0,
      "outputs": []
    },
    {
      "cell_type": "code",
      "metadata": {
        "id": "uGKZYEQ3K6Er",
        "colab_type": "code",
        "colab": {}
      },
      "source": [
        "DATADIR = '/content/drive/My Drive/UCmerced/UCMerced_LandUse/Images/'\n",
        "\n",
        "CATEGORIES = [ 'agricultural',  'airplane',    'baseballdiamond', 'beach',   'buildings',          'chaparral',         'denseresidential',\n",
        "                'forest',        'freeway',     'golfcourse',      'harbor',  'intersection',       'mediumresidential', 'mobilehomepark',\n",
        "                'overpass',      'parkinglot',  'river',           'runway',  'sparseresidential',  'storagetanks',      'tenniscourt' ]\n"
      ],
      "execution_count": 0,
      "outputs": []
    },
    {
      "cell_type": "code",
      "metadata": {
        "id": "3_lvRPTUK8Ca",
        "colab_type": "code",
        "outputId": "1b0d0601-86fa-4381-fd96-f039a67d4f88",
        "colab": {
          "base_uri": "https://localhost:8080/",
          "height": 122
        }
      },
      "source": [
        "from google.colab import drive\n",
        "drive.mount('/content/drive')\n"
      ],
      "execution_count": 0,
      "outputs": [
        {
          "output_type": "stream",
          "text": [
            "Go to this URL in a browser: https://accounts.google.com/o/oauth2/auth?client_id=947318989803-6bn6qk8qdgf4n4g3pfee6491hc0brc4i.apps.googleusercontent.com&redirect_uri=urn%3aietf%3awg%3aoauth%3a2.0%3aoob&response_type=code&scope=email%20https%3a%2f%2fwww.googleapis.com%2fauth%2fdocs.test%20https%3a%2f%2fwww.googleapis.com%2fauth%2fdrive%20https%3a%2f%2fwww.googleapis.com%2fauth%2fdrive.photos.readonly%20https%3a%2f%2fwww.googleapis.com%2fauth%2fpeopleapi.readonly\n",
            "\n",
            "Enter your authorization code:\n",
            "··········\n",
            "Mounted at /content/drive\n"
          ],
          "name": "stdout"
        }
      ]
    },
    {
      "cell_type": "code",
      "metadata": {
        "id": "pcg3TyyLLPki",
        "colab_type": "code",
        "outputId": "a032897e-9b75-487e-9d2a-847fd82bbdfb",
        "colab": {
          "base_uri": "https://localhost:8080/",
          "height": 80
        }
      },
      "source": [
        "from PIL import Image #import Python Image Library\n",
        "import numpy as np\n",
        "import os\n",
        "import glob\n",
        "import re\n",
        "import keras\n",
        "from keras.models import Sequential\n",
        "from keras.layers import Dense, Dropout, Activation, Flatten\n",
        "from keras.layers import Conv2D, MaxPooling2D\n",
        "from keras.utils import np_utils\n",
        "from keras import backend as K"
      ],
      "execution_count": 0,
      "outputs": [
        {
          "output_type": "stream",
          "text": [
            "Using TensorFlow backend.\n"
          ],
          "name": "stderr"
        },
        {
          "output_type": "display_data",
          "data": {
            "text/html": [
              "<p style=\"color: red;\">\n",
              "The default version of TensorFlow in Colab will soon switch to TensorFlow 2.x.<br>\n",
              "We recommend you <a href=\"https://www.tensorflow.org/guide/migrate\" target=\"_blank\">upgrade</a> now \n",
              "or ensure your notebook will continue to use TensorFlow 1.x via the <code>%tensorflow_version 1.x</code> magic:\n",
              "<a href=\"https://colab.research.google.com/notebooks/tensorflow_version.ipynb\" target=\"_blank\">more info</a>.</p>\n"
            ],
            "text/plain": [
              "<IPython.core.display.HTML object>"
            ]
          },
          "metadata": {
            "tags": []
          }
        }
      ]
    },
    {
      "cell_type": "code",
      "metadata": {
        "id": "dOkVtQX9tksZ",
        "colab_type": "code",
        "colab": {}
      },
      "source": [
        "path = os.path.abspath('.cnn.py')"
      ],
      "execution_count": 0,
      "outputs": []
    },
    {
      "cell_type": "code",
      "metadata": {
        "id": "IrBvPAUgtyYU",
        "colab_type": "code",
        "colab": {}
      },
      "source": [
        "path = re.sub('[a-zA-Z\\s._]+$', '', path) #remove unintended file"
      ],
      "execution_count": 0,
      "outputs": []
    },
    {
      "cell_type": "code",
      "metadata": {
        "id": "du-5slc1t9cI",
        "colab_type": "code",
        "outputId": "5490c88b-cdf3-4e18-a180-972cf33aea2d",
        "colab": {
          "base_uri": "https://localhost:8080/",
          "height": 51
        }
      },
      "source": [
        "img_rows = 256\n",
        "img_cols = 256\n",
        "num_class = 21\n",
        "path = os.path.abspath('.cnn.py') #absolute path of program\n",
        "path = re.sub('[a-zA-Z\\s._]+$', '', path) #remove unintended file\n",
        "x_train = []\n",
        "y_train = []\n",
        "x_test = []\n",
        "y_test = []\n",
        "dirs = os.listdir(path+'/drive/My Drive/ucmerced/UCMerced_LandUse/Images/')\n",
        "dirs=dirs[:-1]\n",
        "print(len(dirs))\n",
        "'''\n",
        "\n",
        "'''"
      ],
      "execution_count": 0,
      "outputs": [
        {
          "output_type": "stream",
          "text": [
            "21\n"
          ],
          "name": "stdout"
        },
        {
          "output_type": "execute_result",
          "data": {
            "text/plain": [
              "'\\n\\n'"
            ]
          },
          "metadata": {
            "tags": []
          },
          "execution_count": 7
        }
      ]
    },
    {
      "cell_type": "code",
      "metadata": {
        "id": "jHP3P0mVt_mj",
        "colab_type": "code",
        "colab": {}
      },
      "source": [
        "label = 0\n",
        "for i in dirs:\n",
        "\tn = 0\n",
        "\tcount = 0\n",
        "\tfor pic in glob.glob(path+'/drive/My Drive/ucmerced/UCMerced_LandUse/Images/'+i+'/*.tif'):\n",
        "\t\tim = Image.open(pic)\n",
        "\t\tim = np.array(im)\n",
        "\t\tif((im.shape[0]==256) and (im.shape[1] ==256) and count <90): #get only 90 data\n",
        "\t\t\tr = im[:,:,0]\n",
        "\t\t\tg = im[:,:,1]\n",
        "\t\t\tb = im[:,:,2]\n",
        "\t\t\t#if(n<5): # 5 data in beginning set as test data\n",
        "\t\t\t#\tx_test.append([r,g,b])\n",
        "\t\t\t#\ty_test.append([label])\n",
        "\t\t\t#else: #remaining data set as training data\n",
        "\t\t\tx_train.append([r,g,b])\n",
        "\t\t\ty_train.append([label])\n",
        "\t\t\tn = n + 1\n",
        "\t\t\tcount = count + 1\n",
        "\t\t#print(count)\n",
        "\tlabel = label + 1"
      ],
      "execution_count": 0,
      "outputs": []
    },
    {
      "cell_type": "code",
      "metadata": {
        "id": "7G3w1k77CUKV",
        "colab_type": "code",
        "colab": {}
      },
      "source": [
        ""
      ],
      "execution_count": 0,
      "outputs": []
    },
    {
      "cell_type": "code",
      "metadata": {
        "id": "AMZAp5chmGL1",
        "colab_type": "code",
        "colab": {}
      },
      "source": [
        "xtrainlist=x_train\n",
        "y_trainlsit=y_train"
      ],
      "execution_count": 0,
      "outputs": []
    },
    {
      "cell_type": "code",
      "metadata": {
        "id": "MyCeqeNUuB8C",
        "colab_type": "code",
        "colab": {}
      },
      "source": [
        "x_train = np.array(x_train)\n",
        "y_train = np.array(y_train)"
      ],
      "execution_count": 0,
      "outputs": []
    },
    {
      "cell_type": "code",
      "metadata": {
        "id": "5F8fE3vuuGf6",
        "colab_type": "code",
        "outputId": "872a2750-59ef-4d35-cdac-2841c9eb9bab",
        "colab": {
          "base_uri": "https://localhost:8080/",
          "height": 34
        }
      },
      "source": [
        "x_train.shape\n",
        "y_train.shape"
      ],
      "execution_count": 0,
      "outputs": [
        {
          "output_type": "execute_result",
          "data": {
            "text/plain": [
              "(1890, 1)"
            ]
          },
          "metadata": {
            "tags": []
          },
          "execution_count": 11
        }
      ]
    },
    {
      "cell_type": "code",
      "metadata": {
        "id": "xxERR1FON181",
        "colab_type": "code",
        "colab": {}
      },
      "source": [
        "from sklearn.model_selection import train_test_split\n",
        "X_train, X_test, y_train, y_test = train_test_split(x_train, y_train, test_size=0.2, random_state = 142)"
      ],
      "execution_count": 0,
      "outputs": []
    },
    {
      "cell_type": "code",
      "metadata": {
        "id": "Bayy9kykN21H",
        "colab_type": "code",
        "outputId": "0170ff4d-d588-4a74-b73a-4533cb5b8986",
        "colab": {
          "base_uri": "https://localhost:8080/",
          "height": 187
        }
      },
      "source": [
        "y_train[0:10]"
      ],
      "execution_count": 0,
      "outputs": [
        {
          "output_type": "execute_result",
          "data": {
            "text/plain": [
              "array([[17],\n",
              "       [20],\n",
              "       [18],\n",
              "       [16],\n",
              "       [ 8],\n",
              "       [ 4],\n",
              "       [ 5],\n",
              "       [10],\n",
              "       [16],\n",
              "       [16]])"
            ]
          },
          "metadata": {
            "tags": []
          },
          "execution_count": 13
        }
      ]
    },
    {
      "cell_type": "code",
      "metadata": {
        "id": "sXbP5hX-N-13",
        "colab_type": "code",
        "colab": {}
      },
      "source": [
        "x_trainbck=X_train\n",
        "x_testbck=X_test\n"
      ],
      "execution_count": 0,
      "outputs": []
    },
    {
      "cell_type": "code",
      "metadata": {
        "id": "8uRcRo8oN_YD",
        "colab_type": "code",
        "colab": {}
      },
      "source": [
        "x_train=np.array(X_train)\n",
        "x_test=np.array(X_test)"
      ],
      "execution_count": 0,
      "outputs": []
    },
    {
      "cell_type": "code",
      "metadata": {
        "id": "gPeD14S52Ii1",
        "colab_type": "code",
        "outputId": "91c3cee5-b081-4c69-8b42-149382c165dd",
        "colab": {
          "base_uri": "https://localhost:8080/",
          "height": 34
        }
      },
      "source": [
        "x_train.shape"
      ],
      "execution_count": 0,
      "outputs": [
        {
          "output_type": "execute_result",
          "data": {
            "text/plain": [
              "(1512, 3, 256, 256)"
            ]
          },
          "metadata": {
            "tags": []
          },
          "execution_count": 16
        }
      ]
    },
    {
      "cell_type": "code",
      "metadata": {
        "id": "AK0ElV4P2Vd1",
        "colab_type": "code",
        "colab": {}
      },
      "source": [
        "x_train_temp=x_train"
      ],
      "execution_count": 0,
      "outputs": []
    },
    {
      "cell_type": "code",
      "metadata": {
        "id": "MIUMrLXI2XzE",
        "colab_type": "code",
        "colab": {}
      },
      "source": [
        "x_train = x_train.reshape(x_train.shape[0], img_rows, img_cols, 3)\n",
        "x_test = x_test.reshape(x_test.shape[0], img_rows, img_cols, 3)\n",
        "\n",
        "input_shape = (img_rows, img_cols, 3)\n",
        "\n",
        "x_train = x_train.astype('float32')\n",
        "x_test = x_test.astype('float32')\n",
        "x_train /= 255\n",
        "x_test /= 255\n",
        "y_train = keras.utils.to_categorical(y_train, 21)\n",
        "y_test = keras.utils.to_categorical(y_test, 21)"
      ],
      "execution_count": 0,
      "outputs": []
    },
    {
      "cell_type": "code",
      "metadata": {
        "id": "M_sSBdu3MkCO",
        "colab_type": "code",
        "colab": {}
      },
      "source": [
        "from skimage import feature\n",
        "import numpy as np\n",
        " \n",
        "class LocalBinaryPatterns:\n",
        "  def __init__(self, numPoints, radius):\n",
        "# store the number of points and radius\n",
        "    self.numPoints = numPoints\n",
        "    self.radius = radius\n",
        "  def describe(self, image, eps=1e-7):\n",
        "\t\t# compute the Local Binary Pattern representation\n",
        "\t\t# of the image, and then use the LBP representation\n",
        "\t\t# to build the histogram of patterns\n",
        "    lbp = feature.local_binary_pattern(image, self.numPoints,\n",
        "    self.radius, method=\"uniform\")\n",
        "    return lbp "
      ],
      "execution_count": 0,
      "outputs": []
    },
    {
      "cell_type": "code",
      "metadata": {
        "id": "H1P675PxMoG1",
        "colab_type": "code",
        "colab": {}
      },
      "source": [
        "desc = LocalBinaryPatterns(24, 8)"
      ],
      "execution_count": 0,
      "outputs": []
    },
    {
      "cell_type": "code",
      "metadata": {
        "colab_type": "code",
        "id": "M-FBpfkPoBj2",
        "colab": {}
      },
      "source": [
        "x_train_lbp=[]\n"
      ],
      "execution_count": 0,
      "outputs": []
    },
    {
      "cell_type": "code",
      "metadata": {
        "colab_type": "code",
        "id": "Irk2m81xoBj6",
        "colab": {}
      },
      "source": [
        "for i in x_train:\n",
        "  gray = cv2.cvtColor(i, cv2.COLOR_BGR2GRAY)\n",
        "  hist = desc.describe(gray)\n",
        "  x_train_lbp.append(hist)"
      ],
      "execution_count": 0,
      "outputs": []
    },
    {
      "cell_type": "code",
      "metadata": {
        "colab_type": "code",
        "id": "zhHkMm0poBj8",
        "colab": {}
      },
      "source": [
        "x_train_lbp=np.array(x_train_lbp)"
      ],
      "execution_count": 0,
      "outputs": []
    },
    {
      "cell_type": "code",
      "metadata": {
        "colab_type": "code",
        "outputId": "acb68488-f993-489c-8798-0d7571c5e983",
        "id": "2oOUAnXZoBj-",
        "colab": {
          "base_uri": "https://localhost:8080/",
          "height": 34
        }
      },
      "source": [
        "x_train_lbp.shape"
      ],
      "execution_count": 0,
      "outputs": [
        {
          "output_type": "execute_result",
          "data": {
            "text/plain": [
              "(1512, 256, 256)"
            ]
          },
          "metadata": {
            "tags": []
          },
          "execution_count": 24
        }
      ]
    },
    {
      "cell_type": "code",
      "metadata": {
        "colab_type": "code",
        "id": "3856zlQfoBkD",
        "colab": {}
      },
      "source": [
        "x_test_lbp=[]\n"
      ],
      "execution_count": 0,
      "outputs": []
    },
    {
      "cell_type": "code",
      "metadata": {
        "colab_type": "code",
        "id": "PxyGSAgGoBkF",
        "colab": {}
      },
      "source": [
        "for i in x_test:\n",
        "  gray = cv2.cvtColor(i, cv2.COLOR_BGR2GRAY)\n",
        "  hist = desc.describe(gray)\n",
        "  x_test_lbp.append(hist)"
      ],
      "execution_count": 0,
      "outputs": []
    },
    {
      "cell_type": "code",
      "metadata": {
        "colab_type": "code",
        "id": "3eS5M8TvoBkH",
        "colab": {}
      },
      "source": [
        "x_test_lbp=np.array(x_test_lbp)"
      ],
      "execution_count": 0,
      "outputs": []
    },
    {
      "cell_type": "code",
      "metadata": {
        "colab_type": "code",
        "outputId": "6802911c-e318-45eb-8f46-32a1e047cc66",
        "id": "hmGlLqVyoBkJ",
        "colab": {
          "base_uri": "https://localhost:8080/",
          "height": 34
        }
      },
      "source": [
        "x_test_lbp.shape"
      ],
      "execution_count": 0,
      "outputs": [
        {
          "output_type": "execute_result",
          "data": {
            "text/plain": [
              "(378, 256, 256)"
            ]
          },
          "metadata": {
            "tags": []
          },
          "execution_count": 28
        }
      ]
    },
    {
      "cell_type": "code",
      "metadata": {
        "id": "9fd29T8UPzXU",
        "colab_type": "code",
        "outputId": "e479a85b-9460-4ba8-a547-9c4eec8cd9e8",
        "colab": {
          "base_uri": "https://localhost:8080/",
          "height": 34
        }
      },
      "source": [
        "x_train_lbp.shape"
      ],
      "execution_count": 0,
      "outputs": [
        {
          "output_type": "execute_result",
          "data": {
            "text/plain": [
              "(1512, 256, 256)"
            ]
          },
          "metadata": {
            "tags": []
          },
          "execution_count": 29
        }
      ]
    },
    {
      "cell_type": "code",
      "metadata": {
        "id": "LDiBbMOeP3H9",
        "colab_type": "code",
        "colab": {}
      },
      "source": [
        "x_train_lbp = x_train_lbp.reshape(x_train_lbp.shape[0], img_rows, img_cols, 1)\n",
        "x_test_lbp = x_test_lbp.reshape(x_test_lbp.shape[0], img_rows, img_cols, 1)\n",
        "\n",
        "input_shape2 = (img_rows, img_cols, 1)"
      ],
      "execution_count": 0,
      "outputs": []
    },
    {
      "cell_type": "code",
      "metadata": {
        "id": "dsRRO_pnziHF",
        "colab_type": "code",
        "colab": {}
      },
      "source": [
        "import time \n",
        "import cv2 \n",
        "from scipy.fftpack import dct \n",
        "import numpy as np\n",
        "#y = np.random.random((5000, 6, 6, 3))\n",
        "t1 = time.time()\n",
        "a = np.zeros((len(x_train_lbp), 256, 256, 1))\n",
        "for i in range(len(x_train_lbp)):\n",
        "    for j in range(1):\n",
        "        a[i, :, :, j] = cv2.dct(x_train_lbp[i, :, :, j])"
      ],
      "execution_count": 0,
      "outputs": []
    },
    {
      "cell_type": "code",
      "metadata": {
        "id": "cSgmPB272ppK",
        "colab_type": "code",
        "colab": {}
      },
      "source": [
        "x_dct=a"
      ],
      "execution_count": 0,
      "outputs": []
    },
    {
      "cell_type": "code",
      "metadata": {
        "id": "2tu0trGd2vUR",
        "colab_type": "code",
        "outputId": "a214899a-1cff-439c-af92-0a077909d0ad",
        "colab": {
          "base_uri": "https://localhost:8080/",
          "height": 34
        }
      },
      "source": [
        "x_dct.shape"
      ],
      "execution_count": 0,
      "outputs": [
        {
          "output_type": "execute_result",
          "data": {
            "text/plain": [
              "(1512, 256, 256, 1)"
            ]
          },
          "metadata": {
            "tags": []
          },
          "execution_count": 33
        }
      ]
    },
    {
      "cell_type": "code",
      "metadata": {
        "id": "FPWpyhvI25zr",
        "colab_type": "code",
        "colab": {}
      },
      "source": [
        "x_dct_final = np.random.random((len(x_dct), 32, 32, 1))"
      ],
      "execution_count": 0,
      "outputs": []
    },
    {
      "cell_type": "code",
      "metadata": {
        "id": "ahLIf23E3CDX",
        "colab_type": "code",
        "colab": {}
      },
      "source": [
        "for i in range(1512):\n",
        "  for j in range(32):\n",
        "    for k in range(32):\n",
        "      for l in range(1):\n",
        "        x_dct_final[i,j,k,l]=x_dct[i,j,k,l]"
      ],
      "execution_count": 0,
      "outputs": []
    },
    {
      "cell_type": "code",
      "metadata": {
        "id": "RxILPPu63lIr",
        "colab_type": "code",
        "outputId": "38d2d972-676f-4671-870c-f75805f9cafa",
        "colab": {
          "base_uri": "https://localhost:8080/",
          "height": 34
        }
      },
      "source": [
        "x_dct_final.shape"
      ],
      "execution_count": 0,
      "outputs": [
        {
          "output_type": "execute_result",
          "data": {
            "text/plain": [
              "(1512, 32, 32, 1)"
            ]
          },
          "metadata": {
            "tags": []
          },
          "execution_count": 36
        }
      ]
    },
    {
      "cell_type": "code",
      "metadata": {
        "id": "Wcqz-Ow23smK",
        "colab_type": "code",
        "colab": {}
      },
      "source": [
        "input_shape1 = (img_rows, img_cols, 3)\n",
        "input_shape2 = (32, 32, 1)\n",
        "input_shape3 = (img_rows, img_cols, 3)"
      ],
      "execution_count": 0,
      "outputs": []
    },
    {
      "cell_type": "code",
      "metadata": {
        "colab_type": "code",
        "id": "RjgFjvv8467J",
        "colab": {}
      },
      "source": [
        "\n",
        "#y = np.random.random((5000, 6, 6, 3))\n",
        "t1 = time.time()\n",
        "a1 = np.zeros((len(x_test_lbp), 256, 256, 1))\n",
        "for i in range(len(x_test_lbp)):\n",
        "    for j in range(1):\n",
        "        a1[i, :, :, j] = cv2.dct(x_test_lbp[i, :, :, j])"
      ],
      "execution_count": 0,
      "outputs": []
    },
    {
      "cell_type": "code",
      "metadata": {
        "colab_type": "code",
        "id": "2qaM98aE467R",
        "colab": {}
      },
      "source": [
        "x_dct_t=a1"
      ],
      "execution_count": 0,
      "outputs": []
    },
    {
      "cell_type": "code",
      "metadata": {
        "colab_type": "code",
        "outputId": "50c754ce-2c9a-469d-d366-38b33bf130de",
        "id": "egrGDl7Q467T",
        "colab": {
          "base_uri": "https://localhost:8080/",
          "height": 34
        }
      },
      "source": [
        "x_dct_t.shape"
      ],
      "execution_count": 0,
      "outputs": [
        {
          "output_type": "execute_result",
          "data": {
            "text/plain": [
              "(378, 256, 256, 1)"
            ]
          },
          "metadata": {
            "tags": []
          },
          "execution_count": 40
        }
      ]
    },
    {
      "cell_type": "code",
      "metadata": {
        "colab_type": "code",
        "id": "j7UNCpcA467W",
        "colab": {}
      },
      "source": [
        "x_dct_test = np.random.random((len(x_dct_t), 32, 32, 1))"
      ],
      "execution_count": 0,
      "outputs": []
    },
    {
      "cell_type": "code",
      "metadata": {
        "colab_type": "code",
        "id": "KPL0DfqD467Y",
        "colab": {}
      },
      "source": [
        "for i in range(378):\n",
        "  for j in range(32):\n",
        "    for k in range(32):\n",
        "      for l in range(1):\n",
        "        x_dct_test[i,j,k,l]=x_dct_t[i,j,k,l]"
      ],
      "execution_count": 0,
      "outputs": []
    },
    {
      "cell_type": "code",
      "metadata": {
        "id": "Zon2m9RTC5U0",
        "colab_type": "code",
        "colab": {}
      },
      "source": [
        ""
      ],
      "execution_count": 0,
      "outputs": []
    },
    {
      "cell_type": "code",
      "metadata": {
        "colab_type": "code",
        "outputId": "26cd2890-0a67-4e10-d49b-29892a3488c1",
        "id": "OJjzYWLi467c",
        "colab": {
          "base_uri": "https://localhost:8080/",
          "height": 34
        }
      },
      "source": [
        "x_dct_test.shape"
      ],
      "execution_count": 0,
      "outputs": [
        {
          "output_type": "execute_result",
          "data": {
            "text/plain": [
              "(378, 32, 32, 1)"
            ]
          },
          "metadata": {
            "tags": []
          },
          "execution_count": 43
        }
      ]
    },
    {
      "cell_type": "code",
      "metadata": {
        "colab_type": "code",
        "id": "-l8OZPmdUvIY",
        "colab": {}
      },
      "source": [
        "import time \n",
        "import cv2 \n",
        "from scipy.fftpack import dct \n",
        "import numpy as np\n",
        "#y = np.random.random((5000, 6, 6, 3))\n",
        "t1 = time.time()\n",
        "a11 = np.zeros((len(x_train), 256, 256, 3))\n",
        "for i in range(len(x_train)):\n",
        "    for j in range(3):\n",
        "        a11[i, :, :, j] = cv2.dct(x_train[i, :, :, j])"
      ],
      "execution_count": 0,
      "outputs": []
    },
    {
      "cell_type": "code",
      "metadata": {
        "colab_type": "code",
        "id": "K-FmTcMEUvIi",
        "colab": {}
      },
      "source": [
        "x_dct11=a11"
      ],
      "execution_count": 0,
      "outputs": []
    },
    {
      "cell_type": "code",
      "metadata": {
        "colab_type": "code",
        "outputId": "2c59e308-e373-4b6f-ff86-287715adff11",
        "id": "vr4fVd3fUvIm",
        "colab": {
          "base_uri": "https://localhost:8080/",
          "height": 34
        }
      },
      "source": [
        "x_dct11.shape"
      ],
      "execution_count": 0,
      "outputs": [
        {
          "output_type": "execute_result",
          "data": {
            "text/plain": [
              "(1512, 256, 256, 3)"
            ]
          },
          "metadata": {
            "tags": []
          },
          "execution_count": 46
        }
      ]
    },
    {
      "cell_type": "code",
      "metadata": {
        "id": "dgBSq6gL2xRi",
        "colab_type": "code",
        "colab": {}
      },
      "source": [
        "input_shape = (img_rows, img_cols, 3)"
      ],
      "execution_count": 0,
      "outputs": []
    },
    {
      "cell_type": "code",
      "metadata": {
        "colab_type": "code",
        "id": "7PFL9LbJUvIu",
        "colab": {}
      },
      "source": [
        "x_dct_final_train = np.random.random((len(x_dct11), 32, 32, 3))"
      ],
      "execution_count": 0,
      "outputs": []
    },
    {
      "cell_type": "code",
      "metadata": {
        "colab_type": "code",
        "id": "tGyomqYdUvIw",
        "colab": {}
      },
      "source": [
        "for i in range(1512):\n",
        "  for j in range(32):\n",
        "    for k in range(32):\n",
        "      for l in range(3):\n",
        "        x_dct_final_train[i,j,k,l]=x_dct11[i,j,k,l]"
      ],
      "execution_count": 0,
      "outputs": []
    },
    {
      "cell_type": "code",
      "metadata": {
        "colab_type": "code",
        "outputId": "7fe32a0d-01f7-4e01-ef4a-fe1a37ad1f4c",
        "id": "_1AL8L1IUvIy",
        "colab": {
          "base_uri": "https://localhost:8080/",
          "height": 34
        }
      },
      "source": [
        "x_dct_final_train.shape"
      ],
      "execution_count": 0,
      "outputs": [
        {
          "output_type": "execute_result",
          "data": {
            "text/plain": [
              "(1512, 32, 32, 3)"
            ]
          },
          "metadata": {
            "tags": []
          },
          "execution_count": 50
        }
      ]
    },
    {
      "cell_type": "code",
      "metadata": {
        "colab_type": "code",
        "id": "5GkwXTRPUvI0",
        "colab": {}
      },
      "source": [
        "input_shape1 = (img_rows, img_cols, 3)\n",
        "input_shape2 = (32, 32, 3)"
      ],
      "execution_count": 0,
      "outputs": []
    },
    {
      "cell_type": "code",
      "metadata": {
        "colab_type": "code",
        "id": "0IZxEEuPUvI4",
        "colab": {}
      },
      "source": [
        "\n",
        "#y = np.random.random((5000, 6, 6, 3))\n",
        "t1 = time.time()\n",
        "a1111 = np.zeros((len(x_test), 256, 256, 3))\n",
        "for i in range(len(x_test)):\n",
        "    for j in range(3):\n",
        "        a1111[i, :, :, j] = cv2.dct(x_test[i, :, :, j])"
      ],
      "execution_count": 0,
      "outputs": []
    },
    {
      "cell_type": "code",
      "metadata": {
        "colab_type": "code",
        "id": "6yPpzuVtUvI6",
        "colab": {}
      },
      "source": [
        "x_dct_t111=a1111"
      ],
      "execution_count": 0,
      "outputs": []
    },
    {
      "cell_type": "code",
      "metadata": {
        "colab_type": "code",
        "outputId": "0a8b68bf-d834-4456-f52e-0c89b959eedf",
        "id": "gqTQTUuYUvI9",
        "colab": {
          "base_uri": "https://localhost:8080/",
          "height": 34
        }
      },
      "source": [
        "x_dct_t111.shape"
      ],
      "execution_count": 0,
      "outputs": [
        {
          "output_type": "execute_result",
          "data": {
            "text/plain": [
              "(378, 256, 256, 3)"
            ]
          },
          "metadata": {
            "tags": []
          },
          "execution_count": 54
        }
      ]
    },
    {
      "cell_type": "code",
      "metadata": {
        "colab_type": "code",
        "id": "RkUC9UqeUvJA",
        "colab": {}
      },
      "source": [
        "x_dct_test_final = np.random.random((len(x_dct_t111), 32, 32, 3))"
      ],
      "execution_count": 0,
      "outputs": []
    },
    {
      "cell_type": "code",
      "metadata": {
        "colab_type": "code",
        "id": "CEejZmOrUvJD",
        "colab": {}
      },
      "source": [
        "for i in range(378):\n",
        "  for j in range(32):\n",
        "    for k in range(32):\n",
        "      for l in range(3):\n",
        "        x_dct_test_final[i,j,k,l]=x_dct_t111[i,j,k,l]"
      ],
      "execution_count": 0,
      "outputs": []
    },
    {
      "cell_type": "code",
      "metadata": {
        "colab_type": "code",
        "outputId": "d74bb0a8-2b96-4239-ec59-98a64c107693",
        "id": "iGVNT8yIUvJI",
        "colab": {
          "base_uri": "https://localhost:8080/",
          "height": 34
        }
      },
      "source": [
        "x_dct_test_final.shape"
      ],
      "execution_count": 0,
      "outputs": [
        {
          "output_type": "execute_result",
          "data": {
            "text/plain": [
              "(378, 32, 32, 3)"
            ]
          },
          "metadata": {
            "tags": []
          },
          "execution_count": 57
        }
      ]
    },
    {
      "cell_type": "code",
      "metadata": {
        "id": "JpOQoZTgXRok",
        "colab_type": "code",
        "colab": {}
      },
      "source": [
        "ashape=np.array([x_dct_test_final.shape, x_dct_final_train.shape, x_dct_final.shape, x_dct_test.shape, x_train.shape, x_test.shape])\n"
      ],
      "execution_count": 0,
      "outputs": []
    },
    {
      "cell_type": "code",
      "metadata": {
        "id": "VdTJAcrlX-IK",
        "colab_type": "code",
        "outputId": "7526e9ba-0867-49db-d344-4c63aa54ff55",
        "colab": {
          "base_uri": "https://localhost:8080/",
          "height": 119
        }
      },
      "source": [
        "for i in ashape:\n",
        "  print(i)"
      ],
      "execution_count": 0,
      "outputs": [
        {
          "output_type": "stream",
          "text": [
            "[378  32  32   3]\n",
            "[1512   32   32    3]\n",
            "[1512   32   32    1]\n",
            "[378  32  32   1]\n",
            "[1512  256  256    3]\n",
            "[378 256 256   3]\n"
          ],
          "name": "stdout"
        }
      ]
    },
    {
      "cell_type": "code",
      "metadata": {
        "id": "VlEbrN54YgCM",
        "colab_type": "code",
        "colab": {}
      },
      "source": [
        "inputshape1=(256,256,3)\n",
        "inputshape2=(32,32,3)\n",
        "inputshape3=(32,32,1)"
      ],
      "execution_count": 0,
      "outputs": []
    },
    {
      "cell_type": "code",
      "metadata": {
        "id": "eWP5J7GrDzIP",
        "colab_type": "code",
        "colab": {}
      },
      "source": [
        "x_final_train=[]"
      ],
      "execution_count": 0,
      "outputs": []
    },
    {
      "cell_type": "code",
      "metadata": {
        "id": "sdmtJvDoEFIs",
        "colab_type": "code",
        "colab": {}
      },
      "source": [
        "xt1=[]\n",
        "xt2=[]"
      ],
      "execution_count": 0,
      "outputs": []
    },
    {
      "cell_type": "code",
      "metadata": {
        "id": "QHVKKWF8EG-S",
        "colab_type": "code",
        "colab": {}
      },
      "source": [
        "xt1=x_dct_final_train"
      ],
      "execution_count": 0,
      "outputs": []
    },
    {
      "cell_type": "code",
      "metadata": {
        "id": "do9v-_qPENpj",
        "colab_type": "code",
        "outputId": "848a51ab-c91b-4ce7-d5a2-828f8b02179d",
        "colab": {
          "base_uri": "https://localhost:8080/",
          "height": 34
        }
      },
      "source": [
        "xt1.shape"
      ],
      "execution_count": 0,
      "outputs": [
        {
          "output_type": "execute_result",
          "data": {
            "text/plain": [
              "(1512, 32, 32, 3)"
            ]
          },
          "metadata": {
            "tags": []
          },
          "execution_count": 64
        }
      ]
    },
    {
      "cell_type": "code",
      "metadata": {
        "id": "3SMW5mT0D-ej",
        "colab_type": "code",
        "colab": {}
      },
      "source": [
        "for i in range(1512):\n",
        "  x_final.append()"
      ],
      "execution_count": 0,
      "outputs": []
    },
    {
      "cell_type": "code",
      "metadata": {
        "id": "D--CaORlEvT-",
        "colab_type": "code",
        "colab": {}
      },
      "source": [
        ""
      ],
      "execution_count": 0,
      "outputs": []
    },
    {
      "cell_type": "code",
      "metadata": {
        "id": "WHKTADsRQIv_",
        "colab_type": "code",
        "colab": {}
      },
      "source": [
        "for i in range(1512):\n",
        "  x_final_train.append(np.dstack((x_dct_final_train[i],x_dct_final[i])))"
      ],
      "execution_count": 0,
      "outputs": []
    },
    {
      "cell_type": "code",
      "metadata": {
        "id": "QdCZmI1RE7uu",
        "colab_type": "code",
        "colab": {}
      },
      "source": [
        "x_final_train_np=np.array(x_final_train)"
      ],
      "execution_count": 0,
      "outputs": []
    },
    {
      "cell_type": "code",
      "metadata": {
        "id": "auLicRZeE_54",
        "colab_type": "code",
        "outputId": "5d7bdb77-e0f1-4c71-ae2d-440eba618ff3",
        "colab": {
          "base_uri": "https://localhost:8080/",
          "height": 34
        }
      },
      "source": [
        "x_final_train_np.shape"
      ],
      "execution_count": 0,
      "outputs": [
        {
          "output_type": "execute_result",
          "data": {
            "text/plain": [
              "(1512, 32, 32, 4)"
            ]
          },
          "metadata": {
            "tags": []
          },
          "execution_count": 68
        }
      ]
    },
    {
      "cell_type": "code",
      "metadata": {
        "id": "OFalm8_fFDpX",
        "colab_type": "code",
        "colab": {}
      },
      "source": [
        "x_final_test=[]"
      ],
      "execution_count": 0,
      "outputs": []
    },
    {
      "cell_type": "code",
      "metadata": {
        "id": "-hC88HxCFGyN",
        "colab_type": "code",
        "colab": {}
      },
      "source": [
        ""
      ],
      "execution_count": 0,
      "outputs": []
    },
    {
      "cell_type": "code",
      "metadata": {
        "colab_type": "code",
        "id": "5CoMaeqGFIyx",
        "colab": {}
      },
      "source": [
        "for i in range(378):\n",
        "  x_final_test.append(np.dstack((x_dct_test_final[i],x_dct_test[i])))"
      ],
      "execution_count": 0,
      "outputs": []
    },
    {
      "cell_type": "code",
      "metadata": {
        "colab_type": "code",
        "id": "PE_xg_zGFIy2",
        "colab": {}
      },
      "source": [
        "x_final_test_np=np.array(x_final_test)"
      ],
      "execution_count": 0,
      "outputs": []
    },
    {
      "cell_type": "code",
      "metadata": {
        "colab_type": "code",
        "outputId": "8570b537-d01e-4e93-9612-306f7d7bb455",
        "id": "apzNwsb-FIy4",
        "colab": {
          "base_uri": "https://localhost:8080/",
          "height": 34
        }
      },
      "source": [
        "x_final_test_np.shape"
      ],
      "execution_count": 0,
      "outputs": [
        {
          "output_type": "execute_result",
          "data": {
            "text/plain": [
              "(378, 32, 32, 4)"
            ]
          },
          "metadata": {
            "tags": []
          },
          "execution_count": 72
        }
      ]
    },
    {
      "cell_type": "code",
      "metadata": {
        "id": "h8NwAHmtFeK_",
        "colab_type": "code",
        "colab": {}
      },
      "source": [
        ""
      ],
      "execution_count": 0,
      "outputs": []
    },
    {
      "cell_type": "code",
      "metadata": {
        "colab_type": "code",
        "id": "ESC371GW40CB",
        "colab": {}
      },
      "source": [
        "from keras.layers import Input, Conv2D, Dense, concatenate\n",
        "from keras.models import Model"
      ],
      "execution_count": 0,
      "outputs": []
    },
    {
      "cell_type": "code",
      "metadata": {
        "colab_type": "code",
        "id": "CCH104j-40CF",
        "colab": {}
      },
      "source": [
        "from PIL import Image #import Python Image Library\n",
        "import numpy as np\n",
        "import os\n",
        "import glob\n",
        "import re\n",
        "import keras\n",
        "from keras.models import Sequential\n",
        "from keras.layers import Dense, Dropout, Activation, Flatten,LeakyReLU\n",
        "from keras.layers import Conv2D, MaxPooling2D\n",
        "from keras.utils import np_utils\n",
        "from keras import backend as K"
      ],
      "execution_count": 0,
      "outputs": []
    },
    {
      "cell_type": "code",
      "metadata": {
        "id": "8Lh4vw8FFl9n",
        "colab_type": "code",
        "outputId": "abee8314-5e1f-428b-bd41-384b63e4fbad",
        "colab": {
          "base_uri": "https://localhost:8080/",
          "height": 292
        }
      },
      "source": [
        "model = Sequential()\n",
        "model.add(Conv2D(32, kernel_size=(3, 3),activation='relu',input_shape=x_final_train_np.shape[1:]))\n",
        "model.add(MaxPooling2D(pool_size=(2,2)))\n",
        "model.add(Conv2D(32, (3, 3), activation='relu'))\n",
        "model.add(MaxPooling2D(pool_size=(2,2)))\n",
        "model.add(Dropout(0.25))\n",
        "model.add(Flatten())\n",
        "model.add(Dense(128, activation='relu'))\n",
        "model.add(Dropout(0.5))\n",
        "model.add(Dense(21, activation='softmax'))\n",
        "model.compile(loss='categorical_crossentropy',\n",
        "            optimizer='adam',\n",
        "            metrics=['accuracy'])"
      ],
      "execution_count": 0,
      "outputs": [
        {
          "output_type": "stream",
          "text": [
            "WARNING:tensorflow:From /usr/local/lib/python3.6/dist-packages/keras/backend/tensorflow_backend.py:541: The name tf.placeholder is deprecated. Please use tf.compat.v1.placeholder instead.\n",
            "\n",
            "WARNING:tensorflow:From /usr/local/lib/python3.6/dist-packages/keras/backend/tensorflow_backend.py:4432: The name tf.random_uniform is deprecated. Please use tf.random.uniform instead.\n",
            "\n",
            "WARNING:tensorflow:From /usr/local/lib/python3.6/dist-packages/keras/backend/tensorflow_backend.py:4267: The name tf.nn.max_pool is deprecated. Please use tf.nn.max_pool2d instead.\n",
            "\n",
            "WARNING:tensorflow:From /usr/local/lib/python3.6/dist-packages/keras/backend/tensorflow_backend.py:148: The name tf.placeholder_with_default is deprecated. Please use tf.compat.v1.placeholder_with_default instead.\n",
            "\n",
            "WARNING:tensorflow:From /usr/local/lib/python3.6/dist-packages/keras/backend/tensorflow_backend.py:3733: calling dropout (from tensorflow.python.ops.nn_ops) with keep_prob is deprecated and will be removed in a future version.\n",
            "Instructions for updating:\n",
            "Please use `rate` instead of `keep_prob`. Rate should be set to `rate = 1 - keep_prob`.\n",
            "WARNING:tensorflow:From /usr/local/lib/python3.6/dist-packages/keras/optimizers.py:793: The name tf.train.Optimizer is deprecated. Please use tf.compat.v1.train.Optimizer instead.\n",
            "\n",
            "WARNING:tensorflow:From /usr/local/lib/python3.6/dist-packages/keras/backend/tensorflow_backend.py:3576: The name tf.log is deprecated. Please use tf.math.log instead.\n",
            "\n"
          ],
          "name": "stdout"
        }
      ]
    },
    {
      "cell_type": "code",
      "metadata": {
        "id": "a7XRrhENFxHx",
        "colab_type": "code",
        "outputId": "460d72a8-3572-499d-857b-4303ae205c53",
        "colab": {
          "base_uri": "https://localhost:8080/",
          "height": 1000
        }
      },
      "source": [
        "model.fit(x_final_train_np, y_train, batch_size=50, nb_epoch=100, verbose=1, validation_data=(x_final_test_np, y_test))"
      ],
      "execution_count": 0,
      "outputs": [
        {
          "output_type": "stream",
          "text": [
            "WARNING:tensorflow:From /usr/local/lib/python3.6/dist-packages/tensorflow_core/python/ops/math_grad.py:1424: where (from tensorflow.python.ops.array_ops) is deprecated and will be removed in a future version.\n",
            "Instructions for updating:\n",
            "Use tf.where in 2.0, which has the same broadcast rule as np.where\n"
          ],
          "name": "stdout"
        },
        {
          "output_type": "stream",
          "text": [
            "/usr/local/lib/python3.6/dist-packages/ipykernel_launcher.py:1: UserWarning: The `nb_epoch` argument in `fit` has been renamed `epochs`.\n",
            "  \"\"\"Entry point for launching an IPython kernel.\n"
          ],
          "name": "stderr"
        },
        {
          "output_type": "stream",
          "text": [
            "WARNING:tensorflow:From /usr/local/lib/python3.6/dist-packages/keras/backend/tensorflow_backend.py:1033: The name tf.assign_add is deprecated. Please use tf.compat.v1.assign_add instead.\n",
            "\n",
            "WARNING:tensorflow:From /usr/local/lib/python3.6/dist-packages/keras/backend/tensorflow_backend.py:1020: The name tf.assign is deprecated. Please use tf.compat.v1.assign instead.\n",
            "\n",
            "WARNING:tensorflow:From /usr/local/lib/python3.6/dist-packages/keras/backend/tensorflow_backend.py:3005: The name tf.Session is deprecated. Please use tf.compat.v1.Session instead.\n",
            "\n",
            "Train on 1512 samples, validate on 378 samples\n",
            "Epoch 1/100\n",
            "WARNING:tensorflow:From /usr/local/lib/python3.6/dist-packages/keras/backend/tensorflow_backend.py:190: The name tf.get_default_session is deprecated. Please use tf.compat.v1.get_default_session instead.\n",
            "\n",
            "WARNING:tensorflow:From /usr/local/lib/python3.6/dist-packages/keras/backend/tensorflow_backend.py:197: The name tf.ConfigProto is deprecated. Please use tf.compat.v1.ConfigProto instead.\n",
            "\n",
            "WARNING:tensorflow:From /usr/local/lib/python3.6/dist-packages/keras/backend/tensorflow_backend.py:207: The name tf.global_variables is deprecated. Please use tf.compat.v1.global_variables instead.\n",
            "\n",
            "WARNING:tensorflow:From /usr/local/lib/python3.6/dist-packages/keras/backend/tensorflow_backend.py:216: The name tf.is_variable_initialized is deprecated. Please use tf.compat.v1.is_variable_initialized instead.\n",
            "\n",
            "WARNING:tensorflow:From /usr/local/lib/python3.6/dist-packages/keras/backend/tensorflow_backend.py:223: The name tf.variables_initializer is deprecated. Please use tf.compat.v1.variables_initializer instead.\n",
            "\n",
            "1512/1512 [==============================] - 8s 5ms/step - loss: 14.7661 - acc: 0.0496 - val_loss: 15.4305 - val_acc: 0.0423\n",
            "Epoch 2/100\n",
            "1512/1512 [==============================] - 0s 203us/step - loss: 14.5371 - acc: 0.0522 - val_loss: 10.2256 - val_acc: 0.0608\n",
            "Epoch 3/100\n",
            "1512/1512 [==============================] - 0s 200us/step - loss: 5.8997 - acc: 0.0470 - val_loss: 3.0435 - val_acc: 0.0397\n",
            "Epoch 4/100\n",
            "1512/1512 [==============================] - 0s 205us/step - loss: 3.0429 - acc: 0.0549 - val_loss: 3.0434 - val_acc: 0.0450\n",
            "Epoch 5/100\n",
            "1512/1512 [==============================] - 0s 214us/step - loss: 3.0380 - acc: 0.0575 - val_loss: 3.0473 - val_acc: 0.0714\n",
            "Epoch 6/100\n",
            "1512/1512 [==============================] - 0s 203us/step - loss: 3.0342 - acc: 0.0569 - val_loss: 3.0447 - val_acc: 0.0397\n",
            "Epoch 7/100\n",
            "1512/1512 [==============================] - 0s 214us/step - loss: 3.0272 - acc: 0.0595 - val_loss: 3.0444 - val_acc: 0.0450\n",
            "Epoch 8/100\n",
            "1512/1512 [==============================] - 0s 217us/step - loss: 3.0239 - acc: 0.0648 - val_loss: 3.0426 - val_acc: 0.0529\n",
            "Epoch 9/100\n",
            "1512/1512 [==============================] - 0s 205us/step - loss: 3.0073 - acc: 0.0767 - val_loss: 3.0328 - val_acc: 0.0688\n",
            "Epoch 10/100\n",
            "1512/1512 [==============================] - 0s 203us/step - loss: 3.0017 - acc: 0.0754 - val_loss: 3.0322 - val_acc: 0.0688\n",
            "Epoch 11/100\n",
            "1512/1512 [==============================] - 0s 212us/step - loss: 2.9838 - acc: 0.0800 - val_loss: 3.0288 - val_acc: 0.0582\n",
            "Epoch 12/100\n",
            "1512/1512 [==============================] - 0s 207us/step - loss: 2.9579 - acc: 0.1032 - val_loss: 3.0064 - val_acc: 0.0899\n",
            "Epoch 13/100\n",
            "1512/1512 [==============================] - 0s 207us/step - loss: 2.9167 - acc: 0.1157 - val_loss: 3.0307 - val_acc: 0.0926\n",
            "Epoch 14/100\n",
            "1512/1512 [==============================] - 0s 206us/step - loss: 2.9510 - acc: 0.1071 - val_loss: 3.0039 - val_acc: 0.0661\n",
            "Epoch 15/100\n",
            "1512/1512 [==============================] - 0s 204us/step - loss: 2.8974 - acc: 0.1217 - val_loss: 3.0061 - val_acc: 0.0873\n",
            "Epoch 16/100\n",
            "1512/1512 [==============================] - 0s 236us/step - loss: 2.8634 - acc: 0.1369 - val_loss: 3.0103 - val_acc: 0.0979\n",
            "Epoch 17/100\n",
            "1512/1512 [==============================] - 0s 216us/step - loss: 2.8046 - acc: 0.1594 - val_loss: 3.0080 - val_acc: 0.1111\n",
            "Epoch 18/100\n",
            "1512/1512 [==============================] - 0s 202us/step - loss: 2.7633 - acc: 0.1746 - val_loss: 2.9969 - val_acc: 0.1296\n",
            "Epoch 19/100\n",
            "1512/1512 [==============================] - 0s 211us/step - loss: 2.7128 - acc: 0.1931 - val_loss: 2.9987 - val_acc: 0.1190\n",
            "Epoch 20/100\n",
            "1512/1512 [==============================] - 0s 213us/step - loss: 2.6810 - acc: 0.2011 - val_loss: 3.0204 - val_acc: 0.1243\n",
            "Epoch 21/100\n",
            "1512/1512 [==============================] - 0s 210us/step - loss: 2.6085 - acc: 0.2275 - val_loss: 3.0126 - val_acc: 0.1296\n",
            "Epoch 22/100\n",
            "1512/1512 [==============================] - 0s 204us/step - loss: 2.5633 - acc: 0.2361 - val_loss: 3.0100 - val_acc: 0.1296\n",
            "Epoch 23/100\n",
            "1512/1512 [==============================] - 0s 211us/step - loss: 2.5397 - acc: 0.2460 - val_loss: 3.0046 - val_acc: 0.1243\n",
            "Epoch 24/100\n",
            "1512/1512 [==============================] - 0s 211us/step - loss: 2.5043 - acc: 0.2553 - val_loss: 3.0376 - val_acc: 0.1402\n",
            "Epoch 25/100\n",
            "1512/1512 [==============================] - 0s 204us/step - loss: 2.4325 - acc: 0.2751 - val_loss: 3.0080 - val_acc: 0.1587\n",
            "Epoch 26/100\n",
            "1512/1512 [==============================] - 0s 201us/step - loss: 2.3988 - acc: 0.2824 - val_loss: 3.0452 - val_acc: 0.1455\n",
            "Epoch 27/100\n",
            "1512/1512 [==============================] - 0s 209us/step - loss: 2.3506 - acc: 0.2983 - val_loss: 3.0000 - val_acc: 0.1296\n",
            "Epoch 28/100\n",
            "1512/1512 [==============================] - 0s 198us/step - loss: 2.2973 - acc: 0.3082 - val_loss: 3.0155 - val_acc: 0.1296\n",
            "Epoch 29/100\n",
            "1512/1512 [==============================] - 0s 206us/step - loss: 2.1635 - acc: 0.3604 - val_loss: 3.1000 - val_acc: 0.1534\n",
            "Epoch 30/100\n",
            "1512/1512 [==============================] - 0s 210us/step - loss: 2.1813 - acc: 0.3360 - val_loss: 3.0714 - val_acc: 0.1481\n",
            "Epoch 31/100\n",
            "1512/1512 [==============================] - 0s 214us/step - loss: 2.0905 - acc: 0.3902 - val_loss: 3.0770 - val_acc: 0.1481\n",
            "Epoch 32/100\n",
            "1512/1512 [==============================] - 0s 210us/step - loss: 1.9816 - acc: 0.4153 - val_loss: 3.0683 - val_acc: 0.1508\n",
            "Epoch 33/100\n",
            "1512/1512 [==============================] - 0s 211us/step - loss: 1.9617 - acc: 0.4107 - val_loss: 3.0665 - val_acc: 0.1534\n",
            "Epoch 34/100\n",
            "1512/1512 [==============================] - 0s 212us/step - loss: 1.9049 - acc: 0.4292 - val_loss: 3.1491 - val_acc: 0.1614\n",
            "Epoch 35/100\n",
            "1512/1512 [==============================] - 0s 209us/step - loss: 1.8547 - acc: 0.4312 - val_loss: 3.1137 - val_acc: 0.1693\n",
            "Epoch 36/100\n",
            "1512/1512 [==============================] - 0s 218us/step - loss: 1.8036 - acc: 0.4623 - val_loss: 3.2443 - val_acc: 0.1323\n",
            "Epoch 37/100\n",
            "1512/1512 [==============================] - 0s 218us/step - loss: 1.7861 - acc: 0.4497 - val_loss: 3.1371 - val_acc: 0.1587\n",
            "Epoch 38/100\n",
            "1512/1512 [==============================] - 0s 229us/step - loss: 1.7429 - acc: 0.4702 - val_loss: 3.1875 - val_acc: 0.1455\n",
            "Epoch 39/100\n",
            "1512/1512 [==============================] - 0s 207us/step - loss: 1.6608 - acc: 0.4954 - val_loss: 3.1459 - val_acc: 0.1852\n",
            "Epoch 40/100\n",
            "1512/1512 [==============================] - 0s 223us/step - loss: 1.6217 - acc: 0.4947 - val_loss: 3.1077 - val_acc: 0.1640\n",
            "Epoch 41/100\n",
            "1512/1512 [==============================] - 0s 222us/step - loss: 1.5499 - acc: 0.5384 - val_loss: 3.1591 - val_acc: 0.1746\n",
            "Epoch 42/100\n",
            "1512/1512 [==============================] - 0s 212us/step - loss: 1.5598 - acc: 0.5225 - val_loss: 3.3441 - val_acc: 0.1693\n",
            "Epoch 43/100\n",
            "1512/1512 [==============================] - 0s 216us/step - loss: 1.5327 - acc: 0.5265 - val_loss: 3.2563 - val_acc: 0.1640\n",
            "Epoch 44/100\n",
            "1512/1512 [==============================] - 0s 219us/step - loss: 1.4639 - acc: 0.5562 - val_loss: 3.1890 - val_acc: 0.1772\n",
            "Epoch 45/100\n",
            "1512/1512 [==============================] - 0s 206us/step - loss: 1.4681 - acc: 0.5470 - val_loss: 3.2285 - val_acc: 0.1614\n",
            "Epoch 46/100\n",
            "1512/1512 [==============================] - 0s 224us/step - loss: 1.4022 - acc: 0.5813 - val_loss: 3.2656 - val_acc: 0.1852\n",
            "Epoch 47/100\n",
            "1512/1512 [==============================] - 0s 216us/step - loss: 1.3894 - acc: 0.5734 - val_loss: 3.3259 - val_acc: 0.1799\n",
            "Epoch 48/100\n",
            "1512/1512 [==============================] - 0s 216us/step - loss: 1.3381 - acc: 0.5893 - val_loss: 3.2057 - val_acc: 0.2011\n",
            "Epoch 49/100\n",
            "1512/1512 [==============================] - 0s 227us/step - loss: 1.2989 - acc: 0.6032 - val_loss: 3.2074 - val_acc: 0.1878\n",
            "Epoch 50/100\n",
            "1512/1512 [==============================] - 0s 225us/step - loss: 1.2640 - acc: 0.6138 - val_loss: 3.3560 - val_acc: 0.1905\n",
            "Epoch 51/100\n",
            "1512/1512 [==============================] - 0s 205us/step - loss: 1.2045 - acc: 0.6243 - val_loss: 3.4506 - val_acc: 0.1825\n",
            "Epoch 52/100\n",
            "1512/1512 [==============================] - 0s 216us/step - loss: 1.2588 - acc: 0.6071 - val_loss: 3.3860 - val_acc: 0.2037\n",
            "Epoch 53/100\n",
            "1512/1512 [==============================] - 0s 221us/step - loss: 1.2436 - acc: 0.6085 - val_loss: 3.3413 - val_acc: 0.1852\n",
            "Epoch 54/100\n",
            "1512/1512 [==============================] - 0s 203us/step - loss: 1.2295 - acc: 0.6243 - val_loss: 3.4515 - val_acc: 0.1825\n",
            "Epoch 55/100\n",
            "1512/1512 [==============================] - 0s 219us/step - loss: 1.1172 - acc: 0.6528 - val_loss: 3.3547 - val_acc: 0.1772\n",
            "Epoch 56/100\n",
            "1512/1512 [==============================] - 0s 227us/step - loss: 1.1751 - acc: 0.6515 - val_loss: 3.4122 - val_acc: 0.1825\n",
            "Epoch 57/100\n",
            "1512/1512 [==============================] - 0s 214us/step - loss: 1.1769 - acc: 0.6336 - val_loss: 3.5879 - val_acc: 0.1746\n",
            "Epoch 58/100\n",
            "1512/1512 [==============================] - 0s 219us/step - loss: 1.1865 - acc: 0.6329 - val_loss: 3.5617 - val_acc: 0.1984\n",
            "Epoch 59/100\n",
            "1512/1512 [==============================] - 0s 216us/step - loss: 1.1494 - acc: 0.6422 - val_loss: 3.4508 - val_acc: 0.1799\n",
            "Epoch 60/100\n",
            "1512/1512 [==============================] - 0s 209us/step - loss: 1.0625 - acc: 0.6667 - val_loss: 3.4338 - val_acc: 0.1984\n",
            "Epoch 61/100\n",
            "1512/1512 [==============================] - 0s 213us/step - loss: 1.0429 - acc: 0.6680 - val_loss: 3.5830 - val_acc: 0.1772\n",
            "Epoch 62/100\n",
            "1512/1512 [==============================] - 0s 221us/step - loss: 1.1044 - acc: 0.6680 - val_loss: 3.5341 - val_acc: 0.1878\n",
            "Epoch 63/100\n",
            "1512/1512 [==============================] - 0s 207us/step - loss: 1.0437 - acc: 0.6825 - val_loss: 3.4811 - val_acc: 0.1799\n",
            "Epoch 64/100\n",
            "1512/1512 [==============================] - 0s 206us/step - loss: 1.0705 - acc: 0.6772 - val_loss: 3.4358 - val_acc: 0.1825\n",
            "Epoch 65/100\n",
            "1512/1512 [==============================] - 0s 226us/step - loss: 0.9594 - acc: 0.7057 - val_loss: 3.5799 - val_acc: 0.1958\n",
            "Epoch 66/100\n",
            "1512/1512 [==============================] - 0s 218us/step - loss: 0.9377 - acc: 0.7024 - val_loss: 3.5979 - val_acc: 0.1852\n",
            "Epoch 67/100\n",
            "1512/1512 [==============================] - 0s 214us/step - loss: 0.9375 - acc: 0.7110 - val_loss: 3.5562 - val_acc: 0.1878\n",
            "Epoch 68/100\n",
            "1512/1512 [==============================] - 0s 222us/step - loss: 0.9574 - acc: 0.6997 - val_loss: 3.5009 - val_acc: 0.2090\n",
            "Epoch 69/100\n",
            "1512/1512 [==============================] - 0s 213us/step - loss: 0.9355 - acc: 0.7123 - val_loss: 3.5235 - val_acc: 0.2090\n",
            "Epoch 70/100\n",
            "1512/1512 [==============================] - 0s 200us/step - loss: 0.8759 - acc: 0.7302 - val_loss: 3.5908 - val_acc: 0.2090\n",
            "Epoch 71/100\n",
            "1512/1512 [==============================] - 0s 215us/step - loss: 0.9226 - acc: 0.7070 - val_loss: 3.5412 - val_acc: 0.2090\n",
            "Epoch 72/100\n",
            "1512/1512 [==============================] - 0s 203us/step - loss: 0.8555 - acc: 0.7335 - val_loss: 3.6222 - val_acc: 0.1984\n",
            "Epoch 73/100\n",
            "1512/1512 [==============================] - 0s 207us/step - loss: 0.8586 - acc: 0.7315 - val_loss: 3.7124 - val_acc: 0.1958\n",
            "Epoch 74/100\n",
            "1512/1512 [==============================] - 0s 212us/step - loss: 0.8550 - acc: 0.7407 - val_loss: 3.6811 - val_acc: 0.1799\n",
            "Epoch 75/100\n",
            "1512/1512 [==============================] - 0s 204us/step - loss: 0.9110 - acc: 0.7136 - val_loss: 3.6267 - val_acc: 0.1878\n",
            "Epoch 76/100\n",
            "1512/1512 [==============================] - 0s 203us/step - loss: 0.8813 - acc: 0.7427 - val_loss: 3.6160 - val_acc: 0.2063\n",
            "Epoch 77/100\n",
            "1512/1512 [==============================] - 0s 204us/step - loss: 0.7969 - acc: 0.7487 - val_loss: 3.6651 - val_acc: 0.2011\n",
            "Epoch 78/100\n",
            "1512/1512 [==============================] - 0s 210us/step - loss: 0.8472 - acc: 0.7341 - val_loss: 3.7746 - val_acc: 0.1878\n",
            "Epoch 79/100\n",
            "1512/1512 [==============================] - 0s 205us/step - loss: 0.8174 - acc: 0.7374 - val_loss: 3.5963 - val_acc: 0.1984\n",
            "Epoch 80/100\n",
            "1512/1512 [==============================] - 0s 212us/step - loss: 0.7759 - acc: 0.7731 - val_loss: 3.8203 - val_acc: 0.1958\n",
            "Epoch 81/100\n",
            "1512/1512 [==============================] - 0s 210us/step - loss: 0.7916 - acc: 0.7533 - val_loss: 3.6866 - val_acc: 0.1905\n",
            "Epoch 82/100\n",
            "1512/1512 [==============================] - 0s 215us/step - loss: 0.7851 - acc: 0.7593 - val_loss: 3.8003 - val_acc: 0.1984\n",
            "Epoch 83/100\n",
            "1512/1512 [==============================] - 0s 210us/step - loss: 0.7394 - acc: 0.7612 - val_loss: 3.7590 - val_acc: 0.2063\n",
            "Epoch 84/100\n",
            "1512/1512 [==============================] - 0s 208us/step - loss: 0.7203 - acc: 0.7546 - val_loss: 3.8816 - val_acc: 0.1931\n",
            "Epoch 85/100\n",
            "1512/1512 [==============================] - 0s 207us/step - loss: 0.7914 - acc: 0.7560 - val_loss: 3.8026 - val_acc: 0.1958\n",
            "Epoch 86/100\n",
            "1512/1512 [==============================] - 0s 204us/step - loss: 0.7689 - acc: 0.7520 - val_loss: 3.7234 - val_acc: 0.1958\n",
            "Epoch 87/100\n",
            "1512/1512 [==============================] - 0s 207us/step - loss: 0.7811 - acc: 0.7480 - val_loss: 3.8797 - val_acc: 0.2090\n",
            "Epoch 88/100\n",
            "1512/1512 [==============================] - 0s 205us/step - loss: 0.7345 - acc: 0.7811 - val_loss: 3.6901 - val_acc: 0.2196\n",
            "Epoch 89/100\n",
            "1512/1512 [==============================] - 0s 205us/step - loss: 0.7513 - acc: 0.7745 - val_loss: 3.7473 - val_acc: 0.2063\n",
            "Epoch 90/100\n",
            "1512/1512 [==============================] - 0s 212us/step - loss: 0.6772 - acc: 0.7765 - val_loss: 3.8280 - val_acc: 0.2196\n",
            "Epoch 91/100\n",
            "1512/1512 [==============================] - 0s 211us/step - loss: 0.6685 - acc: 0.7778 - val_loss: 3.8873 - val_acc: 0.1958\n",
            "Epoch 92/100\n",
            "1512/1512 [==============================] - 0s 218us/step - loss: 0.6776 - acc: 0.7903 - val_loss: 3.8553 - val_acc: 0.1958\n",
            "Epoch 93/100\n",
            "1512/1512 [==============================] - 0s 210us/step - loss: 0.6620 - acc: 0.7778 - val_loss: 3.7446 - val_acc: 0.2063\n",
            "Epoch 94/100\n",
            "1512/1512 [==============================] - 0s 213us/step - loss: 0.6886 - acc: 0.7937 - val_loss: 3.8150 - val_acc: 0.2011\n",
            "Epoch 95/100\n",
            "1512/1512 [==============================] - 0s 202us/step - loss: 0.6845 - acc: 0.7811 - val_loss: 3.8955 - val_acc: 0.2037\n",
            "Epoch 96/100\n",
            "1512/1512 [==============================] - 0s 199us/step - loss: 0.6997 - acc: 0.7804 - val_loss: 3.7656 - val_acc: 0.2090\n",
            "Epoch 97/100\n",
            "1512/1512 [==============================] - 0s 215us/step - loss: 0.6463 - acc: 0.7937 - val_loss: 3.9523 - val_acc: 0.2302\n",
            "Epoch 98/100\n",
            "1512/1512 [==============================] - 0s 209us/step - loss: 0.6728 - acc: 0.7917 - val_loss: 3.8945 - val_acc: 0.2063\n",
            "Epoch 99/100\n",
            "1512/1512 [==============================] - 0s 205us/step - loss: 0.6918 - acc: 0.7804 - val_loss: 3.8852 - val_acc: 0.2249\n",
            "Epoch 100/100\n",
            "1512/1512 [==============================] - 0s 208us/step - loss: 0.6115 - acc: 0.8108 - val_loss: 3.8381 - val_acc: 0.2063\n"
          ],
          "name": "stdout"
        },
        {
          "output_type": "execute_result",
          "data": {
            "text/plain": [
              "<keras.callbacks.History at 0x7f573c77e940>"
            ]
          },
          "metadata": {
            "tags": []
          },
          "execution_count": 78
        }
      ]
    }
  ]
}