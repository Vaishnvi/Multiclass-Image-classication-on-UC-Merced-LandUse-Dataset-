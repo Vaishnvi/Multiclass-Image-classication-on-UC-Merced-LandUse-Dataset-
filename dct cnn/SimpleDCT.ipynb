{
  "nbformat": 4,
  "nbformat_minor": 0,
  "metadata": {
    "colab": {
      "name": "SimpleDCT.ipynb",
      "provenance": [],
      "collapsed_sections": []
    },
    "kernelspec": {
      "name": "python3",
      "display_name": "Python 3"
    },
    "accelerator": "GPU"
  },
  "cells": [
    {
      "cell_type": "code",
      "metadata": {
        "id": "0uFv2dBozGvg",
        "colab_type": "code",
        "colab": {}
      },
      "source": [
        ""
      ],
      "execution_count": 0,
      "outputs": []
    },
    {
      "cell_type": "code",
      "metadata": {
        "id": "TqowlWJ3sfDP",
        "colab_type": "code",
        "colab": {}
      },
      "source": [
        "import numpy as np\n",
        "import matplotlib.pyplot as plt\n",
        "import os\n",
        "import cv2\n",
        "from tqdm import tqdm"
      ],
      "execution_count": 0,
      "outputs": []
    },
    {
      "cell_type": "code",
      "metadata": {
        "id": "GjV8uzLhtQ0H",
        "colab_type": "code",
        "colab": {}
      },
      "source": [
        "DATADIR = '/content/drive/My Drive/ucmerced/UCMerced_LandUse/Images/'\n",
        "\n",
        "CATEGORIES = [ 'agricultural',  'airplane',    'baseballdiamond', 'beach',   'buildings',          'chaparral',         'denseresidential',\n",
        "                'forest',        'freeway',     'golfcourse',      'harbor',  'intersection',       'mediumresidential', 'mobilehomepark',\n",
        "                'overpass',      'parkinglot',  'river',           'runway',  'sparseresidential',  'storagetanks',      'tenniscourt' ]\n"
      ],
      "execution_count": 0,
      "outputs": []
    },
    {
      "cell_type": "code",
      "metadata": {
        "id": "JFHfvkShtUtf",
        "colab_type": "code",
        "outputId": "5030346f-f8ec-4bce-d541-548fbf58fc5b",
        "colab": {
          "base_uri": "https://localhost:8080/",
          "height": 120
        }
      },
      "source": [
        "from google.colab import drive\n",
        "drive.mount('/content/drive')\n"
      ],
      "execution_count": 0,
      "outputs": [
        {
          "output_type": "stream",
          "text": [
            "Go to this URL in a browser: https://accounts.google.com/o/oauth2/auth?client_id=947318989803-6bn6qk8qdgf4n4g3pfee6491hc0brc4i.apps.googleusercontent.com&redirect_uri=urn%3aietf%3awg%3aoauth%3a2.0%3aoob&response_type=code&scope=email%20https%3a%2f%2fwww.googleapis.com%2fauth%2fdocs.test%20https%3a%2f%2fwww.googleapis.com%2fauth%2fdrive%20https%3a%2f%2fwww.googleapis.com%2fauth%2fdrive.photos.readonly%20https%3a%2f%2fwww.googleapis.com%2fauth%2fpeopleapi.readonly\n",
            "\n",
            "Enter your authorization code:\n",
            "··········\n",
            "Mounted at /content/drive\n"
          ],
          "name": "stdout"
        }
      ]
    },
    {
      "cell_type": "code",
      "metadata": {
        "id": "AlX-6rl3tfJo",
        "colab_type": "code",
        "outputId": "7a57a0da-8ef3-4f5b-c53c-bf74ae7c872c",
        "colab": {
          "base_uri": "https://localhost:8080/",
          "height": 79
        }
      },
      "source": [
        "from PIL import Image #import Python Image Library\n",
        "import numpy as np\n",
        "import os\n",
        "import glob\n",
        "import re\n",
        "import keras\n",
        "from keras.models import Sequential\n",
        "from keras.layers import Dense, Dropout, Activation, Flatten\n",
        "from keras.layers import Conv2D, MaxPooling2D\n",
        "from keras.utils import np_utils\n",
        "from keras import backend as K"
      ],
      "execution_count": 0,
      "outputs": [
        {
          "output_type": "stream",
          "text": [
            "Using TensorFlow backend.\n"
          ],
          "name": "stderr"
        },
        {
          "output_type": "display_data",
          "data": {
            "text/html": [
              "<p style=\"color: red;\">\n",
              "The default version of TensorFlow in Colab will soon switch to TensorFlow 2.x.<br>\n",
              "We recommend you <a href=\"https://www.tensorflow.org/guide/migrate\" target=\"_blank\">upgrade</a> now \n",
              "or ensure your notebook will continue to use TensorFlow 1.x via the <code>%tensorflow_version 1.x</code> magic:\n",
              "<a href=\"https://colab.research.google.com/notebooks/tensorflow_version.ipynb\" target=\"_blank\">more info</a>.</p>\n"
            ],
            "text/plain": [
              "<IPython.core.display.HTML object>"
            ]
          },
          "metadata": {
            "tags": []
          }
        }
      ]
    },
    {
      "cell_type": "code",
      "metadata": {
        "id": "dOkVtQX9tksZ",
        "colab_type": "code",
        "colab": {}
      },
      "source": [
        "path = os.path.abspath('.cnn.py')"
      ],
      "execution_count": 0,
      "outputs": []
    },
    {
      "cell_type": "code",
      "metadata": {
        "id": "IrBvPAUgtyYU",
        "colab_type": "code",
        "colab": {}
      },
      "source": [
        "path = re.sub('[a-zA-Z\\s._]+$', '', path) #remove unintended file"
      ],
      "execution_count": 0,
      "outputs": []
    },
    {
      "cell_type": "code",
      "metadata": {
        "id": "du-5slc1t9cI",
        "colab_type": "code",
        "outputId": "2dff2c05-42e6-4b0d-be5b-705c7ad6d565",
        "colab": {
          "base_uri": "https://localhost:8080/",
          "height": 50
        }
      },
      "source": [
        "img_rows = 256\n",
        "img_cols = 256\n",
        "num_class = 21\n",
        "path = os.path.abspath('.cnn.py') #absolute path of program\n",
        "path = re.sub('[a-zA-Z\\s._]+$', '', path) #remove unintended file\n",
        "x_train = []\n",
        "y_train = []\n",
        "x_test = []\n",
        "y_test = []\n",
        "dirs = os.listdir(path+'/drive/My Drive/ucmerced/UCMerced_LandUse/Images/')\n",
        "dirs=dirs[:-1]\n",
        "print(len(dirs))\n",
        "'''\n",
        "\n",
        "'''"
      ],
      "execution_count": 0,
      "outputs": [
        {
          "output_type": "stream",
          "text": [
            "21\n"
          ],
          "name": "stdout"
        },
        {
          "output_type": "execute_result",
          "data": {
            "text/plain": [
              "'\\n\\n'"
            ]
          },
          "metadata": {
            "tags": []
          },
          "execution_count": 7
        }
      ]
    },
    {
      "cell_type": "code",
      "metadata": {
        "id": "jHP3P0mVt_mj",
        "colab_type": "code",
        "colab": {}
      },
      "source": [
        "label = 0\n",
        "for i in dirs:\n",
        "\tn = 0\n",
        "\tcount = 0\n",
        "\tfor pic in glob.glob(path+'/drive/My Drive/ucmerced/UCMerced_LandUse/Images/'+i+'/*.tif'):\n",
        "\t\tim = Image.open(pic)\n",
        "\t\tim = np.array(im)\n",
        "\t\tif((im.shape[0]==256) and (im.shape[1] ==256) and count <90): #get only 90 data\n",
        "\t\t\tr = im[:,:,0]\n",
        "\t\t\tg = im[:,:,1]\n",
        "\t\t\tb = im[:,:,2]\n",
        "\t\t\t#if(n<5): # 5 data in beginning set as test data\n",
        "\t\t\t#\tx_test.append([r,g,b])\n",
        "\t\t\t#\ty_test.append([label])\n",
        "\t\t\t#else: #remaining data set as training data\n",
        "\t\t\tx_train.append([r,g,b])\n",
        "\t\t\ty_train.append([label])\n",
        "\t\t\tn = n + 1\n",
        "\t\t\tcount = count + 1\n",
        "\t\t#print(count)\n",
        "\tlabel = label + 1"
      ],
      "execution_count": 0,
      "outputs": []
    },
    {
      "cell_type": "code",
      "metadata": {
        "id": "AMZAp5chmGL1",
        "colab_type": "code",
        "colab": {}
      },
      "source": [
        "xtrainlist=x_train\n",
        "y_trainlsit=y_train"
      ],
      "execution_count": 0,
      "outputs": []
    },
    {
      "cell_type": "code",
      "metadata": {
        "id": "MyCeqeNUuB8C",
        "colab_type": "code",
        "colab": {}
      },
      "source": [
        "x_train = np.array(x_train)\n",
        "y_train = np.array(y_train)"
      ],
      "execution_count": 0,
      "outputs": []
    },
    {
      "cell_type": "code",
      "metadata": {
        "id": "5F8fE3vuuGf6",
        "colab_type": "code",
        "outputId": "a487f655-ec15-4738-cde8-97f9e48fb6c7",
        "colab": {
          "base_uri": "https://localhost:8080/",
          "height": 33
        }
      },
      "source": [
        "x_train.shape\n",
        "y_train.shape"
      ],
      "execution_count": 0,
      "outputs": [
        {
          "output_type": "execute_result",
          "data": {
            "text/plain": [
              "(1890, 1)"
            ]
          },
          "metadata": {
            "tags": []
          },
          "execution_count": 11
        }
      ]
    },
    {
      "cell_type": "code",
      "metadata": {
        "id": "xxERR1FON181",
        "colab_type": "code",
        "colab": {}
      },
      "source": [
        "from sklearn.model_selection import train_test_split\n",
        "X_train, X_test, y_train, y_test = train_test_split(x_train, y_train, test_size=0.2, random_state = 142)"
      ],
      "execution_count": 0,
      "outputs": []
    },
    {
      "cell_type": "code",
      "metadata": {
        "id": "Bayy9kykN21H",
        "colab_type": "code",
        "outputId": "ba6b77c2-3231-48de-c64e-35904cb6ec52",
        "colab": {
          "base_uri": "https://localhost:8080/",
          "height": 184
        }
      },
      "source": [
        "y_train[0:10]"
      ],
      "execution_count": 0,
      "outputs": [
        {
          "output_type": "execute_result",
          "data": {
            "text/plain": [
              "array([[17],\n",
              "       [20],\n",
              "       [18],\n",
              "       [16],\n",
              "       [ 8],\n",
              "       [ 4],\n",
              "       [ 5],\n",
              "       [10],\n",
              "       [16],\n",
              "       [16]])"
            ]
          },
          "metadata": {
            "tags": []
          },
          "execution_count": 13
        }
      ]
    },
    {
      "cell_type": "code",
      "metadata": {
        "id": "sXbP5hX-N-13",
        "colab_type": "code",
        "colab": {}
      },
      "source": [
        "x_trainbck=X_train\n",
        "x_testbck=X_test\n"
      ],
      "execution_count": 0,
      "outputs": []
    },
    {
      "cell_type": "code",
      "metadata": {
        "id": "8uRcRo8oN_YD",
        "colab_type": "code",
        "colab": {}
      },
      "source": [
        "x_train=np.array(X_train)\n",
        "x_test=np.array(X_test)"
      ],
      "execution_count": 0,
      "outputs": []
    },
    {
      "cell_type": "code",
      "metadata": {
        "id": "gPeD14S52Ii1",
        "colab_type": "code",
        "outputId": "eb2c6779-261b-43bf-b9de-7c1ad05a9868",
        "colab": {
          "base_uri": "https://localhost:8080/",
          "height": 33
        }
      },
      "source": [
        "x_train.shape"
      ],
      "execution_count": 0,
      "outputs": [
        {
          "output_type": "execute_result",
          "data": {
            "text/plain": [
              "(1512, 3, 256, 256)"
            ]
          },
          "metadata": {
            "tags": []
          },
          "execution_count": 16
        }
      ]
    },
    {
      "cell_type": "code",
      "metadata": {
        "id": "AK0ElV4P2Vd1",
        "colab_type": "code",
        "colab": {}
      },
      "source": [
        "x_train_temp=x_train"
      ],
      "execution_count": 0,
      "outputs": []
    },
    {
      "cell_type": "code",
      "metadata": {
        "id": "MIUMrLXI2XzE",
        "colab_type": "code",
        "colab": {}
      },
      "source": [
        "x_train = x_train.reshape(x_train.shape[0], img_rows, img_cols, 3)\n",
        "x_test = x_test.reshape(x_test.shape[0], img_rows, img_cols, 3)\n",
        "\n",
        "input_shape = (img_rows, img_cols, 3)\n",
        "\n",
        "x_train = x_train.astype('float32')\n",
        "x_test = x_test.astype('float32')\n",
        "x_train /= 255\n",
        "x_test /= 255\n",
        "y_train = keras.utils.to_categorical(y_train, 21)\n",
        "y_test = keras.utils.to_categorical(y_test, 21)"
      ],
      "execution_count": 0,
      "outputs": []
    },
    {
      "cell_type": "code",
      "metadata": {
        "id": "dsRRO_pnziHF",
        "colab_type": "code",
        "colab": {}
      },
      "source": [
        "import time \n",
        "import cv2 \n",
        "from scipy.fftpack import dct \n",
        "import numpy as np\n",
        "#y = np.random.random((5000, 6, 6, 3))\n",
        "t1 = time.time()\n",
        "a = np.zeros((len(x_train), 256, 256, 3))\n",
        "for i in range(len(x_train)):\n",
        "    for j in range(3):\n",
        "        a[i, :, :, j] = cv2.dct(x_train[i, :, :, j])"
      ],
      "execution_count": 0,
      "outputs": []
    },
    {
      "cell_type": "code",
      "metadata": {
        "id": "cSgmPB272ppK",
        "colab_type": "code",
        "colab": {}
      },
      "source": [
        "x_dct=a"
      ],
      "execution_count": 0,
      "outputs": []
    },
    {
      "cell_type": "code",
      "metadata": {
        "id": "2tu0trGd2vUR",
        "colab_type": "code",
        "outputId": "2883b829-18e0-4bdd-ebd5-c50644dc76b4",
        "colab": {
          "base_uri": "https://localhost:8080/",
          "height": 33
        }
      },
      "source": [
        "x_dct.shape"
      ],
      "execution_count": 0,
      "outputs": [
        {
          "output_type": "execute_result",
          "data": {
            "text/plain": [
              "(1512, 256, 256, 3)"
            ]
          },
          "metadata": {
            "tags": []
          },
          "execution_count": 22
        }
      ]
    },
    {
      "cell_type": "code",
      "metadata": {
        "id": "dgBSq6gL2xRi",
        "colab_type": "code",
        "colab": {}
      },
      "source": [
        "input_shape = (img_rows, img_cols, 3)"
      ],
      "execution_count": 0,
      "outputs": []
    },
    {
      "cell_type": "code",
      "metadata": {
        "id": "FPWpyhvI25zr",
        "colab_type": "code",
        "colab": {}
      },
      "source": [
        "x_dct_final = np.random.random((len(x_dct), 32, 32, 3))"
      ],
      "execution_count": 0,
      "outputs": []
    },
    {
      "cell_type": "code",
      "metadata": {
        "id": "ahLIf23E3CDX",
        "colab_type": "code",
        "colab": {}
      },
      "source": [
        "for i in range(1512):\n",
        "  for j in range(32):\n",
        "    for k in range(32):\n",
        "      for l in range(3):\n",
        "        x_dct_final[i,j,k,l]=x_dct[i,j,k,l]"
      ],
      "execution_count": 0,
      "outputs": []
    },
    {
      "cell_type": "code",
      "metadata": {
        "id": "RxILPPu63lIr",
        "colab_type": "code",
        "outputId": "7aeceb43-8389-4472-9340-1b494d53c353",
        "colab": {
          "base_uri": "https://localhost:8080/",
          "height": 33
        }
      },
      "source": [
        "x_dct_final.shape"
      ],
      "execution_count": 0,
      "outputs": [
        {
          "output_type": "execute_result",
          "data": {
            "text/plain": [
              "(1512, 32, 32, 3)"
            ]
          },
          "metadata": {
            "tags": []
          },
          "execution_count": 26
        }
      ]
    },
    {
      "cell_type": "code",
      "metadata": {
        "id": "Wcqz-Ow23smK",
        "colab_type": "code",
        "colab": {}
      },
      "source": [
        "input_shape1 = (img_rows, img_cols, 3)\n",
        "input_shape2 = (32, 32, 3)"
      ],
      "execution_count": 0,
      "outputs": []
    },
    {
      "cell_type": "code",
      "metadata": {
        "colab_type": "code",
        "id": "RjgFjvv8467J",
        "colab": {}
      },
      "source": [
        "\n",
        "#y = np.random.random((5000, 6, 6, 3))\n",
        "t1 = time.time()\n",
        "a1 = np.zeros((len(x_test), 256, 256, 3))\n",
        "for i in range(len(x_test)):\n",
        "    for j in range(3):\n",
        "        a1[i, :, :, j] = cv2.dct(x_test[i, :, :, j])"
      ],
      "execution_count": 0,
      "outputs": []
    },
    {
      "cell_type": "code",
      "metadata": {
        "colab_type": "code",
        "id": "2qaM98aE467R",
        "colab": {}
      },
      "source": [
        "x_dct_t=a1"
      ],
      "execution_count": 0,
      "outputs": []
    },
    {
      "cell_type": "code",
      "metadata": {
        "colab_type": "code",
        "outputId": "f21c5237-58f9-487d-e018-a82d0a9b708e",
        "id": "egrGDl7Q467T",
        "colab": {
          "base_uri": "https://localhost:8080/",
          "height": 33
        }
      },
      "source": [
        "x_dct_t.shape"
      ],
      "execution_count": 0,
      "outputs": [
        {
          "output_type": "execute_result",
          "data": {
            "text/plain": [
              "(378, 256, 256, 3)"
            ]
          },
          "metadata": {
            "tags": []
          },
          "execution_count": 30
        }
      ]
    },
    {
      "cell_type": "code",
      "metadata": {
        "colab_type": "code",
        "id": "j7UNCpcA467W",
        "colab": {}
      },
      "source": [
        "x_dct_test = np.random.random((len(x_dct_t), 32, 32, 3))"
      ],
      "execution_count": 0,
      "outputs": []
    },
    {
      "cell_type": "code",
      "metadata": {
        "colab_type": "code",
        "id": "KPL0DfqD467Y",
        "colab": {}
      },
      "source": [
        "for i in range(378):\n",
        "  for j in range(32):\n",
        "    for k in range(32):\n",
        "      for l in range(3):\n",
        "        x_dct_test[i,j,k,l]=x_dct_t[i,j,k,l]"
      ],
      "execution_count": 0,
      "outputs": []
    },
    {
      "cell_type": "code",
      "metadata": {
        "colab_type": "code",
        "outputId": "35ab3139-a9b1-4fbb-eaee-524d8fc825ea",
        "id": "OJjzYWLi467c",
        "colab": {
          "base_uri": "https://localhost:8080/",
          "height": 33
        }
      },
      "source": [
        "x_dct_test.shape"
      ],
      "execution_count": 0,
      "outputs": [
        {
          "output_type": "execute_result",
          "data": {
            "text/plain": [
              "(378, 32, 32, 3)"
            ]
          },
          "metadata": {
            "tags": []
          },
          "execution_count": 33
        }
      ]
    },
    {
      "cell_type": "code",
      "metadata": {
        "colab_type": "code",
        "id": "ESC371GW40CB",
        "colab": {}
      },
      "source": [
        "from keras.layers import Input, Conv2D, Dense, concatenate\n",
        "from keras.models import Model"
      ],
      "execution_count": 0,
      "outputs": []
    },
    {
      "cell_type": "code",
      "metadata": {
        "colab_type": "code",
        "id": "CCH104j-40CF",
        "colab": {}
      },
      "source": [
        "from PIL import Image #import Python Image Library\n",
        "import numpy as np\n",
        "import os\n",
        "import glob\n",
        "import re\n",
        "import keras\n",
        "from keras.models import Sequential\n",
        "from keras.layers import Dense, Dropout, Activation, Flatten,LeakyReLU\n",
        "from keras.layers import Conv2D, MaxPooling2D\n",
        "from keras.utils import np_utils\n",
        "from keras import backend as K"
      ],
      "execution_count": 0,
      "outputs": []
    },
    {
      "cell_type": "code",
      "metadata": {
        "colab_type": "code",
        "id": "xrR3mVU540CH",
        "outputId": "32a68150-9149-4012-e9cf-fe7e3240f480",
        "colab": {
          "base_uri": "https://localhost:8080/",
          "height": 104
        }
      },
      "source": [
        "from keras.layers import *\n",
        "inputTensor1 = Input(input_shape1)\n",
        "inputTensor2 = Input(input_shape2)"
      ],
      "execution_count": 0,
      "outputs": [
        {
          "output_type": "stream",
          "text": [
            "WARNING:tensorflow:From /usr/local/lib/python3.6/dist-packages/keras/backend/tensorflow_backend.py:66: The name tf.get_default_graph is deprecated. Please use tf.compat.v1.get_default_graph instead.\n",
            "\n",
            "WARNING:tensorflow:From /usr/local/lib/python3.6/dist-packages/keras/backend/tensorflow_backend.py:541: The name tf.placeholder is deprecated. Please use tf.compat.v1.placeholder instead.\n",
            "\n"
          ],
          "name": "stdout"
        }
      ]
    },
    {
      "cell_type": "code",
      "metadata": {
        "id": "XkVmVoPcOvjC",
        "colab_type": "code",
        "outputId": "35c3a276-18b1-4cbb-b709-216df859cd3c",
        "colab": {
          "base_uri": "https://localhost:8080/",
          "height": 254
        }
      },
      "source": [
        "model = Sequential()\n",
        "model.add(Conv2D(32, kernel_size=(3, 3),activation='relu',input_shape=input_shape2))\n",
        "model.add(MaxPooling2D(pool_size=(2,2)))\n",
        "model.add(Conv2D(32, (3, 3), activation='relu'))\n",
        "model.add(MaxPooling2D(pool_size=(2,2)))\n",
        "model.add(Dropout(0.25))\n",
        "model.add(Flatten())\n",
        "model.add(Dense(128, activation='relu'))\n",
        "model.add(Dropout(0.5))\n",
        "model.add(Dense(21, activation='softmax'))\n",
        "model.compile(loss='categorical_crossentropy',\n",
        "            optimizer='adam',\n",
        "            metrics=['accuracy'])"
      ],
      "execution_count": 0,
      "outputs": [
        {
          "output_type": "stream",
          "text": [
            "WARNING:tensorflow:From /usr/local/lib/python3.6/dist-packages/keras/backend/tensorflow_backend.py:4432: The name tf.random_uniform is deprecated. Please use tf.random.uniform instead.\n",
            "\n",
            "WARNING:tensorflow:From /usr/local/lib/python3.6/dist-packages/keras/backend/tensorflow_backend.py:4267: The name tf.nn.max_pool is deprecated. Please use tf.nn.max_pool2d instead.\n",
            "\n",
            "WARNING:tensorflow:From /usr/local/lib/python3.6/dist-packages/keras/backend/tensorflow_backend.py:148: The name tf.placeholder_with_default is deprecated. Please use tf.compat.v1.placeholder_with_default instead.\n",
            "\n",
            "WARNING:tensorflow:From /usr/local/lib/python3.6/dist-packages/keras/backend/tensorflow_backend.py:3733: calling dropout (from tensorflow.python.ops.nn_ops) with keep_prob is deprecated and will be removed in a future version.\n",
            "Instructions for updating:\n",
            "Please use `rate` instead of `keep_prob`. Rate should be set to `rate = 1 - keep_prob`.\n",
            "WARNING:tensorflow:From /usr/local/lib/python3.6/dist-packages/keras/optimizers.py:793: The name tf.train.Optimizer is deprecated. Please use tf.compat.v1.train.Optimizer instead.\n",
            "\n",
            "WARNING:tensorflow:From /usr/local/lib/python3.6/dist-packages/keras/backend/tensorflow_backend.py:3576: The name tf.log is deprecated. Please use tf.math.log instead.\n",
            "\n"
          ],
          "name": "stdout"
        }
      ]
    },
    {
      "cell_type": "code",
      "metadata": {
        "id": "MOYibkOFO1Ut",
        "colab_type": "code",
        "outputId": "461ee6c7-84b6-4328-9a42-f3f21721d9f8",
        "colab": {
          "base_uri": "https://localhost:8080/",
          "height": 1000
        }
      },
      "source": [
        "model.fit(x_dct_final, y_train, batch_size=50, nb_epoch=100, verbose=1, validation_data=(x_dct_test, y_test))"
      ],
      "execution_count": 0,
      "outputs": [
        {
          "output_type": "stream",
          "text": [
            "WARNING:tensorflow:From /usr/local/lib/python3.6/dist-packages/tensorflow_core/python/ops/math_grad.py:1424: where (from tensorflow.python.ops.array_ops) is deprecated and will be removed in a future version.\n",
            "Instructions for updating:\n",
            "Use tf.where in 2.0, which has the same broadcast rule as np.where\n"
          ],
          "name": "stdout"
        },
        {
          "output_type": "stream",
          "text": [
            "/usr/local/lib/python3.6/dist-packages/ipykernel_launcher.py:1: UserWarning: The `nb_epoch` argument in `fit` has been renamed `epochs`.\n",
            "  \"\"\"Entry point for launching an IPython kernel.\n"
          ],
          "name": "stderr"
        },
        {
          "output_type": "stream",
          "text": [
            "WARNING:tensorflow:From /usr/local/lib/python3.6/dist-packages/keras/backend/tensorflow_backend.py:1033: The name tf.assign_add is deprecated. Please use tf.compat.v1.assign_add instead.\n",
            "\n",
            "WARNING:tensorflow:From /usr/local/lib/python3.6/dist-packages/keras/backend/tensorflow_backend.py:1020: The name tf.assign is deprecated. Please use tf.compat.v1.assign instead.\n",
            "\n",
            "WARNING:tensorflow:From /usr/local/lib/python3.6/dist-packages/keras/backend/tensorflow_backend.py:3005: The name tf.Session is deprecated. Please use tf.compat.v1.Session instead.\n",
            "\n",
            "Train on 1512 samples, validate on 378 samples\n",
            "Epoch 1/100\n",
            "WARNING:tensorflow:From /usr/local/lib/python3.6/dist-packages/keras/backend/tensorflow_backend.py:190: The name tf.get_default_session is deprecated. Please use tf.compat.v1.get_default_session instead.\n",
            "\n",
            "WARNING:tensorflow:From /usr/local/lib/python3.6/dist-packages/keras/backend/tensorflow_backend.py:197: The name tf.ConfigProto is deprecated. Please use tf.compat.v1.ConfigProto instead.\n",
            "\n",
            "WARNING:tensorflow:From /usr/local/lib/python3.6/dist-packages/keras/backend/tensorflow_backend.py:207: The name tf.global_variables is deprecated. Please use tf.compat.v1.global_variables instead.\n",
            "\n",
            "WARNING:tensorflow:From /usr/local/lib/python3.6/dist-packages/keras/backend/tensorflow_backend.py:216: The name tf.is_variable_initialized is deprecated. Please use tf.compat.v1.is_variable_initialized instead.\n",
            "\n",
            "WARNING:tensorflow:From /usr/local/lib/python3.6/dist-packages/keras/backend/tensorflow_backend.py:223: The name tf.variables_initializer is deprecated. Please use tf.compat.v1.variables_initializer instead.\n",
            "\n",
            "1512/1512 [==============================] - 7s 5ms/step - loss: 3.1118 - acc: 0.0754 - val_loss: 2.9234 - val_acc: 0.1772\n",
            "Epoch 2/100\n",
            "1512/1512 [==============================] - 0s 144us/step - loss: 2.8616 - acc: 0.1336 - val_loss: 2.7122 - val_acc: 0.1825\n",
            "Epoch 3/100\n",
            "1512/1512 [==============================] - 0s 167us/step - loss: 2.6620 - acc: 0.2044 - val_loss: 2.5397 - val_acc: 0.2249\n",
            "Epoch 4/100\n",
            "1512/1512 [==============================] - 0s 174us/step - loss: 2.5121 - acc: 0.2388 - val_loss: 2.4134 - val_acc: 0.2407\n",
            "Epoch 5/100\n",
            "1512/1512 [==============================] - 0s 159us/step - loss: 2.3508 - acc: 0.2738 - val_loss: 2.2496 - val_acc: 0.3386\n",
            "Epoch 6/100\n",
            "1512/1512 [==============================] - 0s 159us/step - loss: 2.1803 - acc: 0.3122 - val_loss: 2.1936 - val_acc: 0.3545\n",
            "Epoch 7/100\n",
            "1512/1512 [==============================] - 0s 158us/step - loss: 2.0744 - acc: 0.3604 - val_loss: 2.0813 - val_acc: 0.3995\n",
            "Epoch 8/100\n",
            "1512/1512 [==============================] - 0s 155us/step - loss: 1.9760 - acc: 0.3843 - val_loss: 2.0017 - val_acc: 0.3942\n",
            "Epoch 9/100\n",
            "1512/1512 [==============================] - 0s 148us/step - loss: 1.8583 - acc: 0.4299 - val_loss: 1.9509 - val_acc: 0.4153\n",
            "Epoch 10/100\n",
            "1512/1512 [==============================] - 0s 154us/step - loss: 1.7518 - acc: 0.4656 - val_loss: 1.9040 - val_acc: 0.4180\n",
            "Epoch 11/100\n",
            "1512/1512 [==============================] - 0s 143us/step - loss: 1.6905 - acc: 0.4802 - val_loss: 1.8697 - val_acc: 0.4048\n",
            "Epoch 12/100\n",
            "1512/1512 [==============================] - 0s 164us/step - loss: 1.5721 - acc: 0.5112 - val_loss: 1.8472 - val_acc: 0.4180\n",
            "Epoch 13/100\n",
            "1512/1512 [==============================] - 0s 161us/step - loss: 1.5288 - acc: 0.5179 - val_loss: 1.8154 - val_acc: 0.4286\n",
            "Epoch 14/100\n",
            "1512/1512 [==============================] - 0s 150us/step - loss: 1.4122 - acc: 0.5476 - val_loss: 1.8427 - val_acc: 0.4286\n",
            "Epoch 15/100\n",
            "1512/1512 [==============================] - 0s 163us/step - loss: 1.3168 - acc: 0.5794 - val_loss: 1.7752 - val_acc: 0.4365\n",
            "Epoch 16/100\n",
            "1512/1512 [==============================] - 0s 148us/step - loss: 1.2853 - acc: 0.5833 - val_loss: 1.7956 - val_acc: 0.4312\n",
            "Epoch 17/100\n",
            "1512/1512 [==============================] - 0s 158us/step - loss: 1.2337 - acc: 0.6091 - val_loss: 1.7577 - val_acc: 0.4392\n",
            "Epoch 18/100\n",
            "1512/1512 [==============================] - 0s 150us/step - loss: 1.1436 - acc: 0.6389 - val_loss: 1.7881 - val_acc: 0.4444\n",
            "Epoch 19/100\n",
            "1512/1512 [==============================] - 0s 153us/step - loss: 1.1264 - acc: 0.6296 - val_loss: 1.7898 - val_acc: 0.4735\n",
            "Epoch 20/100\n",
            "1512/1512 [==============================] - 0s 162us/step - loss: 1.0784 - acc: 0.6653 - val_loss: 1.7925 - val_acc: 0.4683\n",
            "Epoch 21/100\n",
            "1512/1512 [==============================] - 0s 165us/step - loss: 0.9796 - acc: 0.6819 - val_loss: 1.8061 - val_acc: 0.4656\n",
            "Epoch 22/100\n",
            "1512/1512 [==============================] - 0s 168us/step - loss: 0.9413 - acc: 0.7063 - val_loss: 1.7967 - val_acc: 0.4577\n",
            "Epoch 23/100\n",
            "1512/1512 [==============================] - 0s 171us/step - loss: 0.8938 - acc: 0.7229 - val_loss: 1.7633 - val_acc: 0.4656\n",
            "Epoch 24/100\n",
            "1512/1512 [==============================] - 0s 164us/step - loss: 0.8577 - acc: 0.7262 - val_loss: 1.8296 - val_acc: 0.4683\n",
            "Epoch 25/100\n",
            "1512/1512 [==============================] - 0s 175us/step - loss: 0.7807 - acc: 0.7533 - val_loss: 1.8394 - val_acc: 0.4815\n",
            "Epoch 26/100\n",
            "1512/1512 [==============================] - 0s 156us/step - loss: 0.7391 - acc: 0.7712 - val_loss: 1.8438 - val_acc: 0.4788\n",
            "Epoch 27/100\n",
            "1512/1512 [==============================] - 0s 150us/step - loss: 0.7192 - acc: 0.7725 - val_loss: 1.8688 - val_acc: 0.4815\n",
            "Epoch 28/100\n",
            "1512/1512 [==============================] - 0s 154us/step - loss: 0.7191 - acc: 0.7778 - val_loss: 1.9165 - val_acc: 0.4524\n",
            "Epoch 29/100\n",
            "1512/1512 [==============================] - 0s 167us/step - loss: 0.7002 - acc: 0.7659 - val_loss: 1.8617 - val_acc: 0.4656\n",
            "Epoch 30/100\n",
            "1512/1512 [==============================] - 0s 164us/step - loss: 0.6587 - acc: 0.7950 - val_loss: 1.8313 - val_acc: 0.4762\n",
            "Epoch 31/100\n",
            "1512/1512 [==============================] - 0s 174us/step - loss: 0.6043 - acc: 0.8036 - val_loss: 1.9400 - val_acc: 0.4841\n",
            "Epoch 32/100\n",
            "1512/1512 [==============================] - 0s 168us/step - loss: 0.5665 - acc: 0.8161 - val_loss: 2.0105 - val_acc: 0.4656\n",
            "Epoch 33/100\n",
            "1512/1512 [==============================] - 0s 165us/step - loss: 0.5837 - acc: 0.7956 - val_loss: 2.0095 - val_acc: 0.4577\n",
            "Epoch 34/100\n",
            "1512/1512 [==============================] - 0s 174us/step - loss: 0.5332 - acc: 0.8194 - val_loss: 1.9047 - val_acc: 0.4709\n",
            "Epoch 35/100\n",
            "1512/1512 [==============================] - 0s 161us/step - loss: 0.5541 - acc: 0.8142 - val_loss: 2.0414 - val_acc: 0.4603\n",
            "Epoch 36/100\n",
            "1512/1512 [==============================] - 0s 150us/step - loss: 0.4892 - acc: 0.8393 - val_loss: 2.2008 - val_acc: 0.4735\n",
            "Epoch 37/100\n",
            "1512/1512 [==============================] - 0s 161us/step - loss: 0.4723 - acc: 0.8459 - val_loss: 1.9959 - val_acc: 0.4656\n",
            "Epoch 38/100\n",
            "1512/1512 [==============================] - 0s 154us/step - loss: 0.4933 - acc: 0.8340 - val_loss: 2.0500 - val_acc: 0.4656\n",
            "Epoch 39/100\n",
            "1512/1512 [==============================] - 0s 168us/step - loss: 0.4614 - acc: 0.8505 - val_loss: 2.0509 - val_acc: 0.4788\n",
            "Epoch 40/100\n",
            "1512/1512 [==============================] - 0s 152us/step - loss: 0.4482 - acc: 0.8611 - val_loss: 2.0208 - val_acc: 0.4841\n",
            "Epoch 41/100\n",
            "1512/1512 [==============================] - 0s 153us/step - loss: 0.4431 - acc: 0.8618 - val_loss: 2.1218 - val_acc: 0.4735\n",
            "Epoch 42/100\n",
            "1512/1512 [==============================] - 0s 149us/step - loss: 0.4492 - acc: 0.8591 - val_loss: 2.0261 - val_acc: 0.4841\n",
            "Epoch 43/100\n",
            "1512/1512 [==============================] - 0s 150us/step - loss: 0.3973 - acc: 0.8677 - val_loss: 2.0913 - val_acc: 0.4788\n",
            "Epoch 44/100\n",
            "1512/1512 [==============================] - 0s 151us/step - loss: 0.4109 - acc: 0.8717 - val_loss: 2.1660 - val_acc: 0.4735\n",
            "Epoch 45/100\n",
            "1512/1512 [==============================] - 0s 166us/step - loss: 0.4425 - acc: 0.8624 - val_loss: 2.0045 - val_acc: 0.4815\n",
            "Epoch 46/100\n",
            "1512/1512 [==============================] - 0s 169us/step - loss: 0.3716 - acc: 0.8737 - val_loss: 2.1637 - val_acc: 0.4788\n",
            "Epoch 47/100\n",
            "1512/1512 [==============================] - 0s 168us/step - loss: 0.3229 - acc: 0.8948 - val_loss: 2.1906 - val_acc: 0.4921\n",
            "Epoch 48/100\n",
            "1512/1512 [==============================] - 0s 173us/step - loss: 0.3747 - acc: 0.8757 - val_loss: 2.1878 - val_acc: 0.4762\n",
            "Epoch 49/100\n",
            "1512/1512 [==============================] - 0s 150us/step - loss: 0.3187 - acc: 0.8962 - val_loss: 2.2698 - val_acc: 0.4947\n",
            "Epoch 50/100\n",
            "1512/1512 [==============================] - 0s 153us/step - loss: 0.3501 - acc: 0.8796 - val_loss: 2.2033 - val_acc: 0.4841\n",
            "Epoch 51/100\n",
            "1512/1512 [==============================] - 0s 164us/step - loss: 0.3347 - acc: 0.8962 - val_loss: 2.2161 - val_acc: 0.4841\n",
            "Epoch 52/100\n",
            "1512/1512 [==============================] - 0s 169us/step - loss: 0.3112 - acc: 0.9015 - val_loss: 2.2263 - val_acc: 0.4921\n",
            "Epoch 53/100\n",
            "1512/1512 [==============================] - 0s 184us/step - loss: 0.3118 - acc: 0.8975 - val_loss: 2.2713 - val_acc: 0.4868\n",
            "Epoch 54/100\n",
            "1512/1512 [==============================] - 0s 161us/step - loss: 0.3282 - acc: 0.8981 - val_loss: 2.2336 - val_acc: 0.4630\n",
            "Epoch 55/100\n",
            "1512/1512 [==============================] - 0s 177us/step - loss: 0.3012 - acc: 0.9041 - val_loss: 2.2000 - val_acc: 0.4815\n",
            "Epoch 56/100\n",
            "1512/1512 [==============================] - 0s 170us/step - loss: 0.3266 - acc: 0.9041 - val_loss: 2.2398 - val_acc: 0.4762\n",
            "Epoch 57/100\n",
            "1512/1512 [==============================] - 0s 174us/step - loss: 0.3306 - acc: 0.8862 - val_loss: 2.2699 - val_acc: 0.4894\n",
            "Epoch 58/100\n",
            "1512/1512 [==============================] - 0s 160us/step - loss: 0.3346 - acc: 0.8856 - val_loss: 2.1814 - val_acc: 0.4735\n",
            "Epoch 59/100\n",
            "1512/1512 [==============================] - 0s 167us/step - loss: 0.3217 - acc: 0.8975 - val_loss: 2.2250 - val_acc: 0.4683\n",
            "Epoch 60/100\n",
            "1512/1512 [==============================] - 0s 169us/step - loss: 0.2676 - acc: 0.9153 - val_loss: 2.2812 - val_acc: 0.4894\n",
            "Epoch 61/100\n",
            "1512/1512 [==============================] - 0s 170us/step - loss: 0.2669 - acc: 0.9153 - val_loss: 2.3048 - val_acc: 0.4815\n",
            "Epoch 62/100\n",
            "1512/1512 [==============================] - 0s 152us/step - loss: 0.2621 - acc: 0.9180 - val_loss: 2.3109 - val_acc: 0.4815\n",
            "Epoch 63/100\n",
            "1512/1512 [==============================] - 0s 147us/step - loss: 0.2612 - acc: 0.9193 - val_loss: 2.5206 - val_acc: 0.4841\n",
            "Epoch 64/100\n",
            "1512/1512 [==============================] - 0s 157us/step - loss: 0.2960 - acc: 0.9015 - val_loss: 2.3643 - val_acc: 0.4947\n",
            "Epoch 65/100\n",
            "1512/1512 [==============================] - 0s 146us/step - loss: 0.2308 - acc: 0.9266 - val_loss: 2.3452 - val_acc: 0.4815\n",
            "Epoch 66/100\n",
            "1512/1512 [==============================] - 0s 151us/step - loss: 0.2086 - acc: 0.9372 - val_loss: 2.4390 - val_acc: 0.4894\n",
            "Epoch 67/100\n",
            "1512/1512 [==============================] - 0s 146us/step - loss: 0.2059 - acc: 0.9378 - val_loss: 2.4446 - val_acc: 0.4815\n",
            "Epoch 68/100\n",
            "1512/1512 [==============================] - 0s 157us/step - loss: 0.2156 - acc: 0.9233 - val_loss: 2.5025 - val_acc: 0.4921\n",
            "Epoch 69/100\n",
            "1512/1512 [==============================] - 0s 150us/step - loss: 0.2600 - acc: 0.9153 - val_loss: 2.5755 - val_acc: 0.4815\n",
            "Epoch 70/100\n",
            "1512/1512 [==============================] - 0s 148us/step - loss: 0.2481 - acc: 0.9153 - val_loss: 2.4116 - val_acc: 0.4868\n",
            "Epoch 71/100\n",
            "1512/1512 [==============================] - 0s 140us/step - loss: 0.2343 - acc: 0.9246 - val_loss: 2.4387 - val_acc: 0.4788\n",
            "Epoch 72/100\n",
            "1512/1512 [==============================] - 0s 159us/step - loss: 0.2112 - acc: 0.9253 - val_loss: 2.5001 - val_acc: 0.4709\n",
            "Epoch 73/100\n",
            "1512/1512 [==============================] - 0s 165us/step - loss: 0.2165 - acc: 0.9332 - val_loss: 2.5200 - val_acc: 0.4868\n",
            "Epoch 74/100\n",
            "1512/1512 [==============================] - 0s 148us/step - loss: 0.2283 - acc: 0.9253 - val_loss: 2.5249 - val_acc: 0.4815\n",
            "Epoch 75/100\n",
            "1512/1512 [==============================] - 0s 148us/step - loss: 0.2090 - acc: 0.9299 - val_loss: 2.4270 - val_acc: 0.4577\n",
            "Epoch 76/100\n",
            "1512/1512 [==============================] - 0s 147us/step - loss: 0.1922 - acc: 0.9299 - val_loss: 2.5526 - val_acc: 0.4656\n",
            "Epoch 77/100\n",
            "1512/1512 [==============================] - 0s 161us/step - loss: 0.2115 - acc: 0.9352 - val_loss: 2.5135 - val_acc: 0.4762\n",
            "Epoch 78/100\n",
            "1512/1512 [==============================] - 0s 171us/step - loss: 0.2096 - acc: 0.9266 - val_loss: 2.5311 - val_acc: 0.4841\n",
            "Epoch 79/100\n",
            "1512/1512 [==============================] - 0s 172us/step - loss: 0.1831 - acc: 0.9431 - val_loss: 2.4719 - val_acc: 0.4815\n",
            "Epoch 80/100\n",
            "1512/1512 [==============================] - 0s 152us/step - loss: 0.1939 - acc: 0.9365 - val_loss: 2.4811 - val_acc: 0.4841\n",
            "Epoch 81/100\n",
            "1512/1512 [==============================] - 0s 178us/step - loss: 0.2150 - acc: 0.9266 - val_loss: 2.4314 - val_acc: 0.4841\n",
            "Epoch 82/100\n",
            "1512/1512 [==============================] - 0s 169us/step - loss: 0.1861 - acc: 0.9372 - val_loss: 2.3948 - val_acc: 0.5000\n",
            "Epoch 83/100\n",
            "1512/1512 [==============================] - 0s 161us/step - loss: 0.1816 - acc: 0.9372 - val_loss: 2.5223 - val_acc: 0.4921\n",
            "Epoch 84/100\n",
            "1512/1512 [==============================] - 0s 148us/step - loss: 0.1810 - acc: 0.9405 - val_loss: 2.5428 - val_acc: 0.5026\n",
            "Epoch 85/100\n",
            "1512/1512 [==============================] - 0s 156us/step - loss: 0.1585 - acc: 0.9511 - val_loss: 2.5966 - val_acc: 0.4894\n",
            "Epoch 86/100\n",
            "1512/1512 [==============================] - 0s 181us/step - loss: 0.1998 - acc: 0.9378 - val_loss: 2.5177 - val_acc: 0.4974\n",
            "Epoch 87/100\n",
            "1512/1512 [==============================] - 0s 163us/step - loss: 0.1807 - acc: 0.9372 - val_loss: 2.5736 - val_acc: 0.4894\n",
            "Epoch 88/100\n",
            "1512/1512 [==============================] - 0s 148us/step - loss: 0.1759 - acc: 0.9411 - val_loss: 2.6136 - val_acc: 0.4894\n",
            "Epoch 89/100\n",
            "1512/1512 [==============================] - 0s 150us/step - loss: 0.1710 - acc: 0.9438 - val_loss: 2.5343 - val_acc: 0.5000\n",
            "Epoch 90/100\n",
            "1512/1512 [==============================] - 0s 166us/step - loss: 0.1988 - acc: 0.9411 - val_loss: 2.3981 - val_acc: 0.5185\n",
            "Epoch 91/100\n",
            "1512/1512 [==============================] - 0s 169us/step - loss: 0.1904 - acc: 0.9392 - val_loss: 2.6324 - val_acc: 0.4947\n",
            "Epoch 92/100\n",
            "1512/1512 [==============================] - 0s 146us/step - loss: 0.1684 - acc: 0.9484 - val_loss: 2.6706 - val_acc: 0.4921\n",
            "Epoch 93/100\n",
            "1512/1512 [==============================] - 0s 146us/step - loss: 0.1822 - acc: 0.9352 - val_loss: 2.7257 - val_acc: 0.4630\n",
            "Epoch 94/100\n",
            "1512/1512 [==============================] - 0s 179us/step - loss: 0.1732 - acc: 0.9478 - val_loss: 2.6325 - val_acc: 0.4894\n",
            "Epoch 95/100\n",
            "1512/1512 [==============================] - 0s 180us/step - loss: 0.1766 - acc: 0.9478 - val_loss: 2.4921 - val_acc: 0.4947\n",
            "Epoch 96/100\n",
            "1512/1512 [==============================] - 0s 165us/step - loss: 0.1951 - acc: 0.9411 - val_loss: 2.6532 - val_acc: 0.4921\n",
            "Epoch 97/100\n",
            "1512/1512 [==============================] - 0s 156us/step - loss: 0.1815 - acc: 0.9444 - val_loss: 2.6451 - val_acc: 0.4947\n",
            "Epoch 98/100\n",
            "1512/1512 [==============================] - 0s 154us/step - loss: 0.1541 - acc: 0.9484 - val_loss: 2.4554 - val_acc: 0.5132\n",
            "Epoch 99/100\n",
            "1512/1512 [==============================] - 0s 167us/step - loss: 0.1574 - acc: 0.9517 - val_loss: 2.5556 - val_acc: 0.5000\n",
            "Epoch 100/100\n",
            "1512/1512 [==============================] - 0s 177us/step - loss: 0.1639 - acc: 0.9431 - val_loss: 2.5361 - val_acc: 0.4947\n"
          ],
          "name": "stdout"
        },
        {
          "output_type": "execute_result",
          "data": {
            "text/plain": [
              "<keras.callbacks.History at 0x7fdc924edf28>"
            ]
          },
          "metadata": {
            "tags": []
          },
          "execution_count": 41
        }
      ]
    },
    {
      "cell_type": "code",
      "metadata": {
        "id": "HJDw_oS3YNZ7",
        "colab_type": "code",
        "outputId": "eb3457ab-8133-46ec-ebdd-f0d143c78857",
        "colab": {
          "base_uri": "https://localhost:8080/",
          "height": 67
        }
      },
      "source": [
        "loss, acc = model.evaluate(x_dct_test, y_test, verbose=0)\n",
        "print('\\nTesting loss: {}, acc: {}\\n'.format(loss, acc))"
      ],
      "execution_count": 0,
      "outputs": [
        {
          "output_type": "stream",
          "text": [
            "\n",
            "Testing loss: 2.536061160778873, acc: 0.49470899486667896\n",
            "\n"
          ],
          "name": "stdout"
        }
      ]
    }
  ]
}