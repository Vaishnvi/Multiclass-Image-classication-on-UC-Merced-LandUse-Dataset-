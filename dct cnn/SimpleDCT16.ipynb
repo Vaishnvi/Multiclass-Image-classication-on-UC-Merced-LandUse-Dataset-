{
  "nbformat": 4,
  "nbformat_minor": 0,
  "metadata": {
    "colab": {
      "name": "SimpleDCT16.ipynb",
      "provenance": [],
      "collapsed_sections": []
    },
    "kernelspec": {
      "name": "python3",
      "display_name": "Python 3"
    },
    "accelerator": "GPU"
  },
  "cells": [
    {
      "cell_type": "code",
      "metadata": {
        "id": "0uFv2dBozGvg",
        "colab_type": "code",
        "colab": {}
      },
      "source": [
        ""
      ],
      "execution_count": 0,
      "outputs": []
    },
    {
      "cell_type": "code",
      "metadata": {
        "id": "TqowlWJ3sfDP",
        "colab_type": "code",
        "colab": {}
      },
      "source": [
        "import numpy as np\n",
        "import matplotlib.pyplot as plt\n",
        "import os\n",
        "import cv2\n",
        "from tqdm import tqdm"
      ],
      "execution_count": 0,
      "outputs": []
    },
    {
      "cell_type": "code",
      "metadata": {
        "id": "GjV8uzLhtQ0H",
        "colab_type": "code",
        "colab": {}
      },
      "source": [
        "DATADIR = '/content/drive/My Drive/ucmerced/UCMerced_LandUse/Images/'\n",
        "\n",
        "CATEGORIES = [ 'agricultural',  'airplane',    'baseballdiamond', 'beach',   'buildings',          'chaparral',         'denseresidential',\n",
        "                'forest',        'freeway',     'golfcourse',      'harbor',  'intersection',       'mediumresidential', 'mobilehomepark',\n",
        "                'overpass',      'parkinglot',  'river',           'runway',  'sparseresidential',  'storagetanks',      'tenniscourt' ]\n"
      ],
      "execution_count": 0,
      "outputs": []
    },
    {
      "cell_type": "code",
      "metadata": {
        "id": "JFHfvkShtUtf",
        "colab_type": "code",
        "outputId": "d1104758-9148-4159-aedd-530d983d8db6",
        "colab": {
          "base_uri": "https://localhost:8080/",
          "height": 54
        }
      },
      "source": [
        "from google.colab import drive\n",
        "drive.mount('/content/drive')\n"
      ],
      "execution_count": 0,
      "outputs": [
        {
          "output_type": "stream",
          "text": [
            "Drive already mounted at /content/drive; to attempt to forcibly remount, call drive.mount(\"/content/drive\", force_remount=True).\n"
          ],
          "name": "stdout"
        }
      ]
    },
    {
      "cell_type": "code",
      "metadata": {
        "id": "AlX-6rl3tfJo",
        "colab_type": "code",
        "colab": {}
      },
      "source": [
        "from PIL import Image #import Python Image Library\n",
        "import numpy as np\n",
        "import os\n",
        "import glob\n",
        "import re\n",
        "import keras\n",
        "from keras.models import Sequential\n",
        "from keras.layers import Dense, Dropout, Activation, Flatten\n",
        "from keras.layers import Conv2D, MaxPooling2D\n",
        "from keras.utils import np_utils\n",
        "from keras import backend as K"
      ],
      "execution_count": 0,
      "outputs": []
    },
    {
      "cell_type": "code",
      "metadata": {
        "id": "dOkVtQX9tksZ",
        "colab_type": "code",
        "colab": {}
      },
      "source": [
        "path = os.path.abspath('.cnn.py')"
      ],
      "execution_count": 0,
      "outputs": []
    },
    {
      "cell_type": "code",
      "metadata": {
        "id": "IrBvPAUgtyYU",
        "colab_type": "code",
        "colab": {}
      },
      "source": [
        "path = re.sub('[a-zA-Z\\s._]+$', '', path) #remove unintended file"
      ],
      "execution_count": 0,
      "outputs": []
    },
    {
      "cell_type": "code",
      "metadata": {
        "id": "du-5slc1t9cI",
        "colab_type": "code",
        "outputId": "b4d3e2b4-c764-476c-ba44-cc3252beaf3b",
        "colab": {
          "base_uri": "https://localhost:8080/",
          "height": 51
        }
      },
      "source": [
        "img_rows = 256\n",
        "img_cols = 256\n",
        "num_class = 21\n",
        "path = os.path.abspath('.cnn.py') #absolute path of program\n",
        "path = re.sub('[a-zA-Z\\s._]+$', '', path) #remove unintended file\n",
        "x_train = []\n",
        "y_train = []\n",
        "x_test = []\n",
        "y_test = []\n",
        "dirs = os.listdir(path+'/drive/My Drive/ucmerced/UCMerced_LandUse/Images/')\n",
        "dirs=dirs[:-1]\n",
        "print(len(dirs))\n",
        "'''\n",
        "\n",
        "'''"
      ],
      "execution_count": 0,
      "outputs": [
        {
          "output_type": "stream",
          "text": [
            "21\n"
          ],
          "name": "stdout"
        },
        {
          "output_type": "execute_result",
          "data": {
            "text/plain": [
              "'\\n\\n'"
            ]
          },
          "metadata": {
            "tags": []
          },
          "execution_count": 47
        }
      ]
    },
    {
      "cell_type": "code",
      "metadata": {
        "id": "jHP3P0mVt_mj",
        "colab_type": "code",
        "colab": {}
      },
      "source": [
        "label = 0\n",
        "for i in dirs:\n",
        "\tn = 0\n",
        "\tcount = 0\n",
        "\tfor pic in glob.glob(path+'/drive/My Drive/ucmerced/UCMerced_LandUse/Images/'+i+'/*.tif'):\n",
        "\t\tim = Image.open(pic)\n",
        "\t\tim = np.array(im)\n",
        "\t\tif((im.shape[0]==256) and (im.shape[1] ==256) and count <90): #get only 90 data\n",
        "\t\t\tr = im[:,:,0]\n",
        "\t\t\tg = im[:,:,1]\n",
        "\t\t\tb = im[:,:,2]\n",
        "\t\t\t#if(n<5): # 5 data in beginning set as test data\n",
        "\t\t\t#\tx_test.append([r,g,b])\n",
        "\t\t\t#\ty_test.append([label])\n",
        "\t\t\t#else: #remaining data set as training data\n",
        "\t\t\tx_train.append([r,g,b])\n",
        "\t\t\ty_train.append([label])\n",
        "\t\t\tn = n + 1\n",
        "\t\t\tcount = count + 1\n",
        "\t\t#print(count)\n",
        "\tlabel = label + 1"
      ],
      "execution_count": 0,
      "outputs": []
    },
    {
      "cell_type": "code",
      "metadata": {
        "id": "AMZAp5chmGL1",
        "colab_type": "code",
        "colab": {}
      },
      "source": [
        "xtrainlist=x_train\n",
        "y_trainlsit=y_train"
      ],
      "execution_count": 0,
      "outputs": []
    },
    {
      "cell_type": "code",
      "metadata": {
        "id": "MyCeqeNUuB8C",
        "colab_type": "code",
        "colab": {}
      },
      "source": [
        "x_train = np.array(x_train)\n",
        "y_train = np.array(y_train)"
      ],
      "execution_count": 0,
      "outputs": []
    },
    {
      "cell_type": "code",
      "metadata": {
        "id": "5F8fE3vuuGf6",
        "colab_type": "code",
        "outputId": "8eae2102-12ed-4795-f215-2e7da3d4ddab",
        "colab": {
          "base_uri": "https://localhost:8080/",
          "height": 34
        }
      },
      "source": [
        "x_train.shape\n",
        "y_train.shape"
      ],
      "execution_count": 0,
      "outputs": [
        {
          "output_type": "execute_result",
          "data": {
            "text/plain": [
              "(1890, 1)"
            ]
          },
          "metadata": {
            "tags": []
          },
          "execution_count": 51
        }
      ]
    },
    {
      "cell_type": "code",
      "metadata": {
        "id": "xxERR1FON181",
        "colab_type": "code",
        "colab": {}
      },
      "source": [
        "from sklearn.model_selection import train_test_split\n",
        "X_train, X_test, y_train, y_test = train_test_split(x_train, y_train, test_size=0.2, random_state = 142)"
      ],
      "execution_count": 0,
      "outputs": []
    },
    {
      "cell_type": "code",
      "metadata": {
        "id": "Bayy9kykN21H",
        "colab_type": "code",
        "outputId": "ff73ae9b-523c-4a12-fdbf-c4351333c1a8",
        "colab": {
          "base_uri": "https://localhost:8080/",
          "height": 187
        }
      },
      "source": [
        "y_train[0:10]"
      ],
      "execution_count": 0,
      "outputs": [
        {
          "output_type": "execute_result",
          "data": {
            "text/plain": [
              "array([[17],\n",
              "       [20],\n",
              "       [18],\n",
              "       [16],\n",
              "       [ 8],\n",
              "       [ 4],\n",
              "       [ 5],\n",
              "       [10],\n",
              "       [16],\n",
              "       [16]])"
            ]
          },
          "metadata": {
            "tags": []
          },
          "execution_count": 53
        }
      ]
    },
    {
      "cell_type": "code",
      "metadata": {
        "id": "sXbP5hX-N-13",
        "colab_type": "code",
        "colab": {}
      },
      "source": [
        "x_trainbck=X_train\n",
        "x_testbck=X_test\n"
      ],
      "execution_count": 0,
      "outputs": []
    },
    {
      "cell_type": "code",
      "metadata": {
        "id": "8uRcRo8oN_YD",
        "colab_type": "code",
        "colab": {}
      },
      "source": [
        "x_train=np.array(X_train)\n",
        "x_test=np.array(X_test)"
      ],
      "execution_count": 0,
      "outputs": []
    },
    {
      "cell_type": "code",
      "metadata": {
        "id": "gPeD14S52Ii1",
        "colab_type": "code",
        "outputId": "ceeb2931-e49f-40d9-cf70-384b24223c41",
        "colab": {
          "base_uri": "https://localhost:8080/",
          "height": 34
        }
      },
      "source": [
        "x_train.shape"
      ],
      "execution_count": 0,
      "outputs": [
        {
          "output_type": "execute_result",
          "data": {
            "text/plain": [
              "(1512, 3, 256, 256)"
            ]
          },
          "metadata": {
            "tags": []
          },
          "execution_count": 56
        }
      ]
    },
    {
      "cell_type": "code",
      "metadata": {
        "id": "AK0ElV4P2Vd1",
        "colab_type": "code",
        "colab": {}
      },
      "source": [
        "x_train_temp=x_train"
      ],
      "execution_count": 0,
      "outputs": []
    },
    {
      "cell_type": "code",
      "metadata": {
        "id": "MIUMrLXI2XzE",
        "colab_type": "code",
        "colab": {}
      },
      "source": [
        "x_train = x_train.reshape(x_train.shape[0], img_rows, img_cols, 3)\n",
        "x_test = x_test.reshape(x_test.shape[0], img_rows, img_cols, 3)\n",
        "\n",
        "input_shape = (img_rows, img_cols, 3)\n",
        "\n",
        "x_train = x_train.astype('float32')\n",
        "x_test = x_test.astype('float32')\n",
        "x_train /= 255\n",
        "x_test /= 255\n",
        "y_train = keras.utils.to_categorical(y_train, 21)\n",
        "y_test = keras.utils.to_categorical(y_test, 21)"
      ],
      "execution_count": 0,
      "outputs": []
    },
    {
      "cell_type": "code",
      "metadata": {
        "id": "dsRRO_pnziHF",
        "colab_type": "code",
        "colab": {}
      },
      "source": [
        "import time \n",
        "import cv2 \n",
        "from scipy.fftpack import dct \n",
        "import numpy as np\n",
        "#y = np.random.random((5000, 6, 6, 3))\n",
        "t1 = time.time()\n",
        "a = np.zeros((len(x_train), 256, 256, 3))\n",
        "a=dct(dct(x_train.T).T)\n",
        "#for i in range(len(x_train)):\n",
        " #      a[i, :, :, j] = dct(dct(x_train[i, :, :, j],axis=0),axis=1)"
      ],
      "execution_count": 0,
      "outputs": []
    },
    {
      "cell_type": "code",
      "metadata": {
        "id": "cSgmPB272ppK",
        "colab_type": "code",
        "colab": {}
      },
      "source": [
        "x_dct=a"
      ],
      "execution_count": 0,
      "outputs": []
    },
    {
      "cell_type": "code",
      "metadata": {
        "id": "2tu0trGd2vUR",
        "colab_type": "code",
        "outputId": "5f6355cb-911f-45d7-c3de-537e4700159f",
        "colab": {
          "base_uri": "https://localhost:8080/",
          "height": 34
        }
      },
      "source": [
        "x_dct.shape"
      ],
      "execution_count": 0,
      "outputs": [
        {
          "output_type": "execute_result",
          "data": {
            "text/plain": [
              "(1512, 256, 256, 3)"
            ]
          },
          "metadata": {
            "tags": []
          },
          "execution_count": 61
        }
      ]
    },
    {
      "cell_type": "code",
      "metadata": {
        "id": "dgBSq6gL2xRi",
        "colab_type": "code",
        "colab": {}
      },
      "source": [
        "input_shape = (img_rows, img_cols, 3)"
      ],
      "execution_count": 0,
      "outputs": []
    },
    {
      "cell_type": "code",
      "metadata": {
        "id": "FPWpyhvI25zr",
        "colab_type": "code",
        "colab": {}
      },
      "source": [
        "x_dct_final = np.random.random((len(x_dct), 16, 16, 3))"
      ],
      "execution_count": 0,
      "outputs": []
    },
    {
      "cell_type": "code",
      "metadata": {
        "id": "ahLIf23E3CDX",
        "colab_type": "code",
        "colab": {}
      },
      "source": [
        "for i in range(1512):\n",
        "  for j in range(16):\n",
        "    for k in range(16):\n",
        "      for l in range(3):\n",
        "        x_dct_final[i,j,k,l]=x_dct[i,j,k,l]"
      ],
      "execution_count": 0,
      "outputs": []
    },
    {
      "cell_type": "code",
      "metadata": {
        "id": "RxILPPu63lIr",
        "colab_type": "code",
        "outputId": "487f3407-ff14-480f-d306-b45cce356ec1",
        "colab": {
          "base_uri": "https://localhost:8080/",
          "height": 34
        }
      },
      "source": [
        "x_dct_final.shape"
      ],
      "execution_count": 0,
      "outputs": [
        {
          "output_type": "execute_result",
          "data": {
            "text/plain": [
              "(1512, 16, 16, 3)"
            ]
          },
          "metadata": {
            "tags": []
          },
          "execution_count": 66
        }
      ]
    },
    {
      "cell_type": "code",
      "metadata": {
        "id": "Wcqz-Ow23smK",
        "colab_type": "code",
        "colab": {}
      },
      "source": [
        "input_shape1 = (img_rows, img_cols, 3)\n",
        "input_shape2 = (16, 16, 3)"
      ],
      "execution_count": 0,
      "outputs": []
    },
    {
      "cell_type": "code",
      "metadata": {
        "colab_type": "code",
        "id": "RjgFjvv8467J",
        "colab": {}
      },
      "source": [
        "\n",
        "#y = np.random.random((5000, 6, 6, 3))\n",
        "t1 = time.time()\n",
        "a1 = np.zeros((len(x_test), 256, 256, 3))\n",
        "a1=dct(dct(x_test.T).T)\n",
        "#for i in range(len(x_test)):\n",
        " #   for j in range(3):\n",
        "  #      a1[i, :, :, j] = dct(dct(x_test[i, :, :, j],axis=0),axis=1)"
      ],
      "execution_count": 0,
      "outputs": []
    },
    {
      "cell_type": "code",
      "metadata": {
        "colab_type": "code",
        "id": "2qaM98aE467R",
        "colab": {}
      },
      "source": [
        "x_dct_t=a1"
      ],
      "execution_count": 0,
      "outputs": []
    },
    {
      "cell_type": "code",
      "metadata": {
        "colab_type": "code",
        "id": "egrGDl7Q467T",
        "outputId": "1a104b84-ae13-445b-bc76-0eeba5d26b25",
        "colab": {
          "base_uri": "https://localhost:8080/",
          "height": 34
        }
      },
      "source": [
        "x_dct_t.shape"
      ],
      "execution_count": 0,
      "outputs": [
        {
          "output_type": "execute_result",
          "data": {
            "text/plain": [
              "(378, 256, 256, 3)"
            ]
          },
          "metadata": {
            "tags": []
          },
          "execution_count": 70
        }
      ]
    },
    {
      "cell_type": "code",
      "metadata": {
        "colab_type": "code",
        "id": "j7UNCpcA467W",
        "colab": {}
      },
      "source": [
        "x_dct_test = np.random.random((len(x_dct_t), 16, 16, 3))"
      ],
      "execution_count": 0,
      "outputs": []
    },
    {
      "cell_type": "code",
      "metadata": {
        "colab_type": "code",
        "id": "KPL0DfqD467Y",
        "colab": {}
      },
      "source": [
        "for i in range(378):\n",
        "  for j in range(16):\n",
        "    for k in range(16):\n",
        "      for l in range(3):\n",
        "        x_dct_test[i,j,k,l]=x_dct_t[i,j,k,l]"
      ],
      "execution_count": 0,
      "outputs": []
    },
    {
      "cell_type": "code",
      "metadata": {
        "colab_type": "code",
        "id": "OJjzYWLi467c",
        "outputId": "69b7bc25-84a4-47f0-86a3-6c3abac2bb54",
        "colab": {
          "base_uri": "https://localhost:8080/",
          "height": 34
        }
      },
      "source": [
        "x_dct_test.shape"
      ],
      "execution_count": 0,
      "outputs": [
        {
          "output_type": "execute_result",
          "data": {
            "text/plain": [
              "(378, 16, 16, 3)"
            ]
          },
          "metadata": {
            "tags": []
          },
          "execution_count": 73
        }
      ]
    },
    {
      "cell_type": "code",
      "metadata": {
        "colab_type": "code",
        "id": "ESC371GW40CB",
        "colab": {}
      },
      "source": [
        "from keras.layers import Input, Conv2D, Dense, concatenate\n",
        "from keras.models import Model"
      ],
      "execution_count": 0,
      "outputs": []
    },
    {
      "cell_type": "code",
      "metadata": {
        "colab_type": "code",
        "id": "CCH104j-40CF",
        "colab": {}
      },
      "source": [
        "from PIL import Image #import Python Image Library\n",
        "import numpy as np\n",
        "import os\n",
        "import glob\n",
        "import re\n",
        "import keras\n",
        "from keras.models import Sequential\n",
        "from keras.layers import Dense, Dropout, Activation, Flatten,LeakyReLU\n",
        "from keras.layers import Conv2D, MaxPooling2D\n",
        "from keras.utils import np_utils\n",
        "from keras import backend as K"
      ],
      "execution_count": 0,
      "outputs": []
    },
    {
      "cell_type": "code",
      "metadata": {
        "colab_type": "code",
        "id": "xrR3mVU540CH",
        "colab": {}
      },
      "source": [
        "from keras.layers import *\n",
        "inputTensor1 = Input(input_shape1)\n",
        "inputTensor2 = Input(input_shape2)"
      ],
      "execution_count": 0,
      "outputs": []
    },
    {
      "cell_type": "code",
      "metadata": {
        "id": "XkVmVoPcOvjC",
        "colab_type": "code",
        "colab": {}
      },
      "source": [
        "model = Sequential()\n",
        "model.add(Conv2D(32, kernel_size=(3, 3),activation='relu',input_shape=input_shape2))\n",
        "model.add(MaxPooling2D(pool_size=(2,2)))\n",
        "model.add(Conv2D(32, (3, 3), activation='relu'))\n",
        "model.add(MaxPooling2D(pool_size=(2,2)))\n",
        "model.add(Dropout(0.25))\n",
        "model.add(Flatten())\n",
        "model.add(Dense(128, activation='relu'))\n",
        "model.add(Dropout(0.5))\n",
        "model.add(Dense(21, activation='softmax'))\n",
        "model.compile(loss='categorical_crossentropy',\n",
        "            optimizer='adam',\n",
        "            metrics=['accuracy'])"
      ],
      "execution_count": 0,
      "outputs": []
    },
    {
      "cell_type": "code",
      "metadata": {
        "id": "MOYibkOFO1Ut",
        "colab_type": "code",
        "outputId": "96d57426-c307-49d7-e8e8-51a879a49318",
        "colab": {
          "base_uri": "https://localhost:8080/",
          "height": 1000
        }
      },
      "source": [
        "model.fit(x_dct_final, y_train, batch_size=50, nb_epoch=100, verbose=1, validation_data=(x_dct_test, y_test))"
      ],
      "execution_count": 0,
      "outputs": [
        {
          "output_type": "stream",
          "text": [
            "/usr/local/lib/python3.6/dist-packages/ipykernel_launcher.py:1: UserWarning: The `nb_epoch` argument in `fit` has been renamed `epochs`.\n",
            "  \"\"\"Entry point for launching an IPython kernel.\n"
          ],
          "name": "stderr"
        },
        {
          "output_type": "stream",
          "text": [
            "Train on 1512 samples, validate on 378 samples\n",
            "Epoch 1/100\n",
            "1512/1512 [==============================] - 1s 803us/step - loss: 8.8152 - acc: 0.0489 - val_loss: 3.0433 - val_acc: 0.0397\n",
            "Epoch 2/100\n",
            "1512/1512 [==============================] - 0s 107us/step - loss: 3.0467 - acc: 0.0476 - val_loss: 3.0442 - val_acc: 0.0370\n",
            "Epoch 3/100\n",
            "1512/1512 [==============================] - 0s 97us/step - loss: 3.0446 - acc: 0.0516 - val_loss: 3.0442 - val_acc: 0.0344\n",
            "Epoch 4/100\n",
            "1512/1512 [==============================] - 0s 110us/step - loss: 3.0441 - acc: 0.0503 - val_loss: 3.0446 - val_acc: 0.0344\n",
            "Epoch 5/100\n",
            "1512/1512 [==============================] - 0s 113us/step - loss: 3.0423 - acc: 0.0522 - val_loss: 3.0450 - val_acc: 0.0344\n",
            "Epoch 6/100\n",
            "1512/1512 [==============================] - 0s 103us/step - loss: 3.0418 - acc: 0.0529 - val_loss: 3.0428 - val_acc: 0.0423\n",
            "Epoch 7/100\n",
            "1512/1512 [==============================] - 0s 106us/step - loss: 3.0444 - acc: 0.0522 - val_loss: 3.0459 - val_acc: 0.0344\n",
            "Epoch 8/100\n",
            "1512/1512 [==============================] - 0s 101us/step - loss: 3.0422 - acc: 0.0522 - val_loss: 3.0461 - val_acc: 0.0344\n",
            "Epoch 9/100\n",
            "1512/1512 [==============================] - 0s 97us/step - loss: 3.0412 - acc: 0.0536 - val_loss: 3.0465 - val_acc: 0.0344\n",
            "Epoch 10/100\n",
            "1512/1512 [==============================] - 0s 96us/step - loss: 3.0446 - acc: 0.0496 - val_loss: 3.0467 - val_acc: 0.0344\n",
            "Epoch 11/100\n",
            "1512/1512 [==============================] - 0s 101us/step - loss: 3.0416 - acc: 0.0529 - val_loss: 3.0468 - val_acc: 0.0344\n",
            "Epoch 12/100\n",
            "1512/1512 [==============================] - 0s 113us/step - loss: 3.0418 - acc: 0.0536 - val_loss: 3.0473 - val_acc: 0.0344\n",
            "Epoch 13/100\n",
            "1512/1512 [==============================] - 0s 116us/step - loss: 3.0429 - acc: 0.0522 - val_loss: 3.0477 - val_acc: 0.0344\n",
            "Epoch 14/100\n",
            "1512/1512 [==============================] - 0s 118us/step - loss: 3.0424 - acc: 0.0516 - val_loss: 3.0480 - val_acc: 0.0344\n",
            "Epoch 15/100\n",
            "1512/1512 [==============================] - 0s 101us/step - loss: 3.0362 - acc: 0.0529 - val_loss: 3.0483 - val_acc: 0.0344\n",
            "Epoch 16/100\n",
            "1512/1512 [==============================] - 0s 99us/step - loss: 3.0399 - acc: 0.0529 - val_loss: 3.0485 - val_acc: 0.0344\n",
            "Epoch 17/100\n",
            "1512/1512 [==============================] - 0s 102us/step - loss: 3.0408 - acc: 0.0529 - val_loss: 3.0480 - val_acc: 0.0370\n",
            "Epoch 18/100\n",
            "1512/1512 [==============================] - 0s 106us/step - loss: 3.0441 - acc: 0.0503 - val_loss: 3.0489 - val_acc: 0.0344\n",
            "Epoch 19/100\n",
            "1512/1512 [==============================] - 0s 98us/step - loss: 3.0437 - acc: 0.0516 - val_loss: 3.0488 - val_acc: 0.0344\n",
            "Epoch 20/100\n",
            "1512/1512 [==============================] - 0s 102us/step - loss: 3.0411 - acc: 0.0522 - val_loss: 3.0484 - val_acc: 0.0370\n",
            "Epoch 21/100\n",
            "1512/1512 [==============================] - 0s 99us/step - loss: 3.0423 - acc: 0.0503 - val_loss: 3.0490 - val_acc: 0.0344\n",
            "Epoch 22/100\n",
            "1512/1512 [==============================] - 0s 98us/step - loss: 3.0390 - acc: 0.0549 - val_loss: 3.0487 - val_acc: 0.0370\n",
            "Epoch 23/100\n",
            "1512/1512 [==============================] - 0s 97us/step - loss: 3.0422 - acc: 0.0503 - val_loss: 3.0495 - val_acc: 0.0344\n",
            "Epoch 24/100\n",
            "1512/1512 [==============================] - 0s 99us/step - loss: 3.0391 - acc: 0.0536 - val_loss: 3.0498 - val_acc: 0.0370\n",
            "Epoch 25/100\n",
            "1512/1512 [==============================] - 0s 108us/step - loss: 3.0389 - acc: 0.0522 - val_loss: 3.0474 - val_acc: 0.0397\n",
            "Epoch 26/100\n",
            "1512/1512 [==============================] - 0s 121us/step - loss: 3.0389 - acc: 0.0536 - val_loss: 3.0504 - val_acc: 0.0344\n",
            "Epoch 27/100\n",
            "1512/1512 [==============================] - 0s 142us/step - loss: 3.0400 - acc: 0.0536 - val_loss: 3.0502 - val_acc: 0.0344\n",
            "Epoch 28/100\n",
            "1512/1512 [==============================] - 0s 101us/step - loss: 3.0432 - acc: 0.0529 - val_loss: 3.0487 - val_acc: 0.0370\n",
            "Epoch 29/100\n",
            "1512/1512 [==============================] - 0s 99us/step - loss: 3.0404 - acc: 0.0536 - val_loss: 3.0468 - val_acc: 0.0397\n",
            "Epoch 30/100\n",
            "1512/1512 [==============================] - 0s 99us/step - loss: 3.0401 - acc: 0.0542 - val_loss: 3.0504 - val_acc: 0.0344\n",
            "Epoch 31/100\n",
            "1512/1512 [==============================] - 0s 111us/step - loss: 3.0390 - acc: 0.0516 - val_loss: 3.0487 - val_acc: 0.0397\n",
            "Epoch 32/100\n",
            "1512/1512 [==============================] - 0s 103us/step - loss: 3.0369 - acc: 0.0549 - val_loss: 3.0489 - val_acc: 0.0423\n",
            "Epoch 33/100\n",
            "1512/1512 [==============================] - 0s 103us/step - loss: 3.0439 - acc: 0.0509 - val_loss: 3.0503 - val_acc: 0.0344\n",
            "Epoch 34/100\n",
            "1512/1512 [==============================] - 0s 103us/step - loss: 3.0439 - acc: 0.0489 - val_loss: 3.0506 - val_acc: 0.0344\n",
            "Epoch 35/100\n",
            "1512/1512 [==============================] - 0s 121us/step - loss: 3.0436 - acc: 0.0516 - val_loss: 3.0506 - val_acc: 0.0344\n",
            "Epoch 36/100\n",
            "1512/1512 [==============================] - 0s 111us/step - loss: 3.0443 - acc: 0.0509 - val_loss: 3.0511 - val_acc: 0.0344\n",
            "Epoch 37/100\n",
            "1512/1512 [==============================] - 0s 106us/step - loss: 3.0444 - acc: 0.0509 - val_loss: 3.0509 - val_acc: 0.0344\n",
            "Epoch 38/100\n",
            "1512/1512 [==============================] - 0s 103us/step - loss: 3.0439 - acc: 0.0509 - val_loss: 3.0509 - val_acc: 0.0344\n",
            "Epoch 39/100\n",
            "1512/1512 [==============================] - 0s 105us/step - loss: 3.0440 - acc: 0.0509 - val_loss: 3.0510 - val_acc: 0.0344\n",
            "Epoch 40/100\n",
            "1512/1512 [==============================] - 0s 115us/step - loss: 3.0443 - acc: 0.0509 - val_loss: 3.0512 - val_acc: 0.0344\n",
            "Epoch 41/100\n",
            "1512/1512 [==============================] - 0s 105us/step - loss: 3.0438 - acc: 0.0509 - val_loss: 3.0511 - val_acc: 0.0344\n",
            "Epoch 42/100\n",
            "1512/1512 [==============================] - 0s 101us/step - loss: 3.0439 - acc: 0.0503 - val_loss: 3.0511 - val_acc: 0.0344\n",
            "Epoch 43/100\n",
            "1512/1512 [==============================] - 0s 104us/step - loss: 3.0440 - acc: 0.0503 - val_loss: 3.0514 - val_acc: 0.0344\n",
            "Epoch 44/100\n",
            "1512/1512 [==============================] - 0s 97us/step - loss: 3.0440 - acc: 0.0536 - val_loss: 3.0515 - val_acc: 0.0344\n",
            "Epoch 45/100\n",
            "1512/1512 [==============================] - 0s 100us/step - loss: 3.0442 - acc: 0.0509 - val_loss: 3.0515 - val_acc: 0.0344\n",
            "Epoch 46/100\n",
            "1512/1512 [==============================] - 0s 101us/step - loss: 3.0441 - acc: 0.0496 - val_loss: 3.0513 - val_acc: 0.0344\n",
            "Epoch 47/100\n",
            "1512/1512 [==============================] - 0s 114us/step - loss: 3.0439 - acc: 0.0509 - val_loss: 3.0514 - val_acc: 0.0344\n",
            "Epoch 48/100\n",
            "1512/1512 [==============================] - 0s 107us/step - loss: 3.0442 - acc: 0.0503 - val_loss: 3.0516 - val_acc: 0.0344\n",
            "Epoch 49/100\n",
            "1512/1512 [==============================] - 0s 100us/step - loss: 3.0438 - acc: 0.0516 - val_loss: 3.0512 - val_acc: 0.0344\n",
            "Epoch 50/100\n",
            "1512/1512 [==============================] - 0s 107us/step - loss: 3.0444 - acc: 0.0516 - val_loss: 3.0512 - val_acc: 0.0344\n",
            "Epoch 51/100\n",
            "1512/1512 [==============================] - 0s 99us/step - loss: 3.0437 - acc: 0.0509 - val_loss: 3.0514 - val_acc: 0.0344\n",
            "Epoch 52/100\n",
            "1512/1512 [==============================] - 0s 97us/step - loss: 3.0441 - acc: 0.0516 - val_loss: 3.0511 - val_acc: 0.0344\n",
            "Epoch 53/100\n",
            "1512/1512 [==============================] - 0s 105us/step - loss: 3.0443 - acc: 0.0450 - val_loss: 3.0515 - val_acc: 0.0344\n",
            "Epoch 54/100\n",
            "1512/1512 [==============================] - 0s 104us/step - loss: 3.0444 - acc: 0.0509 - val_loss: 3.0512 - val_acc: 0.0344\n",
            "Epoch 55/100\n",
            "1512/1512 [==============================] - 0s 101us/step - loss: 3.0442 - acc: 0.0483 - val_loss: 3.0512 - val_acc: 0.0344\n",
            "Epoch 56/100\n",
            "1512/1512 [==============================] - 0s 110us/step - loss: 3.0438 - acc: 0.0509 - val_loss: 3.0511 - val_acc: 0.0344\n",
            "Epoch 57/100\n",
            "1512/1512 [==============================] - 0s 105us/step - loss: 3.0443 - acc: 0.0509 - val_loss: 3.0512 - val_acc: 0.0344\n",
            "Epoch 58/100\n",
            "1512/1512 [==============================] - 0s 98us/step - loss: 3.0439 - acc: 0.0509 - val_loss: 3.0514 - val_acc: 0.0344\n",
            "Epoch 59/100\n",
            "1512/1512 [==============================] - 0s 101us/step - loss: 3.0441 - acc: 0.0509 - val_loss: 3.0514 - val_acc: 0.0344\n",
            "Epoch 60/100\n",
            "1512/1512 [==============================] - 0s 120us/step - loss: 3.0437 - acc: 0.0516 - val_loss: 3.0514 - val_acc: 0.0344\n",
            "Epoch 61/100\n",
            "1512/1512 [==============================] - 0s 98us/step - loss: 3.0440 - acc: 0.0516 - val_loss: 3.0513 - val_acc: 0.0344\n",
            "Epoch 62/100\n",
            "1512/1512 [==============================] - 0s 100us/step - loss: 3.0442 - acc: 0.0509 - val_loss: 3.0514 - val_acc: 0.0344\n",
            "Epoch 63/100\n",
            "1512/1512 [==============================] - 0s 129us/step - loss: 3.0439 - acc: 0.0509 - val_loss: 3.0513 - val_acc: 0.0344\n",
            "Epoch 64/100\n",
            "1512/1512 [==============================] - 0s 99us/step - loss: 3.0443 - acc: 0.0509 - val_loss: 3.0515 - val_acc: 0.0344\n",
            "Epoch 65/100\n",
            "1512/1512 [==============================] - 0s 99us/step - loss: 3.0443 - acc: 0.0509 - val_loss: 3.0513 - val_acc: 0.0344\n",
            "Epoch 66/100\n",
            "1512/1512 [==============================] - 0s 102us/step - loss: 3.0439 - acc: 0.0509 - val_loss: 3.0516 - val_acc: 0.0344\n",
            "Epoch 67/100\n",
            "1512/1512 [==============================] - 0s 103us/step - loss: 3.0439 - acc: 0.0509 - val_loss: 3.0518 - val_acc: 0.0344\n",
            "Epoch 68/100\n",
            "1512/1512 [==============================] - 0s 99us/step - loss: 3.0439 - acc: 0.0509 - val_loss: 3.0517 - val_acc: 0.0344\n",
            "Epoch 69/100\n",
            "1512/1512 [==============================] - 0s 106us/step - loss: 3.0438 - acc: 0.0509 - val_loss: 3.0517 - val_acc: 0.0344\n",
            "Epoch 70/100\n",
            "1512/1512 [==============================] - 0s 105us/step - loss: 3.0436 - acc: 0.0509 - val_loss: 3.0518 - val_acc: 0.0344\n",
            "Epoch 71/100\n",
            "1512/1512 [==============================] - 0s 97us/step - loss: 3.0440 - acc: 0.0509 - val_loss: 3.0516 - val_acc: 0.0344\n",
            "Epoch 72/100\n",
            "1512/1512 [==============================] - 0s 104us/step - loss: 3.0439 - acc: 0.0509 - val_loss: 3.0516 - val_acc: 0.0344\n",
            "Epoch 73/100\n",
            "1512/1512 [==============================] - 0s 102us/step - loss: 3.0440 - acc: 0.0509 - val_loss: 3.0515 - val_acc: 0.0344\n",
            "Epoch 74/100\n",
            "1512/1512 [==============================] - 0s 103us/step - loss: 3.0440 - acc: 0.0509 - val_loss: 3.0512 - val_acc: 0.0344\n",
            "Epoch 75/100\n",
            "1512/1512 [==============================] - 0s 98us/step - loss: 3.0440 - acc: 0.0509 - val_loss: 3.0513 - val_acc: 0.0344\n",
            "Epoch 76/100\n",
            "1512/1512 [==============================] - 0s 107us/step - loss: 3.0437 - acc: 0.0509 - val_loss: 3.0514 - val_acc: 0.0344\n",
            "Epoch 77/100\n",
            "1512/1512 [==============================] - 0s 121us/step - loss: 3.0440 - acc: 0.0503 - val_loss: 3.0512 - val_acc: 0.0344\n",
            "Epoch 78/100\n",
            "1512/1512 [==============================] - 0s 96us/step - loss: 3.0438 - acc: 0.0509 - val_loss: 3.0512 - val_acc: 0.0344\n",
            "Epoch 79/100\n",
            "1512/1512 [==============================] - 0s 115us/step - loss: 3.0438 - acc: 0.0503 - val_loss: 3.0514 - val_acc: 0.0344\n",
            "Epoch 80/100\n",
            "1512/1512 [==============================] - 0s 101us/step - loss: 3.0438 - acc: 0.0509 - val_loss: 3.0514 - val_acc: 0.0344\n",
            "Epoch 81/100\n",
            "1512/1512 [==============================] - 0s 98us/step - loss: 3.0438 - acc: 0.0496 - val_loss: 3.0513 - val_acc: 0.0344\n",
            "Epoch 82/100\n",
            "1512/1512 [==============================] - 0s 107us/step - loss: 3.0437 - acc: 0.0503 - val_loss: 3.0515 - val_acc: 0.0344\n",
            "Epoch 83/100\n",
            "1512/1512 [==============================] - 0s 103us/step - loss: 3.0441 - acc: 0.0522 - val_loss: 3.0513 - val_acc: 0.0344\n",
            "Epoch 84/100\n",
            "1512/1512 [==============================] - 0s 95us/step - loss: 3.0444 - acc: 0.0476 - val_loss: 3.0512 - val_acc: 0.0344\n",
            "Epoch 85/100\n",
            "1512/1512 [==============================] - 0s 94us/step - loss: 3.0443 - acc: 0.0489 - val_loss: 3.0511 - val_acc: 0.0344\n",
            "Epoch 86/100\n",
            "1512/1512 [==============================] - 0s 100us/step - loss: 3.0440 - acc: 0.0516 - val_loss: 3.0512 - val_acc: 0.0344\n",
            "Epoch 87/100\n",
            "1512/1512 [==============================] - 0s 108us/step - loss: 3.0436 - acc: 0.0516 - val_loss: 3.0514 - val_acc: 0.0344\n",
            "Epoch 88/100\n",
            "1512/1512 [==============================] - 0s 98us/step - loss: 3.0440 - acc: 0.0509 - val_loss: 3.0512 - val_acc: 0.0344\n",
            "Epoch 89/100\n",
            "1512/1512 [==============================] - 0s 109us/step - loss: 3.0441 - acc: 0.0509 - val_loss: 3.0515 - val_acc: 0.0344\n",
            "Epoch 90/100\n",
            "1512/1512 [==============================] - 0s 101us/step - loss: 3.0445 - acc: 0.0516 - val_loss: 3.0515 - val_acc: 0.0344\n",
            "Epoch 91/100\n",
            "1512/1512 [==============================] - 0s 101us/step - loss: 3.0437 - acc: 0.0503 - val_loss: 3.0516 - val_acc: 0.0344\n",
            "Epoch 92/100\n",
            "1512/1512 [==============================] - 0s 100us/step - loss: 3.0440 - acc: 0.0509 - val_loss: 3.0514 - val_acc: 0.0344\n",
            "Epoch 93/100\n",
            "1512/1512 [==============================] - 0s 100us/step - loss: 3.0442 - acc: 0.0522 - val_loss: 3.0516 - val_acc: 0.0344\n",
            "Epoch 94/100\n",
            "1512/1512 [==============================] - 0s 113us/step - loss: 3.0440 - acc: 0.0509 - val_loss: 3.0514 - val_acc: 0.0344\n",
            "Epoch 95/100\n",
            "1512/1512 [==============================] - 0s 117us/step - loss: 3.0441 - acc: 0.0536 - val_loss: 3.0514 - val_acc: 0.0344\n",
            "Epoch 96/100\n",
            "1512/1512 [==============================] - 0s 97us/step - loss: 3.0441 - acc: 0.0522 - val_loss: 3.0515 - val_acc: 0.0344\n",
            "Epoch 97/100\n",
            "1512/1512 [==============================] - 0s 97us/step - loss: 3.0444 - acc: 0.0509 - val_loss: 3.0515 - val_acc: 0.0344\n",
            "Epoch 98/100\n",
            "1512/1512 [==============================] - 0s 102us/step - loss: 3.0438 - acc: 0.0509 - val_loss: 3.0514 - val_acc: 0.0344\n",
            "Epoch 99/100\n",
            "1512/1512 [==============================] - 0s 106us/step - loss: 3.0436 - acc: 0.0509 - val_loss: 3.0514 - val_acc: 0.0344\n",
            "Epoch 100/100\n",
            "1512/1512 [==============================] - 0s 106us/step - loss: 3.0441 - acc: 0.0509 - val_loss: 3.0515 - val_acc: 0.0344\n"
          ],
          "name": "stdout"
        },
        {
          "output_type": "execute_result",
          "data": {
            "text/plain": [
              "<keras.callbacks.History at 0x7f001d425630>"
            ]
          },
          "metadata": {
            "tags": []
          },
          "execution_count": 78
        }
      ]
    },
    {
      "cell_type": "code",
      "metadata": {
        "id": "HJDw_oS3YNZ7",
        "colab_type": "code",
        "outputId": "646e5715-b82d-4bcc-a40c-68f999b95815",
        "colab": {
          "base_uri": "https://localhost:8080/",
          "height": 68
        }
      },
      "source": [
        "loss, acc = model.evaluate(x_dct_test, y_test, verbose=0)\n",
        "print('\\nTesting loss: {}, acc: {}\\n'.format(loss, acc))"
      ],
      "execution_count": 0,
      "outputs": [
        {
          "output_type": "stream",
          "text": [
            "\n",
            "Testing loss: 3.051467877847177, acc: 0.03439153449008704\n",
            "\n"
          ],
          "name": "stdout"
        }
      ]
    }
  ]
}