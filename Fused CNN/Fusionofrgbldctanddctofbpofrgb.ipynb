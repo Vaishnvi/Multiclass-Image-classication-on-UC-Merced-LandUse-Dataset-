{
  "nbformat": 4,
  "nbformat_minor": 0,
  "metadata": {
    "colab": {
      "name": "Fusionofrgbldctanddctofbpofrgb.ipynb",
      "provenance": []
    },
    "kernelspec": {
      "name": "python3",
      "display_name": "Python 3"
    },
    "accelerator": "GPU"
  },
  "cells": [
    {
      "cell_type": "code",
      "metadata": {
        "id": "U6XTBuFJKJx5",
        "colab_type": "code",
        "colab": {}
      },
      "source": [
        "import numpy as np\n",
        "import matplotlib.pyplot as plt\n",
        "import os\n",
        "import cv2\n",
        "from tqdm import tqdm"
      ],
      "execution_count": 0,
      "outputs": []
    },
    {
      "cell_type": "code",
      "metadata": {
        "id": "uGKZYEQ3K6Er",
        "colab_type": "code",
        "colab": {}
      },
      "source": [
        "DATADIR = '/content/drive/My Drive/UCmerced/UCMerced_LandUse/Images/'\n",
        "\n",
        "CATEGORIES = [ 'agricultural',  'airplane',    'baseballdiamond', 'beach',   'buildings',          'chaparral',         'denseresidential',\n",
        "                'forest',        'freeway',     'golfcourse',      'harbor',  'intersection',       'mediumresidential', 'mobilehomepark',\n",
        "                'overpass',      'parkinglot',  'river',           'runway',  'sparseresidential',  'storagetanks',      'tenniscourt' ]\n"
      ],
      "execution_count": 0,
      "outputs": []
    },
    {
      "cell_type": "code",
      "metadata": {
        "id": "3_lvRPTUK8Ca",
        "colab_type": "code",
        "outputId": "2e4f6f13-67a0-4283-e4b0-5940131e48cf",
        "colab": {
          "base_uri": "https://localhost:8080/",
          "height": 122
        }
      },
      "source": [
        "from google.colab import drive\n",
        "drive.mount('/content/drive')\n"
      ],
      "execution_count": 0,
      "outputs": [
        {
          "output_type": "stream",
          "text": [
            "Go to this URL in a browser: https://accounts.google.com/o/oauth2/auth?client_id=947318989803-6bn6qk8qdgf4n4g3pfee6491hc0brc4i.apps.googleusercontent.com&redirect_uri=urn%3aietf%3awg%3aoauth%3a2.0%3aoob&response_type=code&scope=email%20https%3a%2f%2fwww.googleapis.com%2fauth%2fdocs.test%20https%3a%2f%2fwww.googleapis.com%2fauth%2fdrive%20https%3a%2f%2fwww.googleapis.com%2fauth%2fdrive.photos.readonly%20https%3a%2f%2fwww.googleapis.com%2fauth%2fpeopleapi.readonly\n",
            "\n",
            "Enter your authorization code:\n",
            "··········\n",
            "Mounted at /content/drive\n"
          ],
          "name": "stdout"
        }
      ]
    },
    {
      "cell_type": "code",
      "metadata": {
        "id": "pcg3TyyLLPki",
        "colab_type": "code",
        "outputId": "cae5a54e-6261-4716-f053-eed325c76437",
        "colab": {
          "base_uri": "https://localhost:8080/",
          "height": 80
        }
      },
      "source": [
        "from PIL import Image #import Python Image Library\n",
        "import numpy as np\n",
        "import os\n",
        "import glob\n",
        "import re\n",
        "import keras\n",
        "from keras.models import Sequential\n",
        "from keras.layers import Dense, Dropout, Activation, Flatten\n",
        "from keras.layers import Conv2D, MaxPooling2D\n",
        "from keras.utils import np_utils\n",
        "from keras import backend as K"
      ],
      "execution_count": 0,
      "outputs": [
        {
          "output_type": "stream",
          "text": [
            "Using TensorFlow backend.\n"
          ],
          "name": "stderr"
        },
        {
          "output_type": "display_data",
          "data": {
            "text/html": [
              "<p style=\"color: red;\">\n",
              "The default version of TensorFlow in Colab will soon switch to TensorFlow 2.x.<br>\n",
              "We recommend you <a href=\"https://www.tensorflow.org/guide/migrate\" target=\"_blank\">upgrade</a> now \n",
              "or ensure your notebook will continue to use TensorFlow 1.x via the <code>%tensorflow_version 1.x</code> magic:\n",
              "<a href=\"https://colab.research.google.com/notebooks/tensorflow_version.ipynb\" target=\"_blank\">more info</a>.</p>\n"
            ],
            "text/plain": [
              "<IPython.core.display.HTML object>"
            ]
          },
          "metadata": {
            "tags": []
          }
        }
      ]
    },
    {
      "cell_type": "code",
      "metadata": {
        "id": "dOkVtQX9tksZ",
        "colab_type": "code",
        "colab": {}
      },
      "source": [
        "path = os.path.abspath('.cnn.py')"
      ],
      "execution_count": 0,
      "outputs": []
    },
    {
      "cell_type": "code",
      "metadata": {
        "id": "IrBvPAUgtyYU",
        "colab_type": "code",
        "colab": {}
      },
      "source": [
        "path = re.sub('[a-zA-Z\\s._]+$', '', path) #remove unintended file"
      ],
      "execution_count": 0,
      "outputs": []
    },
    {
      "cell_type": "code",
      "metadata": {
        "id": "du-5slc1t9cI",
        "colab_type": "code",
        "outputId": "303a628a-e10f-4071-d9dd-9a41c88e0ecf",
        "colab": {
          "base_uri": "https://localhost:8080/",
          "height": 51
        }
      },
      "source": [
        "img_rows = 256\n",
        "img_cols = 256\n",
        "num_class = 21\n",
        "path = os.path.abspath('.cnn.py') #absolute path of program\n",
        "path = re.sub('[a-zA-Z\\s._]+$', '', path) #remove unintended file\n",
        "x_train = []\n",
        "y_train = []\n",
        "x_test = []\n",
        "y_test = []\n",
        "dirs = os.listdir(path+'/drive/My Drive/ucmerced/UCMerced_LandUse/Images/')\n",
        "dirs=dirs[:-1]\n",
        "print(len(dirs))\n",
        "'''\n",
        "\n",
        "'''"
      ],
      "execution_count": 0,
      "outputs": [
        {
          "output_type": "stream",
          "text": [
            "21\n"
          ],
          "name": "stdout"
        },
        {
          "output_type": "execute_result",
          "data": {
            "text/plain": [
              "'\\n\\n'"
            ]
          },
          "metadata": {
            "tags": []
          },
          "execution_count": 7
        }
      ]
    },
    {
      "cell_type": "code",
      "metadata": {
        "id": "jHP3P0mVt_mj",
        "colab_type": "code",
        "colab": {}
      },
      "source": [
        "label = 0\n",
        "for i in dirs:\n",
        "\tn = 0\n",
        "\tcount = 0\n",
        "\tfor pic in glob.glob(path+'/drive/My Drive/ucmerced/UCMerced_LandUse/Images/'+i+'/*.tif'):\n",
        "\t\tim = Image.open(pic)\n",
        "\t\tim = np.array(im)\n",
        "\t\tif((im.shape[0]==256) and (im.shape[1] ==256) and count <90): #get only 90 data\n",
        "\t\t\tr = im[:,:,0]\n",
        "\t\t\tg = im[:,:,1]\n",
        "\t\t\tb = im[:,:,2]\n",
        "\t\t\t#if(n<5): # 5 data in beginning set as test data\n",
        "\t\t\t#\tx_test.append([r,g,b])\n",
        "\t\t\t#\ty_test.append([label])\n",
        "\t\t\t#else: #remaining data set as training data\n",
        "\t\t\tx_train.append([r,g,b])\n",
        "\t\t\ty_train.append([label])\n",
        "\t\t\tn = n + 1\n",
        "\t\t\tcount = count + 1\n",
        "\t\t#print(count)\n",
        "\tlabel = label + 1"
      ],
      "execution_count": 0,
      "outputs": []
    },
    {
      "cell_type": "code",
      "metadata": {
        "id": "AMZAp5chmGL1",
        "colab_type": "code",
        "colab": {}
      },
      "source": [
        "xtrainlist=x_train\n",
        "y_trainlsit=y_train"
      ],
      "execution_count": 0,
      "outputs": []
    },
    {
      "cell_type": "code",
      "metadata": {
        "id": "MyCeqeNUuB8C",
        "colab_type": "code",
        "colab": {}
      },
      "source": [
        "x_train = np.array(x_train)\n",
        "y_train = np.array(y_train)"
      ],
      "execution_count": 0,
      "outputs": []
    },
    {
      "cell_type": "code",
      "metadata": {
        "id": "5F8fE3vuuGf6",
        "colab_type": "code",
        "outputId": "78d972d9-fb16-4383-db30-fa8d167151e4",
        "colab": {
          "base_uri": "https://localhost:8080/",
          "height": 34
        }
      },
      "source": [
        "x_train.shape\n",
        "y_train.shape"
      ],
      "execution_count": 0,
      "outputs": [
        {
          "output_type": "execute_result",
          "data": {
            "text/plain": [
              "(1890, 1)"
            ]
          },
          "metadata": {
            "tags": []
          },
          "execution_count": 11
        }
      ]
    },
    {
      "cell_type": "code",
      "metadata": {
        "id": "xxERR1FON181",
        "colab_type": "code",
        "colab": {}
      },
      "source": [
        "from sklearn.model_selection import train_test_split\n",
        "X_train, X_test, y_train, y_test = train_test_split(x_train, y_train, test_size=0.2, random_state = 142)"
      ],
      "execution_count": 0,
      "outputs": []
    },
    {
      "cell_type": "code",
      "metadata": {
        "id": "Bayy9kykN21H",
        "colab_type": "code",
        "outputId": "0511d086-db04-4d24-d99e-d1f510597003",
        "colab": {
          "base_uri": "https://localhost:8080/",
          "height": 187
        }
      },
      "source": [
        "y_train[0:10]"
      ],
      "execution_count": 0,
      "outputs": [
        {
          "output_type": "execute_result",
          "data": {
            "text/plain": [
              "array([[17],\n",
              "       [20],\n",
              "       [18],\n",
              "       [16],\n",
              "       [ 8],\n",
              "       [ 4],\n",
              "       [ 5],\n",
              "       [10],\n",
              "       [16],\n",
              "       [16]])"
            ]
          },
          "metadata": {
            "tags": []
          },
          "execution_count": 13
        }
      ]
    },
    {
      "cell_type": "code",
      "metadata": {
        "id": "sXbP5hX-N-13",
        "colab_type": "code",
        "colab": {}
      },
      "source": [
        "x_trainbck=X_train\n",
        "x_testbck=X_test\n"
      ],
      "execution_count": 0,
      "outputs": []
    },
    {
      "cell_type": "code",
      "metadata": {
        "id": "8uRcRo8oN_YD",
        "colab_type": "code",
        "colab": {}
      },
      "source": [
        "x_train=np.array(X_train)\n",
        "x_test=np.array(X_test)"
      ],
      "execution_count": 0,
      "outputs": []
    },
    {
      "cell_type": "code",
      "metadata": {
        "id": "gPeD14S52Ii1",
        "colab_type": "code",
        "outputId": "6338d49f-77d6-45eb-c883-9570d9ff6495",
        "colab": {
          "base_uri": "https://localhost:8080/",
          "height": 34
        }
      },
      "source": [
        "x_train.shape"
      ],
      "execution_count": 0,
      "outputs": [
        {
          "output_type": "execute_result",
          "data": {
            "text/plain": [
              "(1512, 3, 256, 256)"
            ]
          },
          "metadata": {
            "tags": []
          },
          "execution_count": 16
        }
      ]
    },
    {
      "cell_type": "code",
      "metadata": {
        "id": "AK0ElV4P2Vd1",
        "colab_type": "code",
        "colab": {}
      },
      "source": [
        "x_train_temp=x_train"
      ],
      "execution_count": 0,
      "outputs": []
    },
    {
      "cell_type": "code",
      "metadata": {
        "id": "MIUMrLXI2XzE",
        "colab_type": "code",
        "colab": {}
      },
      "source": [
        "x_train = x_train.reshape(x_train.shape[0], img_rows, img_cols, 3)\n",
        "x_test = x_test.reshape(x_test.shape[0], img_rows, img_cols, 3)\n",
        "\n",
        "input_shape = (img_rows, img_cols, 3)\n",
        "\n",
        "x_train = x_train.astype('float32')\n",
        "x_test = x_test.astype('float32')\n",
        "x_train /= 255\n",
        "x_test /= 255\n",
        "y_train = keras.utils.to_categorical(y_train, 21)\n",
        "y_test = keras.utils.to_categorical(y_test, 21)"
      ],
      "execution_count": 0,
      "outputs": []
    },
    {
      "cell_type": "code",
      "metadata": {
        "id": "M_sSBdu3MkCO",
        "colab_type": "code",
        "colab": {}
      },
      "source": [
        "from skimage import feature\n",
        "import numpy as np\n",
        " \n",
        "class LocalBinaryPatterns:\n",
        "  def __init__(self, numPoints, radius):\n",
        "# store the number of points and radius\n",
        "    self.numPoints = numPoints\n",
        "    self.radius = radius\n",
        "  def describe(self, image, eps=1e-7):\n",
        "\t\t# compute the Local Binary Pattern representation\n",
        "\t\t# of the image, and then use the LBP representation\n",
        "\t\t# to build the histogram of patterns\n",
        "    lbp = feature.local_binary_pattern(image, self.numPoints,\n",
        "    self.radius, method=\"uniform\")\n",
        "    return lbp "
      ],
      "execution_count": 0,
      "outputs": []
    },
    {
      "cell_type": "code",
      "metadata": {
        "id": "H1P675PxMoG1",
        "colab_type": "code",
        "colab": {}
      },
      "source": [
        "desc = LocalBinaryPatterns(24, 8)"
      ],
      "execution_count": 0,
      "outputs": []
    },
    {
      "cell_type": "code",
      "metadata": {
        "colab_type": "code",
        "id": "M-FBpfkPoBj2",
        "colab": {}
      },
      "source": [
        "x_train_lbp=[]\n"
      ],
      "execution_count": 0,
      "outputs": []
    },
    {
      "cell_type": "code",
      "metadata": {
        "colab_type": "code",
        "id": "Irk2m81xoBj6",
        "colab": {}
      },
      "source": [
        "for i in x_train:\n",
        "  gray = cv2.cvtColor(i, cv2.COLOR_BGR2GRAY)\n",
        "  hist = desc.describe(gray)\n",
        "  x_train_lbp.append(hist)"
      ],
      "execution_count": 0,
      "outputs": []
    },
    {
      "cell_type": "code",
      "metadata": {
        "colab_type": "code",
        "id": "zhHkMm0poBj8",
        "colab": {}
      },
      "source": [
        "x_train_lbp=np.array(x_train_lbp)"
      ],
      "execution_count": 0,
      "outputs": []
    },
    {
      "cell_type": "code",
      "metadata": {
        "colab_type": "code",
        "outputId": "83e399ac-4a3a-4b93-c4b2-aa644e14c653",
        "id": "2oOUAnXZoBj-",
        "colab": {
          "base_uri": "https://localhost:8080/",
          "height": 34
        }
      },
      "source": [
        "x_train_lbp.shape"
      ],
      "execution_count": 0,
      "outputs": [
        {
          "output_type": "execute_result",
          "data": {
            "text/plain": [
              "(1512, 256, 256)"
            ]
          },
          "metadata": {
            "tags": []
          },
          "execution_count": 24
        }
      ]
    },
    {
      "cell_type": "code",
      "metadata": {
        "colab_type": "code",
        "id": "3856zlQfoBkD",
        "colab": {}
      },
      "source": [
        "x_test_lbp=[]\n"
      ],
      "execution_count": 0,
      "outputs": []
    },
    {
      "cell_type": "code",
      "metadata": {
        "colab_type": "code",
        "id": "PxyGSAgGoBkF",
        "colab": {}
      },
      "source": [
        "for i in x_test:\n",
        "  gray = cv2.cvtColor(i, cv2.COLOR_BGR2GRAY)\n",
        "  hist = desc.describe(gray)\n",
        "  x_test_lbp.append(hist)"
      ],
      "execution_count": 0,
      "outputs": []
    },
    {
      "cell_type": "code",
      "metadata": {
        "colab_type": "code",
        "id": "3eS5M8TvoBkH",
        "colab": {}
      },
      "source": [
        "x_test_lbp=np.array(x_test_lbp)"
      ],
      "execution_count": 0,
      "outputs": []
    },
    {
      "cell_type": "code",
      "metadata": {
        "colab_type": "code",
        "outputId": "1cd5f988-284b-4581-ba3c-f7103f42148c",
        "id": "hmGlLqVyoBkJ",
        "colab": {
          "base_uri": "https://localhost:8080/",
          "height": 34
        }
      },
      "source": [
        "x_test_lbp.shape"
      ],
      "execution_count": 0,
      "outputs": [
        {
          "output_type": "execute_result",
          "data": {
            "text/plain": [
              "(378, 256, 256)"
            ]
          },
          "metadata": {
            "tags": []
          },
          "execution_count": 28
        }
      ]
    },
    {
      "cell_type": "code",
      "metadata": {
        "id": "9fd29T8UPzXU",
        "colab_type": "code",
        "outputId": "bdafcc3a-8778-43e8-a8b1-5b34b67dde2a",
        "colab": {
          "base_uri": "https://localhost:8080/",
          "height": 34
        }
      },
      "source": [
        "x_train_lbp.shape"
      ],
      "execution_count": 0,
      "outputs": [
        {
          "output_type": "execute_result",
          "data": {
            "text/plain": [
              "(1512, 256, 256)"
            ]
          },
          "metadata": {
            "tags": []
          },
          "execution_count": 29
        }
      ]
    },
    {
      "cell_type": "code",
      "metadata": {
        "id": "LDiBbMOeP3H9",
        "colab_type": "code",
        "colab": {}
      },
      "source": [
        "x_train_lbp = x_train_lbp.reshape(x_train_lbp.shape[0], img_rows, img_cols, 1)\n",
        "x_test_lbp = x_test_lbp.reshape(x_test_lbp.shape[0], img_rows, img_cols, 1)\n",
        "\n",
        "input_shape2 = (img_rows, img_cols, 1)"
      ],
      "execution_count": 0,
      "outputs": []
    },
    {
      "cell_type": "code",
      "metadata": {
        "id": "dsRRO_pnziHF",
        "colab_type": "code",
        "colab": {}
      },
      "source": [
        "import time \n",
        "import cv2 \n",
        "from scipy.fftpack import dct \n",
        "import numpy as np\n",
        "#y = np.random.random((5000, 6, 6, 3))\n",
        "t1 = time.time()\n",
        "a = np.zeros((len(x_train_lbp), 256, 256, 1))\n",
        "for i in range(len(x_train_lbp)):\n",
        "    for j in range(1):\n",
        "        a[i, :, :, j] = cv2.dct(x_train_lbp[i, :, :, j])"
      ],
      "execution_count": 0,
      "outputs": []
    },
    {
      "cell_type": "code",
      "metadata": {
        "id": "cSgmPB272ppK",
        "colab_type": "code",
        "colab": {}
      },
      "source": [
        "x_dct=a"
      ],
      "execution_count": 0,
      "outputs": []
    },
    {
      "cell_type": "code",
      "metadata": {
        "id": "2tu0trGd2vUR",
        "colab_type": "code",
        "outputId": "0fde5798-529d-4d19-cb43-06166ca741c9",
        "colab": {
          "base_uri": "https://localhost:8080/",
          "height": 34
        }
      },
      "source": [
        "x_dct.shape"
      ],
      "execution_count": 0,
      "outputs": [
        {
          "output_type": "execute_result",
          "data": {
            "text/plain": [
              "(1512, 256, 256, 1)"
            ]
          },
          "metadata": {
            "tags": []
          },
          "execution_count": 33
        }
      ]
    },
    {
      "cell_type": "code",
      "metadata": {
        "id": "FPWpyhvI25zr",
        "colab_type": "code",
        "colab": {}
      },
      "source": [
        "x_dct_final = np.random.random((len(x_dct), 32, 32, 1))"
      ],
      "execution_count": 0,
      "outputs": []
    },
    {
      "cell_type": "code",
      "metadata": {
        "id": "ahLIf23E3CDX",
        "colab_type": "code",
        "colab": {}
      },
      "source": [
        "for i in range(1512):\n",
        "  for j in range(32):\n",
        "    for k in range(32):\n",
        "      for l in range(1):\n",
        "        x_dct_final[i,j,k,l]=x_dct[i,j,k,l]"
      ],
      "execution_count": 0,
      "outputs": []
    },
    {
      "cell_type": "code",
      "metadata": {
        "id": "RxILPPu63lIr",
        "colab_type": "code",
        "outputId": "bd57c00d-798e-4ee1-cdb1-df4e494e8f7f",
        "colab": {
          "base_uri": "https://localhost:8080/",
          "height": 34
        }
      },
      "source": [
        "x_dct_final.shape"
      ],
      "execution_count": 0,
      "outputs": [
        {
          "output_type": "execute_result",
          "data": {
            "text/plain": [
              "(1512, 32, 32, 1)"
            ]
          },
          "metadata": {
            "tags": []
          },
          "execution_count": 36
        }
      ]
    },
    {
      "cell_type": "code",
      "metadata": {
        "id": "Wcqz-Ow23smK",
        "colab_type": "code",
        "colab": {}
      },
      "source": [
        "input_shape1 = (img_rows, img_cols, 3)\n",
        "input_shape2 = (32, 32, 1)\n",
        "input_shape3 = (img_rows, img_cols, 3)"
      ],
      "execution_count": 0,
      "outputs": []
    },
    {
      "cell_type": "code",
      "metadata": {
        "colab_type": "code",
        "id": "RjgFjvv8467J",
        "colab": {}
      },
      "source": [
        "\n",
        "#y = np.random.random((5000, 6, 6, 3))\n",
        "t1 = time.time()\n",
        "a1 = np.zeros((len(x_test_lbp), 256, 256, 1))\n",
        "for i in range(len(x_test_lbp)):\n",
        "    for j in range(1):\n",
        "        a1[i, :, :, j] = cv2.dct(x_test_lbp[i, :, :, j])"
      ],
      "execution_count": 0,
      "outputs": []
    },
    {
      "cell_type": "code",
      "metadata": {
        "colab_type": "code",
        "id": "2qaM98aE467R",
        "colab": {}
      },
      "source": [
        "x_dct_t=a1"
      ],
      "execution_count": 0,
      "outputs": []
    },
    {
      "cell_type": "code",
      "metadata": {
        "colab_type": "code",
        "outputId": "f77e2976-44d5-43bb-c767-7a2964fc04b5",
        "id": "egrGDl7Q467T",
        "colab": {
          "base_uri": "https://localhost:8080/",
          "height": 34
        }
      },
      "source": [
        "x_dct_t.shape"
      ],
      "execution_count": 0,
      "outputs": [
        {
          "output_type": "execute_result",
          "data": {
            "text/plain": [
              "(378, 256, 256, 1)"
            ]
          },
          "metadata": {
            "tags": []
          },
          "execution_count": 40
        }
      ]
    },
    {
      "cell_type": "code",
      "metadata": {
        "colab_type": "code",
        "id": "j7UNCpcA467W",
        "colab": {}
      },
      "source": [
        "x_dct_test = np.random.random((len(x_dct_t), 32, 32, 1))"
      ],
      "execution_count": 0,
      "outputs": []
    },
    {
      "cell_type": "code",
      "metadata": {
        "colab_type": "code",
        "id": "KPL0DfqD467Y",
        "colab": {}
      },
      "source": [
        "for i in range(378):\n",
        "  for j in range(32):\n",
        "    for k in range(32):\n",
        "      for l in range(1):\n",
        "        x_dct_test[i,j,k,l]=x_dct_t[i,j,k,l]"
      ],
      "execution_count": 0,
      "outputs": []
    },
    {
      "cell_type": "code",
      "metadata": {
        "colab_type": "code",
        "outputId": "db64ef33-a8fe-45fe-de73-3d97b4faa209",
        "id": "OJjzYWLi467c",
        "colab": {
          "base_uri": "https://localhost:8080/",
          "height": 34
        }
      },
      "source": [
        "x_dct_test.shape"
      ],
      "execution_count": 0,
      "outputs": [
        {
          "output_type": "execute_result",
          "data": {
            "text/plain": [
              "(378, 32, 32, 1)"
            ]
          },
          "metadata": {
            "tags": []
          },
          "execution_count": 43
        }
      ]
    },
    {
      "cell_type": "code",
      "metadata": {
        "id": "kb3AJ2q1Ufxp",
        "colab_type": "code",
        "colab": {}
      },
      "source": [
        ""
      ],
      "execution_count": 0,
      "outputs": []
    },
    {
      "cell_type": "code",
      "metadata": {
        "colab_type": "code",
        "id": "-l8OZPmdUvIY",
        "colab": {}
      },
      "source": [
        "import time \n",
        "import cv2 \n",
        "from scipy.fftpack import dct \n",
        "import numpy as np\n",
        "#y = np.random.random((5000, 6, 6, 3))\n",
        "t1 = time.time()\n",
        "a11 = np.zeros((len(x_train), 256, 256, 3))\n",
        "for i in range(len(x_train)):\n",
        "    for j in range(3):\n",
        "        a11[i, :, :, j] = cv2.dct(x_train[i, :, :, j])"
      ],
      "execution_count": 0,
      "outputs": []
    },
    {
      "cell_type": "code",
      "metadata": {
        "colab_type": "code",
        "id": "K-FmTcMEUvIi",
        "colab": {}
      },
      "source": [
        "x_dct11=a11"
      ],
      "execution_count": 0,
      "outputs": []
    },
    {
      "cell_type": "code",
      "metadata": {
        "colab_type": "code",
        "outputId": "ea0a896f-8c14-4472-bcf9-b0dad19e9e7b",
        "id": "vr4fVd3fUvIm",
        "colab": {
          "base_uri": "https://localhost:8080/",
          "height": 34
        }
      },
      "source": [
        "x_dct11.shape"
      ],
      "execution_count": 0,
      "outputs": [
        {
          "output_type": "execute_result",
          "data": {
            "text/plain": [
              "(1512, 256, 256, 3)"
            ]
          },
          "metadata": {
            "tags": []
          },
          "execution_count": 46
        }
      ]
    },
    {
      "cell_type": "code",
      "metadata": {
        "id": "dgBSq6gL2xRi",
        "colab_type": "code",
        "colab": {}
      },
      "source": [
        "input_shape = (img_rows, img_cols, 3)"
      ],
      "execution_count": 0,
      "outputs": []
    },
    {
      "cell_type": "code",
      "metadata": {
        "colab_type": "code",
        "id": "7PFL9LbJUvIu",
        "colab": {}
      },
      "source": [
        "x_dct_final_train = np.random.random((len(x_dct11), 32, 32, 3))"
      ],
      "execution_count": 0,
      "outputs": []
    },
    {
      "cell_type": "code",
      "metadata": {
        "colab_type": "code",
        "id": "tGyomqYdUvIw",
        "colab": {}
      },
      "source": [
        "for i in range(1512):\n",
        "  for j in range(32):\n",
        "    for k in range(32):\n",
        "      for l in range(3):\n",
        "        x_dct_final_train[i,j,k,l]=x_dct11[i,j,k,l]"
      ],
      "execution_count": 0,
      "outputs": []
    },
    {
      "cell_type": "code",
      "metadata": {
        "colab_type": "code",
        "outputId": "f4cc018f-b9c2-49de-b21d-4ea77e05e167",
        "id": "_1AL8L1IUvIy",
        "colab": {
          "base_uri": "https://localhost:8080/",
          "height": 34
        }
      },
      "source": [
        "x_dct_final_train.shape"
      ],
      "execution_count": 0,
      "outputs": [
        {
          "output_type": "execute_result",
          "data": {
            "text/plain": [
              "(1512, 32, 32, 3)"
            ]
          },
          "metadata": {
            "tags": []
          },
          "execution_count": 49
        }
      ]
    },
    {
      "cell_type": "code",
      "metadata": {
        "colab_type": "code",
        "id": "5GkwXTRPUvI0",
        "colab": {}
      },
      "source": [
        "input_shape1 = (img_rows, img_cols, 3)\n",
        "input_shape2 = (32, 32, 3)"
      ],
      "execution_count": 0,
      "outputs": []
    },
    {
      "cell_type": "code",
      "metadata": {
        "colab_type": "code",
        "id": "0IZxEEuPUvI4",
        "colab": {}
      },
      "source": [
        "\n",
        "#y = np.random.random((5000, 6, 6, 3))\n",
        "t1 = time.time()\n",
        "a1111 = np.zeros((len(x_test), 256, 256, 3))\n",
        "for i in range(len(x_test)):\n",
        "    for j in range(3):\n",
        "        a1111[i, :, :, j] = cv2.dct(x_test[i, :, :, j])"
      ],
      "execution_count": 0,
      "outputs": []
    },
    {
      "cell_type": "code",
      "metadata": {
        "colab_type": "code",
        "id": "6yPpzuVtUvI6",
        "colab": {}
      },
      "source": [
        "x_dct_t111=a1111"
      ],
      "execution_count": 0,
      "outputs": []
    },
    {
      "cell_type": "code",
      "metadata": {
        "colab_type": "code",
        "outputId": "ed3b45ce-7f1f-46f4-deee-938e47b528d5",
        "id": "gqTQTUuYUvI9",
        "colab": {
          "base_uri": "https://localhost:8080/",
          "height": 34
        }
      },
      "source": [
        "x_dct_t111.shape"
      ],
      "execution_count": 0,
      "outputs": [
        {
          "output_type": "execute_result",
          "data": {
            "text/plain": [
              "(378, 256, 256, 3)"
            ]
          },
          "metadata": {
            "tags": []
          },
          "execution_count": 52
        }
      ]
    },
    {
      "cell_type": "code",
      "metadata": {
        "colab_type": "code",
        "id": "RkUC9UqeUvJA",
        "colab": {}
      },
      "source": [
        "x_dct_test_final = np.random.random((len(x_dct_t111), 32, 32, 3))"
      ],
      "execution_count": 0,
      "outputs": []
    },
    {
      "cell_type": "code",
      "metadata": {
        "colab_type": "code",
        "id": "CEejZmOrUvJD",
        "colab": {}
      },
      "source": [
        "for i in range(378):\n",
        "  for j in range(32):\n",
        "    for k in range(32):\n",
        "      for l in range(3):\n",
        "        x_dct_test_final[i,j,k,l]=x_dct_t111[i,j,k,l]"
      ],
      "execution_count": 0,
      "outputs": []
    },
    {
      "cell_type": "code",
      "metadata": {
        "colab_type": "code",
        "outputId": "5a00fbf0-ce62-459d-b402-1b5594835f6b",
        "id": "iGVNT8yIUvJI",
        "colab": {
          "base_uri": "https://localhost:8080/",
          "height": 34
        }
      },
      "source": [
        "x_dct_test_final.shape"
      ],
      "execution_count": 0,
      "outputs": [
        {
          "output_type": "execute_result",
          "data": {
            "text/plain": [
              "(378, 32, 32, 3)"
            ]
          },
          "metadata": {
            "tags": []
          },
          "execution_count": 55
        }
      ]
    },
    {
      "cell_type": "code",
      "metadata": {
        "id": "JpOQoZTgXRok",
        "colab_type": "code",
        "colab": {}
      },
      "source": [
        "ashape=np.array([x_dct_test_final.shape, x_dct_final_train.shape, x_dct_final.shape, x_dct_test.shape, x_train.shape, x_test.shape])\n"
      ],
      "execution_count": 0,
      "outputs": []
    },
    {
      "cell_type": "code",
      "metadata": {
        "id": "VdTJAcrlX-IK",
        "colab_type": "code",
        "outputId": "722f3408-7e88-42fb-f07c-5b6e51795132",
        "colab": {
          "base_uri": "https://localhost:8080/",
          "height": 119
        }
      },
      "source": [
        "for i in ashape:\n",
        "  print(i)"
      ],
      "execution_count": 0,
      "outputs": [
        {
          "output_type": "stream",
          "text": [
            "[378  32  32   3]\n",
            "[1512   32   32    3]\n",
            "[1512   32   32    1]\n",
            "[378  32  32   1]\n",
            "[1512  256  256    3]\n",
            "[378 256 256   3]\n"
          ],
          "name": "stdout"
        }
      ]
    },
    {
      "cell_type": "code",
      "metadata": {
        "id": "VlEbrN54YgCM",
        "colab_type": "code",
        "colab": {}
      },
      "source": [
        "inputshape1=(256,256,3)\n",
        "inputshape2=(32,32,3)\n",
        "inputshape3=(32,32,1)"
      ],
      "execution_count": 0,
      "outputs": []
    },
    {
      "cell_type": "code",
      "metadata": {
        "id": "uYo7mo5iYsug",
        "colab_type": "code",
        "colab": {}
      },
      "source": [
        ""
      ],
      "execution_count": 0,
      "outputs": []
    },
    {
      "cell_type": "code",
      "metadata": {
        "colab_type": "code",
        "id": "ESC371GW40CB",
        "colab": {}
      },
      "source": [
        "from keras.layers import Input, Conv2D, Dense, concatenate\n",
        "from keras.models import Model"
      ],
      "execution_count": 0,
      "outputs": []
    },
    {
      "cell_type": "code",
      "metadata": {
        "colab_type": "code",
        "id": "CCH104j-40CF",
        "colab": {}
      },
      "source": [
        "from PIL import Image #import Python Image Library\n",
        "import numpy as np\n",
        "import os\n",
        "import glob\n",
        "import re\n",
        "import keras\n",
        "from keras.models import Sequential\n",
        "from keras.layers import Dense, Dropout, Activation, Flatten,LeakyReLU\n",
        "from keras.layers import Conv2D, MaxPooling2D\n",
        "from keras.utils import np_utils\n",
        "from keras import backend as K"
      ],
      "execution_count": 0,
      "outputs": []
    },
    {
      "cell_type": "code",
      "metadata": {
        "colab_type": "code",
        "id": "xrR3mVU540CH",
        "colab": {}
      },
      "source": [
        "from keras.layers import *\n",
        "inputTensor1 = Input(input_shape1)\n",
        "#inputTensor2 = Input(input_shape2)\n",
        "#nputTensor3 = Input(input_shape)\n"
      ],
      "execution_count": 0,
      "outputs": []
    },
    {
      "cell_type": "code",
      "metadata": {
        "id": "uJj5QP3tapf_",
        "colab_type": "code",
        "colab": {}
      },
      "source": [
        "inputTensor2 = Input((32,32,3))"
      ],
      "execution_count": 0,
      "outputs": []
    },
    {
      "cell_type": "code",
      "metadata": {
        "id": "ozmNp0hDaqZl",
        "colab_type": "code",
        "outputId": "a95b7c41-c2ad-4f4e-9832-d5c86fb2128f",
        "colab": {
          "base_uri": "https://localhost:8080/",
          "height": 34
        }
      },
      "source": [
        "inputTensor3 = Input((32,32,1))\n",
        "print(inputTensor3)"
      ],
      "execution_count": 0,
      "outputs": [
        {
          "output_type": "stream",
          "text": [
            "Tensor(\"input_14:0\", shape=(?, 32, 32, 1), dtype=float32)\n"
          ],
          "name": "stdout"
        }
      ]
    },
    {
      "cell_type": "code",
      "metadata": {
        "id": "dPGu5wUGZE4f",
        "colab_type": "code",
        "outputId": "cfeff243-5ed9-43f2-841a-dbeda142e9cb",
        "colab": {
          "base_uri": "https://localhost:8080/",
          "height": 68
        }
      },
      "source": [
        "print(inputTensor1)\n",
        "print(inputTensor2)\n",
        "print(inputTensor3)\n"
      ],
      "execution_count": 0,
      "outputs": [
        {
          "output_type": "stream",
          "text": [
            "Tensor(\"input_10:0\", shape=(?, 256, 256, 3), dtype=float32)\n",
            "Tensor(\"input_15:0\", shape=(?, 32, 32, 3), dtype=float32)\n",
            "Tensor(\"input_14:0\", shape=(?, 32, 32, 1), dtype=float32)\n"
          ],
          "name": "stdout"
        }
      ]
    },
    {
      "cell_type": "code",
      "metadata": {
        "colab_type": "code",
        "id": "EylpudVt40CJ",
        "colab": {}
      },
      "source": [
        "model1=(Conv2D(32, kernel_size=(3, 3),activation='relu'))(inputTensor1)\n",
        "model1=(MaxPooling2D(pool_size=(2,2)))(model1)\n",
        "model1=(Conv2D(32, (3, 3), activation='relu'))(model1)\n",
        "model1=(MaxPooling2D(pool_size=(2,2)))(model1)\n",
        "model1=(Dropout(0.25))(model1)\n",
        "model1=(Flatten())(model1)\n",
        "model1=(Dense(128, activation='relu'))(model1)\n",
        "model1=(Dropout(0.5))(model1)\n",
        "model1 = Model(inputs=inputTensor1, outputs=model1)\n"
      ],
      "execution_count": 0,
      "outputs": []
    },
    {
      "cell_type": "code",
      "metadata": {
        "colab_type": "code",
        "id": "wXKN8pxo40CL",
        "colab": {}
      },
      "source": [
        "model2=(Conv2D(32, kernel_size=(3, 3),activation='relu'))(inputTensor2)\n",
        "model2=(MaxPooling2D(pool_size=(2,2)))(model2)\n",
        "model2=(Conv2D(32, (3, 3), activation='relu'))(model2)\n",
        "model2=(MaxPooling2D(pool_size=(2,2)))(model2)\n",
        "model2=(Dropout(0.25))(model2)\n",
        "model2=(Flatten())(model2)\n",
        "model2=(Dense(128, activation='relu'))(model2)\n",
        "model2=(Dropout(0.5))(model2)\n",
        "model2 = Model(inputs=inputTensor2, outputs=model2)\n"
      ],
      "execution_count": 0,
      "outputs": []
    },
    {
      "cell_type": "code",
      "metadata": {
        "id": "-jxGV1SYZMSu",
        "colab_type": "code",
        "colab": {}
      },
      "source": [
        "model3=(Conv2D(32, kernel_size=(3, 3),activation='relu'))(inputTensor3)\n",
        "model3=(MaxPooling2D(pool_size=(2,2)))(model3)\n",
        "model3=(Conv2D(32, (3, 3), activation='relu'))(model3)\n",
        "model3=(MaxPooling2D(pool_size=(2,2)))(model3)\n",
        "model3=(Dropout(0.25))(model3)\n",
        "model3=(Flatten())(model3)\n",
        "model3=(Dense(128, activation='relu'))(model3)\n",
        "model3=(Dropout(0.5))(model3)\n",
        "model3 = Model(inputs=inputTensor3, outputs=model3)\n"
      ],
      "execution_count": 0,
      "outputs": []
    },
    {
      "cell_type": "code",
      "metadata": {
        "colab_type": "code",
        "id": "9OqLB83740CO",
        "colab": {}
      },
      "source": [
        "#from keras.layers import Activation, Dense, Dropout, Flatten, Input, Merge\n",
        "x = concatenate([model1.output, model2.output,model3.output])  # merge the outputs of the two models\n",
        "out = Dense(21,activation='softmax')(x) "
      ],
      "execution_count": 0,
      "outputs": []
    },
    {
      "cell_type": "code",
      "metadata": {
        "colab_type": "code",
        "id": "pg0AUHZ840CQ",
        "colab": {}
      },
      "source": [
        "model = Model(inputs=[inputTensor1, inputTensor2,inputTensor3], outputs=[out])"
      ],
      "execution_count": 0,
      "outputs": []
    },
    {
      "cell_type": "code",
      "metadata": {
        "colab_type": "code",
        "id": "AvZqpWk740CS",
        "colab": {}
      },
      "source": [
        "model.compile(optimizer='adam', loss='categorical_crossentropy',metrics=['accuracy'])"
      ],
      "execution_count": 0,
      "outputs": []
    },
    {
      "cell_type": "code",
      "metadata": {
        "colab_type": "code",
        "outputId": "ddcb2f8e-766b-45e7-e6ad-4c56bc357ea0",
        "id": "MRT8QHv740CU",
        "colab": {
          "base_uri": "https://localhost:8080/",
          "height": 734
        }
      },
      "source": [
        "model.fit([x_train,x_dct_final_train,x_dct_final], y_train, epochs=10, batch_size=32,validation_data=([x_test,x_dct_test_final,x_dct_test],y_test))"
      ],
      "execution_count": 0,
      "outputs": [
        {
          "output_type": "stream",
          "text": [
            "WARNING:tensorflow:From /usr/local/lib/python3.6/dist-packages/tensorflow_core/python/ops/math_grad.py:1424: where (from tensorflow.python.ops.array_ops) is deprecated and will be removed in a future version.\n",
            "Instructions for updating:\n",
            "Use tf.where in 2.0, which has the same broadcast rule as np.where\n",
            "WARNING:tensorflow:From /usr/local/lib/python3.6/dist-packages/keras/backend/tensorflow_backend.py:1033: The name tf.assign_add is deprecated. Please use tf.compat.v1.assign_add instead.\n",
            "\n",
            "WARNING:tensorflow:From /usr/local/lib/python3.6/dist-packages/keras/backend/tensorflow_backend.py:1020: The name tf.assign is deprecated. Please use tf.compat.v1.assign instead.\n",
            "\n",
            "WARNING:tensorflow:From /usr/local/lib/python3.6/dist-packages/keras/backend/tensorflow_backend.py:3005: The name tf.Session is deprecated. Please use tf.compat.v1.Session instead.\n",
            "\n",
            "Train on 1512 samples, validate on 378 samples\n",
            "Epoch 1/10\n",
            "WARNING:tensorflow:From /usr/local/lib/python3.6/dist-packages/keras/backend/tensorflow_backend.py:190: The name tf.get_default_session is deprecated. Please use tf.compat.v1.get_default_session instead.\n",
            "\n",
            "WARNING:tensorflow:From /usr/local/lib/python3.6/dist-packages/keras/backend/tensorflow_backend.py:197: The name tf.ConfigProto is deprecated. Please use tf.compat.v1.ConfigProto instead.\n",
            "\n",
            "WARNING:tensorflow:From /usr/local/lib/python3.6/dist-packages/keras/backend/tensorflow_backend.py:207: The name tf.global_variables is deprecated. Please use tf.compat.v1.global_variables instead.\n",
            "\n",
            "WARNING:tensorflow:From /usr/local/lib/python3.6/dist-packages/keras/backend/tensorflow_backend.py:216: The name tf.is_variable_initialized is deprecated. Please use tf.compat.v1.is_variable_initialized instead.\n",
            "\n",
            "WARNING:tensorflow:From /usr/local/lib/python3.6/dist-packages/keras/backend/tensorflow_backend.py:223: The name tf.variables_initializer is deprecated. Please use tf.compat.v1.variables_initializer instead.\n",
            "\n",
            "1512/1512 [==============================] - 16s 10ms/step - loss: 14.6202 - acc: 0.0430 - val_loss: 10.0065 - val_acc: 0.0397\n",
            "Epoch 2/10\n",
            "1512/1512 [==============================] - 6s 4ms/step - loss: 4.7283 - acc: 0.0847 - val_loss: 2.7607 - val_acc: 0.1878\n",
            "Epoch 3/10\n",
            "1512/1512 [==============================] - 6s 4ms/step - loss: 2.5841 - acc: 0.2328 - val_loss: 2.2982 - val_acc: 0.3201\n",
            "Epoch 4/10\n",
            "1512/1512 [==============================] - 6s 4ms/step - loss: 1.9515 - acc: 0.4200 - val_loss: 2.0283 - val_acc: 0.3862\n",
            "Epoch 5/10\n",
            "1512/1512 [==============================] - 6s 4ms/step - loss: 1.3901 - acc: 0.5860 - val_loss: 1.7488 - val_acc: 0.4762\n",
            "Epoch 6/10\n",
            "1512/1512 [==============================] - 6s 4ms/step - loss: 0.9271 - acc: 0.7136 - val_loss: 1.5171 - val_acc: 0.5529\n",
            "Epoch 7/10\n",
            "1512/1512 [==============================] - 6s 4ms/step - loss: 0.6484 - acc: 0.8142 - val_loss: 1.4569 - val_acc: 0.5608\n",
            "Epoch 8/10\n",
            "1512/1512 [==============================] - 6s 4ms/step - loss: 0.5406 - acc: 0.8406 - val_loss: 1.6613 - val_acc: 0.5370\n",
            "Epoch 9/10\n",
            "1512/1512 [==============================] - 6s 4ms/step - loss: 0.3396 - acc: 0.9028 - val_loss: 1.7251 - val_acc: 0.5503\n",
            "Epoch 10/10\n",
            "1512/1512 [==============================] - 6s 4ms/step - loss: 0.2710 - acc: 0.9187 - val_loss: 1.5959 - val_acc: 0.5847\n"
          ],
          "name": "stdout"
        },
        {
          "output_type": "execute_result",
          "data": {
            "text/plain": [
              "<keras.callbacks.History at 0x7faa1b264a20>"
            ]
          },
          "metadata": {
            "tags": []
          },
          "execution_count": 95
        }
      ]
    },
    {
      "cell_type": "code",
      "metadata": {
        "id": "TTkGqpTZbfoX",
        "colab_type": "code",
        "outputId": "62be2e3f-ee45-4d63-f197-6fcc49954058",
        "colab": {
          "base_uri": "https://localhost:8080/",
          "height": 411
        }
      },
      "source": [
        "model.fit([x_train,x_dct_final_train,x_dct_final], y_train, epochs=10, batch_size=32,validation_data=([x_test,x_dct_test_final,x_dct_test],y_test))"
      ],
      "execution_count": 0,
      "outputs": [
        {
          "output_type": "stream",
          "text": [
            "Train on 1512 samples, validate on 378 samples\n",
            "Epoch 1/10\n",
            "1512/1512 [==============================] - 6s 4ms/step - loss: 0.2026 - acc: 0.9398 - val_loss: 1.8825 - val_acc: 0.5794\n",
            "Epoch 2/10\n",
            "1512/1512 [==============================] - 6s 4ms/step - loss: 0.2348 - acc: 0.9352 - val_loss: 1.9204 - val_acc: 0.5556\n",
            "Epoch 3/10\n",
            "1512/1512 [==============================] - 6s 4ms/step - loss: 0.1586 - acc: 0.9577 - val_loss: 1.7276 - val_acc: 0.5714\n",
            "Epoch 4/10\n",
            "1512/1512 [==============================] - 6s 4ms/step - loss: 0.1238 - acc: 0.9597 - val_loss: 1.8630 - val_acc: 0.5794\n",
            "Epoch 5/10\n",
            "1512/1512 [==============================] - 6s 4ms/step - loss: 0.1296 - acc: 0.9669 - val_loss: 1.9044 - val_acc: 0.5582\n",
            "Epoch 6/10\n",
            "1512/1512 [==============================] - 6s 4ms/step - loss: 0.1399 - acc: 0.9597 - val_loss: 1.9016 - val_acc: 0.5794\n",
            "Epoch 7/10\n",
            "1512/1512 [==============================] - 6s 4ms/step - loss: 0.1107 - acc: 0.9643 - val_loss: 2.0190 - val_acc: 0.5741\n",
            "Epoch 8/10\n",
            "1512/1512 [==============================] - 6s 4ms/step - loss: 0.1124 - acc: 0.9630 - val_loss: 2.0171 - val_acc: 0.5714\n",
            "Epoch 9/10\n",
            "1512/1512 [==============================] - 6s 4ms/step - loss: 0.0752 - acc: 0.9795 - val_loss: 1.8868 - val_acc: 0.5820\n",
            "Epoch 10/10\n",
            "1512/1512 [==============================] - 6s 4ms/step - loss: 0.0816 - acc: 0.9802 - val_loss: 1.9395 - val_acc: 0.5741\n"
          ],
          "name": "stdout"
        },
        {
          "output_type": "execute_result",
          "data": {
            "text/plain": [
              "<keras.callbacks.History at 0x7faa1b247a20>"
            ]
          },
          "metadata": {
            "tags": []
          },
          "execution_count": 96
        }
      ]
    }
  ]
}