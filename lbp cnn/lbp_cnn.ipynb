{
  "nbformat": 4,
  "nbformat_minor": 0,
  "metadata": {
    "colab": {
      "name": "lbp_cnn.ipynb",
      "provenance": []
    },
    "kernelspec": {
      "name": "python3",
      "display_name": "Python 3"
    },
    "accelerator": "GPU"
  },
  "cells": [
    {
      "cell_type": "code",
      "metadata": {
        "id": "U5-4vtRLMSag",
        "colab_type": "code",
        "colab": {}
      },
      "source": [
        "import numpy as np\n",
        "import matplotlib.pyplot as plt\n",
        "import os\n",
        "import cv2\n",
        "from tqdm import tqdm\n",
        "\n",
        "\n",
        "  # graph it\n",
        "        "
      ],
      "execution_count": 0,
      "outputs": []
    },
    {
      "cell_type": "code",
      "metadata": {
        "id": "MxmUMmm7MXE4",
        "colab_type": "code",
        "colab": {}
      },
      "source": [
        "DATADIR = '/content/drive/My Drive/ucmerced/UCMerced_LandUse/Images/'\n",
        "\n",
        "CATEGORIES = [ 'agricultural',  'airplane',    'baseballdiamond', 'beach',   'buildings',          'chaparral',         'denseresidential',\n",
        "                'forest',        'freeway',     'golfcourse',      'harbor',  'intersection',       'mediumresidential', 'mobilehomepark',\n",
        "                'overpass',      'parkinglot',  'river',           'runway',  'sparseresidential',  'storagetanks',      'tenniscourt' ]\n"
      ],
      "execution_count": 0,
      "outputs": []
    },
    {
      "cell_type": "code",
      "metadata": {
        "id": "8_H86fHPMfSX",
        "colab_type": "code",
        "colab": {}
      },
      "source": [
        "from google.colab import drive\n",
        "drive.mount('/content/drive')"
      ],
      "execution_count": 0,
      "outputs": []
    },
    {
      "cell_type": "code",
      "metadata": {
        "id": "2URG-NMuMoPl",
        "colab_type": "code",
        "outputId": "9580d557-abe7-4fab-bc72-7ccded7bfddf",
        "colab": {
          "base_uri": "https://localhost:8080/",
          "height": 80
        }
      },
      "source": [
        "from PIL import Image #import Python Image Library\n",
        "import numpy as np\n",
        "import os\n",
        "import glob\n",
        "import re\n",
        "import keras\n",
        "from keras.models import Sequential\n",
        "from keras.layers import Dense, Dropout, Activation, Flatten\n",
        "from keras.layers import Conv2D, MaxPooling2D\n",
        "from keras.utils import np_utils\n",
        "from keras import backend as K"
      ],
      "execution_count": 0,
      "outputs": [
        {
          "output_type": "stream",
          "text": [
            "Using TensorFlow backend.\n"
          ],
          "name": "stderr"
        },
        {
          "output_type": "display_data",
          "data": {
            "text/html": [
              "<p style=\"color: red;\">\n",
              "The default version of TensorFlow in Colab will soon switch to TensorFlow 2.x.<br>\n",
              "We recommend you <a href=\"https://www.tensorflow.org/guide/migrate\" target=\"_blank\">upgrade</a> now \n",
              "or ensure your notebook will continue to use TensorFlow 1.x via the <code>%tensorflow_version 1.x</code> magic:\n",
              "<a href=\"https://colab.research.google.com/notebooks/tensorflow_version.ipynb\" target=\"_blank\">more info</a>.</p>\n"
            ],
            "text/plain": [
              "<IPython.core.display.HTML object>"
            ]
          },
          "metadata": {
            "tags": []
          }
        }
      ]
    },
    {
      "cell_type": "code",
      "metadata": {
        "id": "rFO-OnseNc4d",
        "colab_type": "code",
        "colab": {}
      },
      "source": [
        "path = os.path.abspath('.cnn.py')"
      ],
      "execution_count": 0,
      "outputs": []
    },
    {
      "cell_type": "code",
      "metadata": {
        "id": "DJvCBpm0NjOK",
        "colab_type": "code",
        "colab": {}
      },
      "source": [
        "path = re.sub('[a-zA-Z\\s._]+$', '', path) #remove unintended file"
      ],
      "execution_count": 0,
      "outputs": []
    },
    {
      "cell_type": "code",
      "metadata": {
        "id": "KyiF2extNsAZ",
        "colab_type": "code",
        "colab": {}
      },
      "source": [
        "dirs = os.listdir(path+'/drive/My Drive/ucmerced/UCMerced_LandUse/Images/')"
      ],
      "execution_count": 0,
      "outputs": []
    },
    {
      "cell_type": "code",
      "metadata": {
        "id": "T3RFKisIOJ50",
        "colab_type": "code",
        "outputId": "b22fa983-00a4-4e86-b8a9-a35392a06806",
        "colab": {
          "base_uri": "https://localhost:8080/",
          "height": 232
        }
      },
      "source": [
        "img_rows = 256\n",
        "img_cols = 256\n",
        "num_class = 21\n",
        "path = os.path.abspath('.cnn.py') #absolute path of program\n",
        "path = re.sub('[a-zA-Z\\s._]+$', '', path) #remove unintended file\n",
        "x_train = []\n",
        "y_train = []\n",
        "x_test = []\n",
        "y_test = []\n",
        "dirs = os.listdir(path+'/drive/My Drive/ucmerced/UCMerced_LandUse/Images/')\n",
        "dirs=dirs[:-1]\n",
        "print(len(dirs))\n",
        "'''\n",
        "\n",
        "'''"
      ],
      "execution_count": 0,
      "outputs": [
        {
          "output_type": "error",
          "ename": "NameError",
          "evalue": "ignored",
          "traceback": [
            "\u001b[0;31m---------------------------------------------------------------------------\u001b[0m",
            "\u001b[0;31mNameError\u001b[0m                                 Traceback (most recent call last)",
            "\u001b[0;32m<ipython-input-2-35d196695b6f>\u001b[0m in \u001b[0;36m<module>\u001b[0;34m()\u001b[0m\n\u001b[1;32m      2\u001b[0m \u001b[0mimg_cols\u001b[0m \u001b[0;34m=\u001b[0m \u001b[0;36m256\u001b[0m\u001b[0;34m\u001b[0m\u001b[0;34m\u001b[0m\u001b[0m\n\u001b[1;32m      3\u001b[0m \u001b[0mnum_class\u001b[0m \u001b[0;34m=\u001b[0m \u001b[0;36m21\u001b[0m\u001b[0;34m\u001b[0m\u001b[0;34m\u001b[0m\u001b[0m\n\u001b[0;32m----> 4\u001b[0;31m \u001b[0mpath\u001b[0m \u001b[0;34m=\u001b[0m \u001b[0mos\u001b[0m\u001b[0;34m.\u001b[0m\u001b[0mpath\u001b[0m\u001b[0;34m.\u001b[0m\u001b[0mabspath\u001b[0m\u001b[0;34m(\u001b[0m\u001b[0;34m'.cnn.py'\u001b[0m\u001b[0;34m)\u001b[0m \u001b[0;31m#absolute path of program\u001b[0m\u001b[0;34m\u001b[0m\u001b[0;34m\u001b[0m\u001b[0m\n\u001b[0m\u001b[1;32m      5\u001b[0m \u001b[0mpath\u001b[0m \u001b[0;34m=\u001b[0m \u001b[0mre\u001b[0m\u001b[0;34m.\u001b[0m\u001b[0msub\u001b[0m\u001b[0;34m(\u001b[0m\u001b[0;34m'[a-zA-Z\\s._]+$'\u001b[0m\u001b[0;34m,\u001b[0m \u001b[0;34m''\u001b[0m\u001b[0;34m,\u001b[0m \u001b[0mpath\u001b[0m\u001b[0;34m)\u001b[0m \u001b[0;31m#remove unintended file\u001b[0m\u001b[0;34m\u001b[0m\u001b[0;34m\u001b[0m\u001b[0m\n\u001b[1;32m      6\u001b[0m \u001b[0mx_train\u001b[0m \u001b[0;34m=\u001b[0m \u001b[0;34m[\u001b[0m\u001b[0;34m]\u001b[0m\u001b[0;34m\u001b[0m\u001b[0;34m\u001b[0m\u001b[0m\n",
            "\u001b[0;31mNameError\u001b[0m: name 'os' is not defined"
          ]
        }
      ]
    },
    {
      "cell_type": "code",
      "metadata": {
        "id": "GaAMcRQoRH4v",
        "colab_type": "code",
        "outputId": "39f304b7-19af-4de7-ae10-f207cc9680c6",
        "colab": {
          "base_uri": "https://localhost:8080/",
          "height": 232
        }
      },
      "source": [
        "label = 0\n",
        "for i in dirs:\n",
        "\tn = 0\n",
        "\tcount = 0\n",
        "\tfor pic in glob.glob(path+'/drive/My Drive/ucmerced/UCMerced_LandUse/Images/'+i+'/*.tif'):\n",
        "\t\tim = Image.open(pic)\n",
        "\t\tim = np.array(im)\n",
        "\t\tif((im.shape[0]==256) and (im.shape[1] ==256) and count <90): #get only 90 data\n",
        "\t\t\tr = im[:,:,0]\n",
        "\t\t\tg = im[:,:,1]\n",
        "\t\t\tb = im[:,:,2]\n",
        "\t\t\tif(n<5): # 5 data in beginning set as test data\n",
        "\t\t\t\tx_test.append([r,g,b])\n",
        "\t\t\t\ty_test.append([label])\n",
        "\t\t\telse: #remaining data set as training data\n",
        "\t\t\t\tx_train.append([r,g,b])\n",
        "\t\t\t\ty_train.append([label])\n",
        "\t\t\tn = n + 1\n",
        "\t\t\tcount = count + 1\n",
        "\t\t#print(count)\n",
        "\tlabel = label + 1"
      ],
      "execution_count": 0,
      "outputs": [
        {
          "output_type": "error",
          "ename": "NameError",
          "evalue": "ignored",
          "traceback": [
            "\u001b[0;31m---------------------------------------------------------------------------\u001b[0m",
            "\u001b[0;31mNameError\u001b[0m                                 Traceback (most recent call last)",
            "\u001b[0;32m<ipython-input-1-f4a4ec12f9d3>\u001b[0m in \u001b[0;36m<module>\u001b[0;34m()\u001b[0m\n\u001b[1;32m      1\u001b[0m \u001b[0mlabel\u001b[0m \u001b[0;34m=\u001b[0m \u001b[0;36m0\u001b[0m\u001b[0;34m\u001b[0m\u001b[0;34m\u001b[0m\u001b[0m\n\u001b[0;32m----> 2\u001b[0;31m \u001b[0;32mfor\u001b[0m \u001b[0mi\u001b[0m \u001b[0;32min\u001b[0m \u001b[0mdirs\u001b[0m\u001b[0;34m:\u001b[0m\u001b[0;34m\u001b[0m\u001b[0;34m\u001b[0m\u001b[0m\n\u001b[0m\u001b[1;32m      3\u001b[0m         \u001b[0mn\u001b[0m \u001b[0;34m=\u001b[0m \u001b[0;36m0\u001b[0m\u001b[0;34m\u001b[0m\u001b[0;34m\u001b[0m\u001b[0m\n\u001b[1;32m      4\u001b[0m         \u001b[0mcount\u001b[0m \u001b[0;34m=\u001b[0m \u001b[0;36m0\u001b[0m\u001b[0;34m\u001b[0m\u001b[0;34m\u001b[0m\u001b[0m\n\u001b[1;32m      5\u001b[0m         \u001b[0;32mfor\u001b[0m \u001b[0mpic\u001b[0m \u001b[0;32min\u001b[0m \u001b[0mglob\u001b[0m\u001b[0;34m.\u001b[0m\u001b[0mglob\u001b[0m\u001b[0;34m(\u001b[0m\u001b[0mpath\u001b[0m\u001b[0;34m+\u001b[0m\u001b[0;34m'/drive/My Drive/ucmerced/UCMerced_LandUse/Images/'\u001b[0m\u001b[0;34m+\u001b[0m\u001b[0mi\u001b[0m\u001b[0;34m+\u001b[0m\u001b[0;34m'/*.tif'\u001b[0m\u001b[0;34m)\u001b[0m\u001b[0;34m:\u001b[0m\u001b[0;34m\u001b[0m\u001b[0;34m\u001b[0m\u001b[0m\n",
            "\u001b[0;31mNameError\u001b[0m: name 'dirs' is not defined"
          ]
        }
      ]
    },
    {
      "cell_type": "code",
      "metadata": {
        "id": "oG7qmeKOQ0K6",
        "colab_type": "code",
        "colab": {}
      },
      "source": [
        "from skimage import feature\n",
        "import numpy as np\n",
        " \n",
        "class LocalBinaryPatterns:\n",
        "  def __init__(self, numPoints, radius):\n",
        "# store the number of points and radius\n",
        "    self.numPoints = numPoints\n",
        "    self.radius = radius\n",
        "  def describe(self, image, eps=1e-7):\n",
        "\t\t# compute the Local Binary Pattern representation\n",
        "\t\t# of the image, and then use the LBP representation\n",
        "\t\t# to build the histogram of patterns\n",
        "    lbp = feature.local_binary_pattern(image, self.numPoints,\n",
        "    self.radius, method=\"uniform\")\n",
        "    return lbp "
      ],
      "execution_count": 0,
      "outputs": []
    },
    {
      "cell_type": "code",
      "metadata": {
        "id": "dZPEV_5y7moq",
        "colab_type": "code",
        "colab": {}
      },
      "source": [
        "desc = LocalBinaryPatterns(24, 8)"
      ],
      "execution_count": 0,
      "outputs": []
    },
    {
      "cell_type": "code",
      "metadata": {
        "id": "Hu-6Sp1p7pmc",
        "colab_type": "code",
        "colab": {}
      },
      "source": [
        ""
      ],
      "execution_count": 0,
      "outputs": []
    },
    {
      "cell_type": "code",
      "metadata": {
        "id": "LTmBzCghOO8F",
        "colab_type": "code",
        "colab": {}
      },
      "source": [
        "x_trainbck=x_train\n",
        "x_testbck=x_test\n"
      ],
      "execution_count": 0,
      "outputs": []
    },
    {
      "cell_type": "code",
      "metadata": {
        "id": "q5f6NqZkVebf",
        "colab_type": "code",
        "colab": {}
      },
      "source": [
        "x_train=np.array(x_train)\n",
        "x_test=np.array(x_test)"
      ],
      "execution_count": 0,
      "outputs": []
    },
    {
      "cell_type": "code",
      "metadata": {
        "id": "0LFYk6AVOaDn",
        "colab_type": "code",
        "colab": {}
      },
      "source": [
        "x_train = x_train.reshape(x_train.shape[0], img_rows, img_cols, 3)\n",
        "x_test = x_test.reshape(x_test.shape[0], img_rows, img_cols, 3)\n",
        "\n",
        "input_shape = (img_rows, img_cols, 3)\n",
        "\n",
        "x_train = x_train.astype('float32')\n",
        "x_test = x_test.astype('float32')\n",
        "x_train /= 255\n",
        "x_test /= 255\n",
        "y_train = keras.utils.to_categorical(y_train, 21)\n",
        "y_test = keras.utils.to_categorical(y_test, 21)"
      ],
      "execution_count": 0,
      "outputs": []
    },
    {
      "cell_type": "code",
      "metadata": {
        "id": "wKielptX75qc",
        "colab_type": "code",
        "colab": {}
      },
      "source": [
        "x_train_lbp=[]\n"
      ],
      "execution_count": 0,
      "outputs": []
    },
    {
      "cell_type": "code",
      "metadata": {
        "id": "eTFxGEf67054",
        "colab_type": "code",
        "colab": {}
      },
      "source": [
        "for i in x_train:\n",
        "  gray = cv2.cvtColor(i, cv2.COLOR_BGR2GRAY)\n",
        "  hist = desc.describe(gray)\n",
        "  x_train_lbp.append(hist)"
      ],
      "execution_count": 0,
      "outputs": []
    },
    {
      "cell_type": "code",
      "metadata": {
        "id": "ysvzWJdN9FQF",
        "colab_type": "code",
        "colab": {}
      },
      "source": [
        "x_train_lbp=np.array(x_train_lbp)"
      ],
      "execution_count": 0,
      "outputs": []
    },
    {
      "cell_type": "code",
      "metadata": {
        "id": "AxdUV_ay9Nf5",
        "colab_type": "code",
        "outputId": "2e65ed39-919e-4178-e10f-e3384749433c",
        "colab": {
          "base_uri": "https://localhost:8080/",
          "height": 34
        }
      },
      "source": [
        "x_train_lbp.shape"
      ],
      "execution_count": 0,
      "outputs": [
        {
          "output_type": "execute_result",
          "data": {
            "text/plain": [
              "(1785, 256, 256)"
            ]
          },
          "metadata": {
            "tags": []
          },
          "execution_count": 18
        }
      ]
    },
    {
      "cell_type": "code",
      "metadata": {
        "id": "_ngUuDaV9ZHR",
        "colab_type": "code",
        "colab": {}
      },
      "source": [
        "x_test_lbp=[]"
      ],
      "execution_count": 0,
      "outputs": []
    },
    {
      "cell_type": "code",
      "metadata": {
        "id": "j-L3uaS49Ujz",
        "colab_type": "code",
        "colab": {}
      },
      "source": [
        "for i in x_test:\n",
        "  gray = cv2.cvtColor(i, cv2.COLOR_BGR2GRAY)\n",
        "  hist = desc.describe(gray)\n",
        "  x_test_lbp.append(hist)"
      ],
      "execution_count": 0,
      "outputs": []
    },
    {
      "cell_type": "code",
      "metadata": {
        "id": "NMUtHgcL9c2p",
        "colab_type": "code",
        "colab": {}
      },
      "source": [
        "x_test_lbp=np.array(x_test_lbp)"
      ],
      "execution_count": 0,
      "outputs": []
    },
    {
      "cell_type": "code",
      "metadata": {
        "id": "fI8VXbVS9gsv",
        "colab_type": "code",
        "outputId": "69eb1ded-11f5-4f79-b1bb-84b5d1851021",
        "colab": {
          "base_uri": "https://localhost:8080/",
          "height": 34
        }
      },
      "source": [
        "x_test_lbp.shape"
      ],
      "execution_count": 0,
      "outputs": [
        {
          "output_type": "execute_result",
          "data": {
            "text/plain": [
              "(105, 256, 256)"
            ]
          },
          "metadata": {
            "tags": []
          },
          "execution_count": 22
        }
      ]
    },
    {
      "cell_type": "code",
      "metadata": {
        "id": "tJTwNwoZ9ji9",
        "colab_type": "code",
        "colab": {}
      },
      "source": [
        "import tensorflow as tf\n",
        "from tensorflow.keras.datasets import cifar10\n",
        "from tensorflow.keras.preprocessing.image import ImageDataGenerator\n",
        "from tensorflow.keras.models import Sequential\n",
        "from tensorflow.keras.layers import Dense, Dropout, Activation, Flatten\n",
        "from tensorflow.keras.layers import Conv2D, MaxPooling2D"
      ],
      "execution_count": 0,
      "outputs": []
    },
    {
      "cell_type": "code",
      "metadata": {
        "id": "Hlu1ZInc9myw",
        "colab_type": "code",
        "colab": {}
      },
      "source": [
        "x_train_lbp = x_train_lbp.reshape(x_train_lbp.shape[0], img_rows, img_cols,1)\n",
        "x_test_lbp = x_test_lbp.reshape(x_test_lbp.shape[0], img_rows, img_cols,1)\n",
        "\n",
        "input_shape = (img_rows, img_cols,1)"
      ],
      "execution_count": 0,
      "outputs": []
    },
    {
      "cell_type": "code",
      "metadata": {
        "id": "XkVmVoPcOvjC",
        "colab_type": "code",
        "outputId": "cbd7baf3-2777-470e-aede-49bfefb6bd2f",
        "colab": {
          "base_uri": "https://localhost:8080/",
          "height": 88
        }
      },
      "source": [
        "model = Sequential()\n",
        "model.add(Conv2D(32, kernel_size=(3, 3),activation='relu',input_shape=x_train_lbp.shape[1:]))\n",
        "model.add(MaxPooling2D(pool_size=(2,2)))\n",
        "model.add(Conv2D(32, (3, 3), activation='relu'))\n",
        "model.add(MaxPooling2D(pool_size=(2,2)))\n",
        "model.add(Dropout(0.25))\n",
        "model.add(Flatten())\n",
        "model.add(Dense(128, activation='relu'))\n",
        "model.add(Dropout(0.5))\n",
        "model.add(Dense(21, activation='softmax'))\n",
        "model.compile(loss='categorical_crossentropy',\n",
        "            optimizer='adam',\n",
        "            metrics=['accuracy'])"
      ],
      "execution_count": 0,
      "outputs": [
        {
          "output_type": "stream",
          "text": [
            "WARNING:tensorflow:From /usr/local/lib/python3.6/dist-packages/tensorflow_core/python/ops/resource_variable_ops.py:1630: calling BaseResourceVariable.__init__ (from tensorflow.python.ops.resource_variable_ops) with constraint is deprecated and will be removed in a future version.\n",
            "Instructions for updating:\n",
            "If using Keras pass *_constraint arguments to layers.\n"
          ],
          "name": "stdout"
        }
      ]
    },
    {
      "cell_type": "code",
      "metadata": {
        "id": "MOYibkOFO1Ut",
        "colab_type": "code",
        "outputId": "c8b236fd-d697-4547-d5c2-167f6b4c8d88",
        "colab": {
          "base_uri": "https://localhost:8080/",
          "height": 1000
        }
      },
      "source": [
        "model.fit(x_train_lbp, y_train, batch_size=50, nb_epoch=100, verbose=1, validation_data=(x_test_lbp, y_test))"
      ],
      "execution_count": 0,
      "outputs": [
        {
          "output_type": "stream",
          "text": [
            "WARNING:tensorflow:The `nb_epoch` argument in `fit` has been renamed `epochs`.\n",
            "Train on 1785 samples, validate on 105 samples\n",
            "Epoch 1/100\n",
            "1785/1785 [==============================] - 9s 5ms/sample - loss: 37.6961 - acc: 0.0431 - val_loss: 3.0426 - val_acc: 0.0190\n",
            "Epoch 2/100\n",
            "1785/1785 [==============================] - 5s 3ms/sample - loss: 3.0380 - acc: 0.0594 - val_loss: 3.0417 - val_acc: 0.0286\n",
            "Epoch 3/100\n",
            "1785/1785 [==============================] - 5s 3ms/sample - loss: 2.9356 - acc: 0.1014 - val_loss: 2.9330 - val_acc: 0.0762\n",
            "Epoch 4/100\n",
            "1785/1785 [==============================] - 5s 3ms/sample - loss: 2.4167 - acc: 0.2891 - val_loss: 2.9826 - val_acc: 0.1143\n",
            "Epoch 5/100\n",
            "1785/1785 [==============================] - 5s 3ms/sample - loss: 1.7640 - acc: 0.4924 - val_loss: 3.2176 - val_acc: 0.1238\n",
            "Epoch 6/100\n",
            "1785/1785 [==============================] - 5s 3ms/sample - loss: 1.1651 - acc: 0.6717 - val_loss: 3.8491 - val_acc: 0.1143\n",
            "Epoch 7/100\n",
            "1785/1785 [==============================] - 5s 3ms/sample - loss: 0.8270 - acc: 0.7810 - val_loss: 3.4904 - val_acc: 0.1238\n",
            "Epoch 8/100\n",
            "1785/1785 [==============================] - 5s 3ms/sample - loss: 0.6325 - acc: 0.8437 - val_loss: 4.1291 - val_acc: 0.1524\n",
            "Epoch 9/100\n",
            "1785/1785 [==============================] - 5s 3ms/sample - loss: 0.4052 - acc: 0.8969 - val_loss: 4.0791 - val_acc: 0.1714\n",
            "Epoch 10/100\n",
            "1785/1785 [==============================] - 5s 3ms/sample - loss: 0.3001 - acc: 0.9188 - val_loss: 4.8759 - val_acc: 0.1714\n",
            "Epoch 11/100\n",
            "1785/1785 [==============================] - 5s 3ms/sample - loss: 0.2875 - acc: 0.9283 - val_loss: 4.1612 - val_acc: 0.1333\n",
            "Epoch 12/100\n",
            "1785/1785 [==============================] - 5s 3ms/sample - loss: 0.2318 - acc: 0.9311 - val_loss: 5.2707 - val_acc: 0.1619\n",
            "Epoch 13/100\n",
            "1785/1785 [==============================] - 5s 3ms/sample - loss: 0.2117 - acc: 0.9457 - val_loss: 4.3908 - val_acc: 0.1333\n",
            "Epoch 14/100\n",
            "1785/1785 [==============================] - 5s 3ms/sample - loss: 0.1682 - acc: 0.9513 - val_loss: 4.8144 - val_acc: 0.1333\n",
            "Epoch 15/100\n",
            "1785/1785 [==============================] - 5s 3ms/sample - loss: 0.1931 - acc: 0.9479 - val_loss: 4.3151 - val_acc: 0.1333\n",
            "Epoch 16/100\n",
            "1785/1785 [==============================] - 5s 3ms/sample - loss: 0.1347 - acc: 0.9608 - val_loss: 4.6015 - val_acc: 0.1524\n",
            "Epoch 17/100\n",
            "1785/1785 [==============================] - 5s 3ms/sample - loss: 0.1375 - acc: 0.9664 - val_loss: 4.3743 - val_acc: 0.1238\n",
            "Epoch 18/100\n",
            "1785/1785 [==============================] - 5s 3ms/sample - loss: 0.1148 - acc: 0.9709 - val_loss: 4.9704 - val_acc: 0.1524\n",
            "Epoch 19/100\n",
            "1785/1785 [==============================] - 5s 3ms/sample - loss: 0.1125 - acc: 0.9664 - val_loss: 5.1527 - val_acc: 0.0952\n",
            "Epoch 20/100\n",
            "1785/1785 [==============================] - 5s 3ms/sample - loss: 0.1071 - acc: 0.9720 - val_loss: 4.4696 - val_acc: 0.1429\n",
            "Epoch 21/100\n",
            "1785/1785 [==============================] - 5s 3ms/sample - loss: 0.0786 - acc: 0.9765 - val_loss: 5.0568 - val_acc: 0.1333\n",
            "Epoch 22/100\n",
            "1785/1785 [==============================] - 5s 3ms/sample - loss: 0.0964 - acc: 0.9714 - val_loss: 5.3102 - val_acc: 0.1143\n",
            "Epoch 23/100\n",
            "1785/1785 [==============================] - 5s 3ms/sample - loss: 0.0804 - acc: 0.9782 - val_loss: 5.8705 - val_acc: 0.1143\n",
            "Epoch 24/100\n",
            "1785/1785 [==============================] - 5s 3ms/sample - loss: 0.0803 - acc: 0.9787 - val_loss: 5.2877 - val_acc: 0.1333\n",
            "Epoch 25/100\n",
            "1785/1785 [==============================] - 5s 3ms/sample - loss: 0.0714 - acc: 0.9793 - val_loss: 5.0297 - val_acc: 0.1524\n",
            "Epoch 26/100\n",
            "1785/1785 [==============================] - 5s 3ms/sample - loss: 0.0845 - acc: 0.9731 - val_loss: 5.0320 - val_acc: 0.1619\n",
            "Epoch 27/100\n",
            "1785/1785 [==============================] - 5s 3ms/sample - loss: 0.0569 - acc: 0.9860 - val_loss: 5.1113 - val_acc: 0.1429\n",
            "Epoch 28/100\n",
            "1785/1785 [==============================] - 5s 3ms/sample - loss: 0.0672 - acc: 0.9838 - val_loss: 5.0982 - val_acc: 0.1429\n",
            "Epoch 29/100\n",
            "1785/1785 [==============================] - 5s 3ms/sample - loss: 0.0758 - acc: 0.9821 - val_loss: 5.5195 - val_acc: 0.1238\n",
            "Epoch 30/100\n",
            "1785/1785 [==============================] - 5s 3ms/sample - loss: 0.0737 - acc: 0.9793 - val_loss: 5.7877 - val_acc: 0.0952\n",
            "Epoch 31/100\n",
            "1785/1785 [==============================] - 5s 3ms/sample - loss: 0.0843 - acc: 0.9804 - val_loss: 6.1314 - val_acc: 0.1143\n",
            "Epoch 32/100\n",
            "1785/1785 [==============================] - 5s 3ms/sample - loss: 0.0605 - acc: 0.9826 - val_loss: 5.3406 - val_acc: 0.1333\n",
            "Epoch 33/100\n",
            "1785/1785 [==============================] - 5s 3ms/sample - loss: 0.0714 - acc: 0.9804 - val_loss: 5.6147 - val_acc: 0.1619\n",
            "Epoch 34/100\n",
            "1785/1785 [==============================] - 5s 3ms/sample - loss: 0.0539 - acc: 0.9866 - val_loss: 4.7314 - val_acc: 0.1524\n",
            "Epoch 35/100\n",
            "1785/1785 [==============================] - 5s 3ms/sample - loss: 0.0358 - acc: 0.9894 - val_loss: 6.3573 - val_acc: 0.1524\n",
            "Epoch 36/100\n",
            "1785/1785 [==============================] - 5s 3ms/sample - loss: 0.0428 - acc: 0.9922 - val_loss: 5.9238 - val_acc: 0.1429\n",
            "Epoch 37/100\n",
            "1785/1785 [==============================] - 5s 3ms/sample - loss: 0.0563 - acc: 0.9860 - val_loss: 5.3896 - val_acc: 0.1333\n",
            "Epoch 38/100\n",
            "1785/1785 [==============================] - 5s 3ms/sample - loss: 0.0479 - acc: 0.9866 - val_loss: 5.7421 - val_acc: 0.1429\n",
            "Epoch 39/100\n",
            "1785/1785 [==============================] - 5s 3ms/sample - loss: 0.0663 - acc: 0.9826 - val_loss: 5.9907 - val_acc: 0.1429\n",
            "Epoch 40/100\n",
            "1785/1785 [==============================] - 5s 3ms/sample - loss: 0.0527 - acc: 0.9849 - val_loss: 5.1249 - val_acc: 0.1238\n",
            "Epoch 41/100\n",
            "1785/1785 [==============================] - 5s 3ms/sample - loss: 0.0613 - acc: 0.9843 - val_loss: 5.4908 - val_acc: 0.1905\n",
            "Epoch 42/100\n",
            "1785/1785 [==============================] - 5s 3ms/sample - loss: 0.0575 - acc: 0.9860 - val_loss: 5.4285 - val_acc: 0.1333\n",
            "Epoch 43/100\n",
            "1785/1785 [==============================] - 5s 3ms/sample - loss: 0.0747 - acc: 0.9838 - val_loss: 5.2210 - val_acc: 0.1238\n",
            "Epoch 44/100\n",
            "1785/1785 [==============================] - 5s 3ms/sample - loss: 0.0433 - acc: 0.9882 - val_loss: 5.7099 - val_acc: 0.1429\n",
            "Epoch 45/100\n",
            "1785/1785 [==============================] - 5s 3ms/sample - loss: 0.0402 - acc: 0.9877 - val_loss: 5.5485 - val_acc: 0.1810\n",
            "Epoch 46/100\n",
            "1785/1785 [==============================] - 5s 3ms/sample - loss: 0.0441 - acc: 0.9866 - val_loss: 6.8688 - val_acc: 0.1429\n",
            "Epoch 47/100\n",
            "1785/1785 [==============================] - 5s 3ms/sample - loss: 0.0530 - acc: 0.9815 - val_loss: 5.4591 - val_acc: 0.1143\n",
            "Epoch 48/100\n",
            "1785/1785 [==============================] - 5s 3ms/sample - loss: 0.0504 - acc: 0.9866 - val_loss: 5.3231 - val_acc: 0.1429\n",
            "Epoch 49/100\n",
            "1785/1785 [==============================] - 5s 3ms/sample - loss: 0.0422 - acc: 0.9860 - val_loss: 5.4090 - val_acc: 0.1429\n",
            "Epoch 50/100\n",
            "1785/1785 [==============================] - 5s 3ms/sample - loss: 0.0483 - acc: 0.9877 - val_loss: 5.3661 - val_acc: 0.1524\n",
            "Epoch 51/100\n",
            "1785/1785 [==============================] - 5s 3ms/sample - loss: 0.0487 - acc: 0.9866 - val_loss: 5.2022 - val_acc: 0.1714\n",
            "Epoch 52/100\n",
            "1785/1785 [==============================] - 5s 3ms/sample - loss: 0.0410 - acc: 0.9877 - val_loss: 6.8323 - val_acc: 0.0952\n",
            "Epoch 53/100\n",
            "1785/1785 [==============================] - 5s 3ms/sample - loss: 0.0375 - acc: 0.9877 - val_loss: 6.1598 - val_acc: 0.1143\n",
            "Epoch 54/100\n",
            "1785/1785 [==============================] - 5s 3ms/sample - loss: 0.0362 - acc: 0.9922 - val_loss: 6.9079 - val_acc: 0.1333\n",
            "Epoch 55/100\n",
            "1785/1785 [==============================] - 5s 3ms/sample - loss: 0.0587 - acc: 0.9877 - val_loss: 5.9382 - val_acc: 0.1048\n",
            "Epoch 56/100\n",
            "1785/1785 [==============================] - 5s 3ms/sample - loss: 0.0393 - acc: 0.9877 - val_loss: 6.2531 - val_acc: 0.1333\n",
            "Epoch 57/100\n",
            "1785/1785 [==============================] - 5s 3ms/sample - loss: 0.0421 - acc: 0.9894 - val_loss: 6.1134 - val_acc: 0.1524\n",
            "Epoch 58/100\n",
            "1785/1785 [==============================] - 5s 3ms/sample - loss: 0.0551 - acc: 0.9854 - val_loss: 5.6320 - val_acc: 0.1524\n",
            "Epoch 59/100\n",
            "1785/1785 [==============================] - 5s 3ms/sample - loss: 0.0483 - acc: 0.9866 - val_loss: 5.3409 - val_acc: 0.1524\n",
            "Epoch 60/100\n",
            "1785/1785 [==============================] - 5s 3ms/sample - loss: 0.0443 - acc: 0.9854 - val_loss: 5.4086 - val_acc: 0.1238\n",
            "Epoch 61/100\n",
            "1785/1785 [==============================] - 5s 3ms/sample - loss: 0.0466 - acc: 0.9849 - val_loss: 6.5120 - val_acc: 0.1333\n",
            "Epoch 62/100\n",
            "1785/1785 [==============================] - 5s 3ms/sample - loss: 0.0619 - acc: 0.9877 - val_loss: 6.2562 - val_acc: 0.1333\n",
            "Epoch 63/100\n",
            "1785/1785 [==============================] - 5s 3ms/sample - loss: 0.0514 - acc: 0.9888 - val_loss: 6.3781 - val_acc: 0.1143\n",
            "Epoch 64/100\n",
            "1785/1785 [==============================] - 5s 3ms/sample - loss: 0.0579 - acc: 0.9899 - val_loss: 7.0492 - val_acc: 0.1143\n",
            "Epoch 65/100\n",
            "1785/1785 [==============================] - 5s 3ms/sample - loss: 0.0494 - acc: 0.9860 - val_loss: 5.8983 - val_acc: 0.1333\n",
            "Epoch 66/100\n",
            "1785/1785 [==============================] - 5s 3ms/sample - loss: 0.0462 - acc: 0.9866 - val_loss: 6.4940 - val_acc: 0.1143\n",
            "Epoch 67/100\n",
            "1785/1785 [==============================] - 5s 3ms/sample - loss: 0.0366 - acc: 0.9905 - val_loss: 7.2899 - val_acc: 0.1429\n",
            "Epoch 68/100\n",
            "1785/1785 [==============================] - 5s 3ms/sample - loss: 0.0574 - acc: 0.9877 - val_loss: 6.0887 - val_acc: 0.1429\n",
            "Epoch 69/100\n",
            "1785/1785 [==============================] - 5s 3ms/sample - loss: 0.0367 - acc: 0.9894 - val_loss: 6.9470 - val_acc: 0.1333\n",
            "Epoch 70/100\n",
            "1785/1785 [==============================] - 5s 3ms/sample - loss: 0.0371 - acc: 0.9882 - val_loss: 5.5014 - val_acc: 0.1524\n",
            "Epoch 71/100\n",
            "1785/1785 [==============================] - 5s 3ms/sample - loss: 0.0371 - acc: 0.9905 - val_loss: 5.4365 - val_acc: 0.1238\n",
            "Epoch 72/100\n",
            "1785/1785 [==============================] - 5s 3ms/sample - loss: 0.0404 - acc: 0.9882 - val_loss: 7.2911 - val_acc: 0.1429\n",
            "Epoch 73/100\n",
            "1785/1785 [==============================] - 5s 3ms/sample - loss: 0.0262 - acc: 0.9910 - val_loss: 5.0787 - val_acc: 0.1143\n",
            "Epoch 74/100\n",
            "1785/1785 [==============================] - 5s 3ms/sample - loss: 0.0279 - acc: 0.9905 - val_loss: 7.4513 - val_acc: 0.1333\n",
            "Epoch 75/100\n",
            "1785/1785 [==============================] - 5s 3ms/sample - loss: 0.0472 - acc: 0.9910 - val_loss: 6.7657 - val_acc: 0.1143\n",
            "Epoch 76/100\n",
            "1785/1785 [==============================] - 5s 3ms/sample - loss: 0.0331 - acc: 0.9882 - val_loss: 6.2182 - val_acc: 0.1143\n",
            "Epoch 77/100\n",
            "1785/1785 [==============================] - 5s 3ms/sample - loss: 0.0324 - acc: 0.9916 - val_loss: 7.3668 - val_acc: 0.1238\n",
            "Epoch 78/100\n",
            "1785/1785 [==============================] - 5s 3ms/sample - loss: 0.0544 - acc: 0.9877 - val_loss: 7.7713 - val_acc: 0.0952\n",
            "Epoch 79/100\n",
            "1785/1785 [==============================] - 5s 3ms/sample - loss: 0.0975 - acc: 0.9787 - val_loss: 7.8980 - val_acc: 0.1048\n",
            "Epoch 80/100\n",
            "1785/1785 [==============================] - 5s 3ms/sample - loss: 0.0318 - acc: 0.9922 - val_loss: 7.8574 - val_acc: 0.1048\n",
            "Epoch 81/100\n",
            "1785/1785 [==============================] - 5s 3ms/sample - loss: 0.0394 - acc: 0.9894 - val_loss: 7.5324 - val_acc: 0.1143\n",
            "Epoch 82/100\n",
            "1785/1785 [==============================] - 5s 3ms/sample - loss: 0.0514 - acc: 0.9888 - val_loss: 7.6727 - val_acc: 0.1238\n",
            "Epoch 83/100\n",
            "1785/1785 [==============================] - 5s 3ms/sample - loss: 0.0519 - acc: 0.9910 - val_loss: 7.0775 - val_acc: 0.1238\n",
            "Epoch 84/100\n",
            "1785/1785 [==============================] - 5s 3ms/sample - loss: 0.0432 - acc: 0.9899 - val_loss: 7.4142 - val_acc: 0.1333\n",
            "Epoch 85/100\n",
            "1785/1785 [==============================] - 5s 3ms/sample - loss: 0.0345 - acc: 0.9899 - val_loss: 6.8111 - val_acc: 0.1143\n",
            "Epoch 86/100\n",
            "1785/1785 [==============================] - 5s 3ms/sample - loss: 0.0262 - acc: 0.9933 - val_loss: 7.0354 - val_acc: 0.1238\n",
            "Epoch 87/100\n",
            "1785/1785 [==============================] - 5s 3ms/sample - loss: 0.0368 - acc: 0.9910 - val_loss: 7.2479 - val_acc: 0.1238\n",
            "Epoch 88/100\n",
            "1785/1785 [==============================] - 5s 3ms/sample - loss: 0.0286 - acc: 0.9938 - val_loss: 6.6376 - val_acc: 0.1333\n",
            "Epoch 89/100\n",
            "1785/1785 [==============================] - 5s 3ms/sample - loss: 0.0297 - acc: 0.9927 - val_loss: 7.6875 - val_acc: 0.1429\n",
            "Epoch 90/100\n",
            "1785/1785 [==============================] - 5s 3ms/sample - loss: 0.0191 - acc: 0.9950 - val_loss: 8.3926 - val_acc: 0.1619\n",
            "Epoch 91/100\n",
            "1785/1785 [==============================] - 5s 3ms/sample - loss: 0.0180 - acc: 0.9955 - val_loss: 7.5942 - val_acc: 0.1238\n",
            "Epoch 92/100\n",
            "1785/1785 [==============================] - 5s 3ms/sample - loss: 0.0380 - acc: 0.9894 - val_loss: 7.7426 - val_acc: 0.1429\n",
            "Epoch 93/100\n",
            "1785/1785 [==============================] - 5s 3ms/sample - loss: 0.0268 - acc: 0.9944 - val_loss: 8.7519 - val_acc: 0.1143\n",
            "Epoch 94/100\n",
            "1785/1785 [==============================] - 5s 3ms/sample - loss: 0.0409 - acc: 0.9877 - val_loss: 8.5367 - val_acc: 0.1048\n",
            "Epoch 95/100\n",
            "1785/1785 [==============================] - 5s 3ms/sample - loss: 0.0249 - acc: 0.9916 - val_loss: 6.4362 - val_acc: 0.1048\n",
            "Epoch 96/100\n",
            "1785/1785 [==============================] - 5s 3ms/sample - loss: 0.0443 - acc: 0.9899 - val_loss: 7.7791 - val_acc: 0.1048\n",
            "Epoch 97/100\n",
            "1785/1785 [==============================] - 5s 3ms/sample - loss: 0.0432 - acc: 0.9854 - val_loss: 7.6768 - val_acc: 0.1143\n",
            "Epoch 98/100\n",
            "1785/1785 [==============================] - 5s 3ms/sample - loss: 0.0519 - acc: 0.9871 - val_loss: 6.1888 - val_acc: 0.1143\n",
            "Epoch 99/100\n",
            "1785/1785 [==============================] - 5s 3ms/sample - loss: 0.0186 - acc: 0.9916 - val_loss: 8.7481 - val_acc: 0.1143\n",
            "Epoch 100/100\n",
            "1785/1785 [==============================] - 5s 3ms/sample - loss: 0.0261 - acc: 0.9927 - val_loss: 6.8931 - val_acc: 0.1048\n"
          ],
          "name": "stdout"
        },
        {
          "output_type": "execute_result",
          "data": {
            "text/plain": [
              "<tensorflow.python.keras.callbacks.History at 0x7fee5cd7e860>"
            ]
          },
          "metadata": {
            "tags": []
          },
          "execution_count": 26
        }
      ]
    },
    {
      "cell_type": "code",
      "metadata": {
        "id": "HJDw_oS3YNZ7",
        "colab_type": "code",
        "outputId": "01aae683-6e82-41bc-fab0-548679990f5e",
        "colab": {
          "base_uri": "https://localhost:8080/",
          "height": 68
        }
      },
      "source": [
        "loss, acc = model.evaluate(x_test, y_test, verbose=0)\n",
        "print('\\nTesting loss: {}, acc: {}\\n'.format(loss, acc))"
      ],
      "execution_count": 0,
      "outputs": [
        {
          "output_type": "stream",
          "text": [
            "\n",
            "Testing loss: 3.565957782382057, acc: 0.47619047846112933\n",
            "\n"
          ],
          "name": "stdout"
        }
      ]
    },
    {
      "cell_type": "code",
      "metadata": {
        "id": "H4Wp4lVO13fU",
        "colab_type": "code",
        "colab": {}
      },
      "source": [
        "DATADIR = '/content/drive/My Drive/ucmerced/UCMerced_LandUse/Images/'\n",
        "\n",
        "CATEGORIES = [ 'agricultural',  'airplane',    'baseballdiamond', 'beach',   'buildings',          'chaparral',         'denseresidential',\n",
        "                'forest',        'freeway',     'golfcourse',      'harbor',  'intersection',       'mediumresidential', 'mobilehomepark',\n",
        "                'overpass',      'parkinglot',  'river',           'runway',  'sparseresidential',  'storagetanks',      'tenniscourt' ]\n"
      ],
      "execution_count": 0,
      "outputs": []
    },
    {
      "cell_type": "code",
      "metadata": {
        "id": "FaMcFz1N15yn",
        "colab_type": "code",
        "colab": {}
      },
      "source": [
        ""
      ],
      "execution_count": 0,
      "outputs": []
    }
  ]
}