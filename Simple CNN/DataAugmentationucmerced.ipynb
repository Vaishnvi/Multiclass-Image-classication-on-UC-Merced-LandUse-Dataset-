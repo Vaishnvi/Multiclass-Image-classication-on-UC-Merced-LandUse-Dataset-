{
  "nbformat": 4,
  "nbformat_minor": 0,
  "metadata": {
    "colab": {
      "name": "DataAugmentationucmerced.ipynb",
      "provenance": []
    },
    "kernelspec": {
      "name": "python3",
      "display_name": "Python 3"
    },
    "accelerator": "GPU"
  },
  "cells": [
    {
      "cell_type": "code",
      "metadata": {
        "id": "X7vRPylf90vI",
        "colab_type": "code",
        "colab": {}
      },
      "source": [
        "import numpy as np\n",
        "import matplotlib.pyplot as plt\n",
        "import os\n",
        "import cv2\n",
        "from tqdm import tqdm\n",
        "\n",
        "\n",
        "  # graph it\n",
        "        "
      ],
      "execution_count": 0,
      "outputs": []
    },
    {
      "cell_type": "code",
      "metadata": {
        "id": "JcwFxGbG-83w",
        "colab_type": "code",
        "colab": {
          "base_uri": "https://localhost:8080/",
          "height": 122
        },
        "outputId": "d45ec536-0588-4dc2-fcff-ffca8b697d9d"
      },
      "source": [
        "from google.colab import drive\n",
        "drive.mount('/content/drive')"
      ],
      "execution_count": 2,
      "outputs": [
        {
          "output_type": "stream",
          "text": [
            "Go to this URL in a browser: https://accounts.google.com/o/oauth2/auth?client_id=947318989803-6bn6qk8qdgf4n4g3pfee6491hc0brc4i.apps.googleusercontent.com&redirect_uri=urn%3Aietf%3Awg%3Aoauth%3A2.0%3Aoob&scope=email%20https%3A%2F%2Fwww.googleapis.com%2Fauth%2Fdocs.test%20https%3A%2F%2Fwww.googleapis.com%2Fauth%2Fdrive%20https%3A%2F%2Fwww.googleapis.com%2Fauth%2Fdrive.photos.readonly%20https%3A%2F%2Fwww.googleapis.com%2Fauth%2Fpeopleapi.readonly&response_type=code\n",
            "\n",
            "Enter your authorization code:\n",
            "··········\n",
            "Mounted at /content/drive\n"
          ],
          "name": "stdout"
        }
      ]
    },
    {
      "cell_type": "code",
      "metadata": {
        "id": "8zexu4pN_DRV",
        "colab_type": "code",
        "colab": {
          "base_uri": "https://localhost:8080/",
          "height": 80
        },
        "outputId": "f51b1f7a-4616-4135-de84-b760c0cbb22f"
      },
      "source": [
        "from PIL import Image #import Python Image Library\n",
        "import numpy as np\n",
        "import os\n",
        "import glob\n",
        "import re\n",
        "import keras\n",
        "from keras.models import Sequential\n",
        "from keras.layers import Dense, Dropout, Activation, Flatten\n",
        "from keras.layers import Conv2D, MaxPooling2D\n",
        "from keras.utils import np_utils\n",
        "from keras import backend as K"
      ],
      "execution_count": 3,
      "outputs": [
        {
          "output_type": "stream",
          "text": [
            "Using TensorFlow backend.\n"
          ],
          "name": "stderr"
        },
        {
          "output_type": "display_data",
          "data": {
            "text/html": [
              "<p style=\"color: red;\">\n",
              "The default version of TensorFlow in Colab will soon switch to TensorFlow 2.x.<br>\n",
              "We recommend you <a href=\"https://www.tensorflow.org/guide/migrate\" target=\"_blank\">upgrade</a> now \n",
              "or ensure your notebook will continue to use TensorFlow 1.x via the <code>%tensorflow_version 1.x</code> magic:\n",
              "<a href=\"https://colab.research.google.com/notebooks/tensorflow_version.ipynb\" target=\"_blank\">more info</a>.</p>\n"
            ],
            "text/plain": [
              "<IPython.core.display.HTML object>"
            ]
          },
          "metadata": {
            "tags": []
          }
        }
      ]
    },
    {
      "cell_type": "code",
      "metadata": {
        "id": "8uK5SlfG_N_Z",
        "colab_type": "code",
        "colab": {}
      },
      "source": [
        "path = os.path.abspath('.cnn.py')"
      ],
      "execution_count": 0,
      "outputs": []
    },
    {
      "cell_type": "code",
      "metadata": {
        "id": "umOHD0T-_TLO",
        "colab_type": "code",
        "colab": {}
      },
      "source": [
        "path = re.sub('[a-zA-Z\\s._]+$', '', path) #remove unintended file"
      ],
      "execution_count": 0,
      "outputs": []
    },
    {
      "cell_type": "code",
      "metadata": {
        "id": "6Wr8NNwo_hIG",
        "colab_type": "code",
        "colab": {
          "base_uri": "https://localhost:8080/",
          "height": 34
        },
        "outputId": "fea939c8-696e-44ba-8e10-cd18764523e2"
      },
      "source": [
        "print(path)"
      ],
      "execution_count": 9,
      "outputs": [
        {
          "output_type": "stream",
          "text": [
            "/content/\n"
          ],
          "name": "stdout"
        }
      ]
    },
    {
      "cell_type": "code",
      "metadata": {
        "id": "inetReJU_HTt",
        "colab_type": "code",
        "colab": {}
      },
      "source": [
        "dirs = os.listdir(path+'/drive/My Drive/ucmerced/UCMerced_LandUse/Images/')"
      ],
      "execution_count": 0,
      "outputs": []
    },
    {
      "cell_type": "code",
      "metadata": {
        "id": "SUN8_EQ-_Mq9",
        "colab_type": "code",
        "colab": {
          "base_uri": "https://localhost:8080/",
          "height": 51
        },
        "outputId": "013af96b-2615-4e59-b455-6bb679ac4398"
      },
      "source": [
        "img_rows = 256\n",
        "img_cols = 256\n",
        "num_class = 21\n",
        "path = os.path.abspath('.cnn.py') #absolute path of program\n",
        "path = re.sub('[a-zA-Z\\s._]+$', '', path) #remove unintended file\n",
        "x_train = []\n",
        "y_train = []\n",
        "x_test = []\n",
        "y_test = []\n",
        "dirs = os.listdir(path+'/drive/My Drive/ucmerced/UCMerced_LandUse/Images/')\n",
        "dirs=dirs[:-1]\n",
        "print(len(dirs))\n",
        "'''\n",
        "\n",
        "'''"
      ],
      "execution_count": 11,
      "outputs": [
        {
          "output_type": "stream",
          "text": [
            "21\n"
          ],
          "name": "stdout"
        },
        {
          "output_type": "execute_result",
          "data": {
            "text/plain": [
              "'\\n\\n'"
            ]
          },
          "metadata": {
            "tags": []
          },
          "execution_count": 11
        }
      ]
    },
    {
      "cell_type": "code",
      "metadata": {
        "id": "5EnrZJWCABMn",
        "colab_type": "code",
        "colab": {}
      },
      "source": [
        "label = 0\n",
        "for i in dirs:\n",
        "\tn = 0\n",
        "\tcount = 0\n",
        "\tfor pic in glob.glob(path+'/drive/My Drive/ucmerced/UCMerced_LandUse/Images/'+i+'/*.tif'):\n",
        "\t\tim = Image.open(pic)\n",
        "\t\tim = np.array(im)\n",
        "\t\tif((im.shape[0]==256) and (im.shape[1] ==256) and count <90): #get only 90 data\n",
        "\t\t\tr = im[:,:,0]\n",
        "\t\t\tg = im[:,:,1]\n",
        "\t\t\tb = im[:,:,2]\n",
        "\t\t\tif(n<5): # 5 data in beginning set as test data\n",
        "\t\t\t\tx_test.append([r,g,b])\n",
        "\t\t\t\ty_test.append([label])\n",
        "\t\t\telse: #remaining data set as training data\n",
        "\t\t\t\tx_train.append([r,g,b])\n",
        "\t\t\t\ty_train.append([label])\n",
        "\t\t\tn = n + 1\n",
        "\t\t\tcount = count + 1\n",
        "\t\t#print(count)\n",
        "\tlabel = label + 1"
      ],
      "execution_count": 0,
      "outputs": []
    },
    {
      "cell_type": "code",
      "metadata": {
        "id": "Asc2DviaFHu5",
        "colab_type": "code",
        "colab": {}
      },
      "source": [
        "x_trainbck=x_train\n",
        "x_testbck=x_test\n"
      ],
      "execution_count": 0,
      "outputs": []
    },
    {
      "cell_type": "code",
      "metadata": {
        "id": "ZMbzX11VFIia",
        "colab_type": "code",
        "colab": {}
      },
      "source": [
        "x_train=np.array(x_train)\n",
        "x_test=np.array(x_test)"
      ],
      "execution_count": 0,
      "outputs": []
    },
    {
      "cell_type": "code",
      "metadata": {
        "id": "2CGlbRZ7FK8I",
        "colab_type": "code",
        "colab": {}
      },
      "source": [
        "x_train = x_train.reshape(x_train.shape[0], img_rows, img_cols, 3)\n",
        "x_test = x_test.reshape(x_test.shape[0], img_rows, img_cols, 3)\n",
        "\n",
        "input_shape = (img_rows, img_cols, 3)\n",
        "\n",
        "x_train = x_train.astype('float32')\n",
        "x_test = x_test.astype('float32')\n",
        "x_train /= 255\n",
        "x_test /= 255\n",
        "y_train = keras.utils.to_categorical(y_train, 21)\n",
        "y_test = keras.utils.to_categorical(y_test, 21)"
      ],
      "execution_count": 0,
      "outputs": []
    },
    {
      "cell_type": "code",
      "metadata": {
        "id": "Py5ETAK5LEqD",
        "colab_type": "code",
        "colab": {
          "base_uri": "https://localhost:8080/",
          "height": 122
        },
        "outputId": "7eb49e3c-76bf-4165-c776-16dd2b332898"
      },
      "source": [
        "!pip install  split_folders tqdm"
      ],
      "execution_count": 25,
      "outputs": [
        {
          "output_type": "stream",
          "text": [
            "Collecting split_folders\n",
            "  Downloading https://files.pythonhosted.org/packages/20/67/29dda743e6d23ac1ea3d16704d8bbb48d65faf3f1b1eaf53153b3da56c56/split_folders-0.3.1-py3-none-any.whl\n",
            "Requirement already satisfied: tqdm in /usr/local/lib/python3.6/dist-packages (4.28.1)\n",
            "Installing collected packages: split-folders\n",
            "Successfully installed split-folders-0.3.1\n"
          ],
          "name": "stdout"
        }
      ]
    },
    {
      "cell_type": "code",
      "metadata": {
        "id": "tDFkuAoXFNKO",
        "colab_type": "code",
        "colab": {
          "base_uri": "https://localhost:8080/",
          "height": 34
        },
        "outputId": "eec83e6b-0382-411b-cd33-27d6fc117a20"
      },
      "source": [
        "import split_folders\n",
        "split_folders.ratio(path+'/drive/My Drive/ucmerced/UCMerced_LandUse/Images/', output=path+'/drive/My Drive/ucmerced/UCMerced_LandUse/output/', seed=1337, ratio=(.8, .2))\n"
      ],
      "execution_count": 26,
      "outputs": [
        {
          "output_type": "stream",
          "text": [
            "Copying files: 2100 files [00:18, 129.26 files/s]\n"
          ],
          "name": "stderr"
        }
      ]
    },
    {
      "cell_type": "code",
      "metadata": {
        "id": "yNOxNb7JACYc",
        "colab_type": "code",
        "colab": {}
      },
      "source": [
        "from keras.models import Sequential\n",
        "from keras.layers import Conv2D, MaxPooling2D\n",
        "from keras.layers import Activation, Flatten, Dense, Dropout\n",
        "from keras.preprocessing.image import ImageDataGenerator\n",
        "import time\n",
        "IMG_SIZE =256 # Replace with the size of your images\n",
        "NB_CHANNELS =3 # 3 for RGB images or 1 for grayscale images\n",
        "BATCH_SIZE = 32# Typical values are 8, 16 or 32\n",
        "NB_TRAIN_IMG = 1680# Replace with the total number training images\n",
        "NB_VALID_IMG = 420# Replace with the total number validation images"
      ],
      "execution_count": 0,
      "outputs": []
    },
    {
      "cell_type": "code",
      "metadata": {
        "id": "B5Q7Tht_FZ_x",
        "colab_type": "code",
        "colab": {}
      },
      "source": [
        "model = Sequential()\n",
        "model.add(Conv2D(32, kernel_size=(3, 3),activation='relu',input_shape=(IMG_SIZE,IMG_SIZE,NB_CHANNELS),\n",
        "               data_format='channels_last'))\n",
        "model.add(MaxPooling2D(pool_size=(2,2)))\n",
        "model.add(Conv2D(32, (3, 3), activation='relu'))\n",
        "model.add(MaxPooling2D(pool_size=(2,2)))\n",
        "model.add(Dropout(0.25))\n",
        "model.add(Flatten())\n",
        "model.add(Dense(128, activation='relu'))\n",
        "model.add(Dropout(0.5))\n",
        "model.add(Dense(21, activation='softmax'))\n",
        "model.compile(loss='categorical_crossentropy',\n",
        "            optimizer='adam',\n",
        "            metrics=['accuracy'])"
      ],
      "execution_count": 0,
      "outputs": []
    },
    {
      "cell_type": "code",
      "metadata": {
        "id": "Cvem0vm1Nb2d",
        "colab_type": "code",
        "colab": {
          "base_uri": "https://localhost:8080/",
          "height": 51
        },
        "outputId": "3ef5ca23-2e89-4e8e-c333-53a23a20365c"
      },
      "source": [
        "train_datagen = ImageDataGenerator(\n",
        "    rotation_range = 40,                  \n",
        "    width_shift_range = 0.2,                  \n",
        "    height_shift_range = 0.2,                  \n",
        "    rescale = 1./255,                  \n",
        "    shear_range = 0.2,                  \n",
        "    zoom_range = 0.2,                     \n",
        "    horizontal_flip = True)\n",
        "validation_datagen = ImageDataGenerator(rescale = 1./255)\n",
        "train_generator = train_datagen.flow_from_directory(\n",
        "    path+'/drive/My Drive/ucmerced/UCMerced_LandUse/output/train',\n",
        "    target_size=(IMG_SIZE,IMG_SIZE),\n",
        "    class_mode='categorical',\n",
        "    batch_size = BATCH_SIZE)\n",
        "validation_generator = validation_datagen.flow_from_directory(\n",
        "    path+'/drive/My Drive/ucmerced/UCMerced_LandUse/output/val',\n",
        "    target_size=(IMG_SIZE,IMG_SIZE),\n",
        "    class_mode='categorical',\n",
        "    batch_size = BATCH_SIZE)"
      ],
      "execution_count": 32,
      "outputs": [
        {
          "output_type": "stream",
          "text": [
            "Found 1680 images belonging to 21 classes.\n",
            "Found 420 images belonging to 21 classes.\n"
          ],
          "name": "stdout"
        }
      ]
    },
    {
      "cell_type": "code",
      "metadata": {
        "id": "HAhg5_KuN_3R",
        "colab_type": "code",
        "colab": {
          "base_uri": "https://localhost:8080/",
          "height": 1000
        },
        "outputId": "306bda90-7438-4645-c495-92f3d617a1a2"
      },
      "source": [
        "start = time.time()\n",
        "model.fit_generator(\n",
        "    train_generator,\n",
        "    steps_per_epoch=NB_TRAIN_IMG//BATCH_SIZE,\n",
        "    epochs=50,\n",
        "    validation_data=validation_generator,\n",
        "    validation_steps=NB_VALID_IMG//BATCH_SIZE)\n",
        "end = time.time()\n",
        "print('Processing time:',(end - start)/60)\n",
        "model.save_weights('cnn_baseline.h5')\n"
      ],
      "execution_count": 33,
      "outputs": [
        {
          "output_type": "stream",
          "text": [
            "Epoch 1/50\n",
            "WARNING:tensorflow:From /usr/local/lib/python3.6/dist-packages/keras/backend/tensorflow_backend.py:190: The name tf.get_default_session is deprecated. Please use tf.compat.v1.get_default_session instead.\n",
            "\n",
            "WARNING:tensorflow:From /usr/local/lib/python3.6/dist-packages/keras/backend/tensorflow_backend.py:197: The name tf.ConfigProto is deprecated. Please use tf.compat.v1.ConfigProto instead.\n",
            "\n",
            "WARNING:tensorflow:From /usr/local/lib/python3.6/dist-packages/keras/backend/tensorflow_backend.py:207: The name tf.global_variables is deprecated. Please use tf.compat.v1.global_variables instead.\n",
            "\n",
            "WARNING:tensorflow:From /usr/local/lib/python3.6/dist-packages/keras/backend/tensorflow_backend.py:216: The name tf.is_variable_initialized is deprecated. Please use tf.compat.v1.is_variable_initialized instead.\n",
            "\n",
            "WARNING:tensorflow:From /usr/local/lib/python3.6/dist-packages/keras/backend/tensorflow_backend.py:223: The name tf.variables_initializer is deprecated. Please use tf.compat.v1.variables_initializer instead.\n",
            "\n",
            "52/52 [==============================] - 27s 517ms/step - loss: 3.5415 - acc: 0.0469 - val_loss: 2.9550 - val_acc: 0.0649\n",
            "Epoch 2/50\n",
            "52/52 [==============================] - 23s 450ms/step - loss: 2.9625 - acc: 0.0733 - val_loss: 2.9043 - val_acc: 0.0670\n",
            "Epoch 3/50\n",
            "52/52 [==============================] - 23s 433ms/step - loss: 2.9108 - acc: 0.0938 - val_loss: 2.8215 - val_acc: 0.1289\n",
            "Epoch 4/50\n",
            "52/52 [==============================] - 23s 435ms/step - loss: 2.8664 - acc: 0.1124 - val_loss: 2.7829 - val_acc: 0.1134\n",
            "Epoch 5/50\n",
            "52/52 [==============================] - 23s 435ms/step - loss: 2.8349 - acc: 0.1202 - val_loss: 2.7729 - val_acc: 0.1289\n",
            "Epoch 6/50\n",
            "52/52 [==============================] - 23s 433ms/step - loss: 2.7777 - acc: 0.1496 - val_loss: 2.5852 - val_acc: 0.2448\n",
            "Epoch 7/50\n",
            "52/52 [==============================] - 23s 437ms/step - loss: 2.6798 - acc: 0.1809 - val_loss: 2.6717 - val_acc: 0.1289\n",
            "Epoch 8/50\n",
            "52/52 [==============================] - 22s 432ms/step - loss: 2.6577 - acc: 0.1677 - val_loss: 2.2444 - val_acc: 0.2500\n",
            "Epoch 9/50\n",
            "52/52 [==============================] - 23s 440ms/step - loss: 2.5155 - acc: 0.2194 - val_loss: 2.5078 - val_acc: 0.2655\n",
            "Epoch 10/50\n",
            "52/52 [==============================] - 23s 435ms/step - loss: 2.4492 - acc: 0.2314 - val_loss: 2.2140 - val_acc: 0.3119\n",
            "Epoch 11/50\n",
            "52/52 [==============================] - 22s 430ms/step - loss: 2.3395 - acc: 0.2590 - val_loss: 2.0819 - val_acc: 0.3351\n",
            "Epoch 12/50\n",
            "52/52 [==============================] - 23s 438ms/step - loss: 2.2155 - acc: 0.3047 - val_loss: 2.0445 - val_acc: 0.3918\n",
            "Epoch 13/50\n",
            "52/52 [==============================] - 22s 431ms/step - loss: 2.1886 - acc: 0.3023 - val_loss: 2.0033 - val_acc: 0.3325\n",
            "Epoch 14/50\n",
            "52/52 [==============================] - 22s 428ms/step - loss: 2.2143 - acc: 0.2963 - val_loss: 2.0011 - val_acc: 0.3737\n",
            "Epoch 15/50\n",
            "52/52 [==============================] - 23s 435ms/step - loss: 2.1204 - acc: 0.3239 - val_loss: 1.9805 - val_acc: 0.3942\n",
            "Epoch 16/50\n",
            "52/52 [==============================] - 23s 447ms/step - loss: 2.0567 - acc: 0.3426 - val_loss: 2.1104 - val_acc: 0.3402\n",
            "Epoch 17/50\n",
            "52/52 [==============================] - 23s 433ms/step - loss: 2.0551 - acc: 0.3552 - val_loss: 1.8103 - val_acc: 0.4510\n",
            "Epoch 18/50\n",
            "52/52 [==============================] - 23s 437ms/step - loss: 1.9892 - acc: 0.3732 - val_loss: 1.7645 - val_acc: 0.4407\n",
            "Epoch 19/50\n",
            "52/52 [==============================] - 23s 435ms/step - loss: 1.9240 - acc: 0.3948 - val_loss: 1.8418 - val_acc: 0.4098\n",
            "Epoch 20/50\n",
            "52/52 [==============================] - 22s 432ms/step - loss: 1.9162 - acc: 0.3936 - val_loss: 1.7207 - val_acc: 0.4665\n",
            "Epoch 21/50\n",
            "52/52 [==============================] - 23s 437ms/step - loss: 1.9041 - acc: 0.3750 - val_loss: 1.6713 - val_acc: 0.4588\n",
            "Epoch 22/50\n",
            "52/52 [==============================] - 23s 436ms/step - loss: 1.8454 - acc: 0.4044 - val_loss: 1.7797 - val_acc: 0.4149\n",
            "Epoch 23/50\n",
            "52/52 [==============================] - 23s 439ms/step - loss: 1.8619 - acc: 0.3990 - val_loss: 1.6119 - val_acc: 0.5077\n",
            "Epoch 24/50\n",
            "52/52 [==============================] - 22s 429ms/step - loss: 1.8242 - acc: 0.4225 - val_loss: 1.7215 - val_acc: 0.4665\n",
            "Epoch 25/50\n",
            "52/52 [==============================] - 23s 434ms/step - loss: 1.8220 - acc: 0.4062 - val_loss: 1.6323 - val_acc: 0.4588\n",
            "Epoch 26/50\n",
            "52/52 [==============================] - 22s 432ms/step - loss: 1.7803 - acc: 0.4255 - val_loss: 1.6124 - val_acc: 0.5077\n",
            "Epoch 27/50\n",
            "52/52 [==============================] - 22s 432ms/step - loss: 1.8012 - acc: 0.4116 - val_loss: 1.6087 - val_acc: 0.4923\n",
            "Epoch 28/50\n",
            "52/52 [==============================] - 22s 431ms/step - loss: 1.7421 - acc: 0.4339 - val_loss: 1.6178 - val_acc: 0.4923\n",
            "Epoch 29/50\n",
            "52/52 [==============================] - 23s 439ms/step - loss: 1.7430 - acc: 0.4375 - val_loss: 1.6292 - val_acc: 0.4784\n",
            "Epoch 30/50\n",
            "52/52 [==============================] - 23s 445ms/step - loss: 1.6835 - acc: 0.4573 - val_loss: 1.5028 - val_acc: 0.5412\n",
            "Epoch 31/50\n",
            "52/52 [==============================] - 23s 437ms/step - loss: 1.6867 - acc: 0.4537 - val_loss: 1.4857 - val_acc: 0.5206\n",
            "Epoch 32/50\n",
            "52/52 [==============================] - 22s 426ms/step - loss: 1.6697 - acc: 0.4538 - val_loss: 1.5583 - val_acc: 0.4742\n",
            "Epoch 33/50\n",
            "52/52 [==============================] - 23s 435ms/step - loss: 1.7239 - acc: 0.4423 - val_loss: 1.6615 - val_acc: 0.4639\n",
            "Epoch 34/50\n",
            "52/52 [==============================] - 22s 429ms/step - loss: 1.6112 - acc: 0.4916 - val_loss: 1.4178 - val_acc: 0.5593\n",
            "Epoch 35/50\n",
            "52/52 [==============================] - 23s 436ms/step - loss: 1.5525 - acc: 0.4958 - val_loss: 1.3527 - val_acc: 0.5644\n",
            "Epoch 36/50\n",
            "52/52 [==============================] - 22s 424ms/step - loss: 1.5852 - acc: 0.4880 - val_loss: 1.3720 - val_acc: 0.5928\n",
            "Epoch 37/50\n",
            "52/52 [==============================] - 23s 443ms/step - loss: 1.5423 - acc: 0.5066 - val_loss: 1.3288 - val_acc: 0.6186\n",
            "Epoch 38/50\n",
            "52/52 [==============================] - 22s 425ms/step - loss: 1.5591 - acc: 0.4868 - val_loss: 1.3264 - val_acc: 0.5954\n",
            "Epoch 39/50\n",
            "52/52 [==============================] - 23s 436ms/step - loss: 1.5257 - acc: 0.4850 - val_loss: 1.3095 - val_acc: 0.5799\n",
            "Epoch 40/50\n",
            "52/52 [==============================] - 22s 432ms/step - loss: 1.4857 - acc: 0.5270 - val_loss: 1.1701 - val_acc: 0.6263\n",
            "Epoch 41/50\n",
            "52/52 [==============================] - 23s 435ms/step - loss: 1.4314 - acc: 0.5156 - val_loss: 1.2112 - val_acc: 0.6521\n",
            "Epoch 42/50\n",
            "52/52 [==============================] - 22s 431ms/step - loss: 1.4538 - acc: 0.5217 - val_loss: 1.2838 - val_acc: 0.5902\n",
            "Epoch 43/50\n",
            "52/52 [==============================] - 22s 431ms/step - loss: 1.4445 - acc: 0.5228 - val_loss: 1.2385 - val_acc: 0.6346\n",
            "Epoch 44/50\n",
            "52/52 [==============================] - 23s 446ms/step - loss: 1.4070 - acc: 0.5391 - val_loss: 1.1719 - val_acc: 0.6418\n",
            "Epoch 45/50\n",
            "52/52 [==============================] - 22s 433ms/step - loss: 1.4513 - acc: 0.5180 - val_loss: 1.1936 - val_acc: 0.6134\n",
            "Epoch 46/50\n",
            "52/52 [==============================] - 22s 431ms/step - loss: 1.3822 - acc: 0.5379 - val_loss: 1.0987 - val_acc: 0.6624\n",
            "Epoch 47/50\n",
            "52/52 [==============================] - 22s 430ms/step - loss: 1.3357 - acc: 0.5565 - val_loss: 1.1657 - val_acc: 0.6211\n",
            "Epoch 48/50\n",
            "52/52 [==============================] - 23s 437ms/step - loss: 1.4250 - acc: 0.5270 - val_loss: 1.1104 - val_acc: 0.6340\n",
            "Epoch 49/50\n",
            "52/52 [==============================] - 22s 428ms/step - loss: 1.3811 - acc: 0.5415 - val_loss: 1.2024 - val_acc: 0.6186\n",
            "Epoch 50/50\n",
            "52/52 [==============================] - 23s 434ms/step - loss: 1.3613 - acc: 0.5511 - val_loss: 1.0532 - val_acc: 0.6933\n",
            "Processing time: 18.898636921246847\n"
          ],
          "name": "stdout"
        }
      ]
    },
    {
      "cell_type": "code",
      "metadata": {
        "id": "QE2BQlckTcWQ",
        "colab_type": "code",
        "colab": {}
      },
      "source": [
        ""
      ],
      "execution_count": 0,
      "outputs": []
    }
  ]
}